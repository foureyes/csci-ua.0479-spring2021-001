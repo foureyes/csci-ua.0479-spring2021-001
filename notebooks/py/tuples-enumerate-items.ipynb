{
 "cells": [
  {
   "cell_type": "markdown",
   "metadata": {},
   "source": [
    "# Review Sequence Types\n",
    "\n",
    "## Sequence Types\n",
    "\n",
    "* `list`\n",
    "* str\n",
    "* tuple"
   ]
  },
  {
   "cell_type": "markdown",
   "metadata": {},
   "source": [
    "## Tuples\n",
    "\n",
    "### Syntax\n",
    "Use commas to create a tuple (parens are optional, unless there's potential ambiguity)."
   ]
  },
  {
   "cell_type": "code",
   "execution_count": 26,
   "metadata": {},
   "outputs": [
    {
     "name": "stdout",
     "output_type": "stream",
     "text": [
      "<class 'tuple'> (1, 2, 3)\n",
      "<class 'tuple'> ('lonely',)\n",
      "(1, 2, 3) 4\n"
     ]
    }
   ],
   "source": [
    "# commas make a tuple\n",
    "t1 = 1, 2, 3\n",
    "print(type(t1), t1)\n",
    "\n",
    "# a tuple with one element\n",
    "t2 = 'lonely',\n",
    "print(type(t2), t2)\n",
    "\n",
    "# must surround with parens if ambiguity (in this case, function call... only two args passed to print, tuple and int)\n",
    "print((1, 2, 3), 4)"
   ]
  },
  {
   "cell_type": "markdown",
   "metadata": {},
   "source": [
    "### You may have seen tuples before:\n",
    "\n",
    "1. multiple assignment (tuple unpacking)\n",
    "2. string formatting with percent\n",
    "3. multiple return values (tuple unpacking)"
   ]
  },
  {
   "cell_type": "code",
   "execution_count": 22,
   "metadata": {},
   "outputs": [
    {
     "name": "stdout",
     "output_type": "stream",
     "text": [
      "foo bar baz\n"
     ]
    }
   ],
   "source": [
    "# multiple assignment\n",
    "a, b, c = 'foo', 'bar', 'baz'\n",
    "print(a, b, c)"
   ]
  },
  {
   "cell_type": "code",
   "execution_count": 23,
   "metadata": {},
   "outputs": [
    {
     "name": "stdout",
     "output_type": "stream",
     "text": [
      "1 2 3\n"
     ]
    }
   ],
   "source": [
    "# multiple assignment, tuple\n",
    "t = 1, 2, 3\n",
    "x, y, z = t\n",
    "print(x, y, z)"
   ]
  },
  {
   "cell_type": "code",
   "execution_count": 24,
   "metadata": {},
   "outputs": [
    {
     "data": {
      "text/plain": [
       "'hi my name is joe and i like eating lychees'"
      ]
     },
     "execution_count": 24,
     "metadata": {},
     "output_type": "execute_result"
    }
   ],
   "source": [
    "# string formatting with percent\n",
    "\"hi my name is %s and i like eating %s\" % ('joe', 'lychees') "
   ]
  },
  {
   "cell_type": "code",
   "execution_count": 25,
   "metadata": {},
   "outputs": [],
   "source": [
    "# multiple return values\n",
    "def two_things():\n",
    "    return 1, 2\n",
    "a, b = two_things()"
   ]
  },
  {
   "cell_type": "markdown",
   "metadata": {},
   "source": [
    "## Tuple unpacking in a for loop"
   ]
  },
  {
   "cell_type": "code",
   "execution_count": 32,
   "metadata": {},
   "outputs": [
    {
     "name": "stdout",
     "output_type": "stream",
     "text": [
      "x:1, y:2, z:3\n",
      "x:4, y:5, z:6\n",
      "x:7, y:8, z:9\n"
     ]
    }
   ],
   "source": [
    "# tuple unpacking can be used to assign values to loop variables....\n",
    "# we have three loop variables; this is possible because each element\n",
    "# in list is 3-element tuple\n",
    "for x, y, z in [(1, 2, 3), (4, 5, 6), (7, 8, 9)]:\n",
    "    print(f'x:{x}, y:{y}, z:{z}')"
   ]
  },
  {
   "cell_type": "code",
   "execution_count": 38,
   "metadata": {},
   "outputs": [],
   "source": [
    "# a list of artists, both little and not little:\n",
    "artists = ['lil uzi vert', 'lil baby', 'lil nas x', 'lil yachty', 'lil kim', 'joji', 'drake']"
   ]
  },
  {
   "cell_type": "code",
   "execution_count": 39,
   "metadata": {},
   "outputs": [
    {
     "data": {
      "text/plain": [
       "['lil uzi vert',\n",
       " 'lil baby',\n",
       " 'lil nas x',\n",
       " 'lil yachty',\n",
       " 'lil kim',\n",
       " 'joji',\n",
       " 'drake']"
      ]
     },
     "execution_count": 39,
     "metadata": {},
     "output_type": "execute_result"
    }
   ],
   "source": [
    "artists"
   ]
  },
  {
   "cell_type": "code",
   "execution_count": 40,
   "metadata": {},
   "outputs": [
    {
     "name": "stdout",
     "output_type": "stream",
     "text": [
      "lil uzi vert\n",
      "lil baby\n",
      "lil nas x\n",
      "lil yachty\n",
      "lil kim\n",
      "joji\n",
      "drake\n"
     ]
    }
   ],
   "source": [
    "# regular for loop\n",
    "for ele in artists:\n",
    "    print(ele)"
   ]
  },
  {
   "cell_type": "markdown",
   "metadata": {},
   "source": [
    "### Enumerate\n",
    "\n",
    "Gives back _list-like_ object that contains tuples; each tuple contains an index and the element at that index"
   ]
  },
  {
   "cell_type": "code",
   "execution_count": 41,
   "metadata": {},
   "outputs": [],
   "source": [
    "temp = enumerate(artists)"
   ]
  },
  {
   "cell_type": "code",
   "execution_count": 42,
   "metadata": {},
   "outputs": [
    {
     "data": {
      "text/plain": [
       "<enumerate at 0x104de3f78>"
      ]
     },
     "execution_count": 42,
     "metadata": {},
     "output_type": "execute_result"
    }
   ],
   "source": [
    "temp # wat? does this even mean???"
   ]
  },
  {
   "cell_type": "code",
   "execution_count": 43,
   "metadata": {},
   "outputs": [
    {
     "data": {
      "text/plain": [
       "[(0, 'lil uzi vert'),\n",
       " (1, 'lil baby'),\n",
       " (2, 'lil nas x'),\n",
       " (3, 'lil yachty'),\n",
       " (4, 'lil kim'),\n",
       " (5, 'joji'),\n",
       " (6, 'drake')]"
      ]
     },
     "execution_count": 43,
     "metadata": {},
     "output_type": "execute_result"
    }
   ],
   "source": [
    "# see? list-like collection of tuples\n",
    "list(temp)"
   ]
  },
  {
   "cell_type": "code",
   "execution_count": 44,
   "metadata": {},
   "outputs": [
    {
     "name": "stdout",
     "output_type": "stream",
     "text": [
      "1 lil uzi vert\n",
      "2 lil baby\n",
      "3 lil nas x\n",
      "4 lil yachty\n",
      "5 lil kim\n",
      "6 joji\n",
      "7 drake\n"
     ]
    }
   ],
   "source": [
    "# use enumerate if u want index and value; for instance...\n",
    "for i, v in enumerate(artists):\n",
    "    print(i + 1, v)"
   ]
  },
  {
   "cell_type": "markdown",
   "metadata": {},
   "source": [
    "### Items\n",
    "\n",
    "Gives back all keys and values of `dict` as _list-like_ object containing tuples of key and value pairs"
   ]
  },
  {
   "cell_type": "code",
   "execution_count": 45,
   "metadata": {},
   "outputs": [],
   "source": [
    "d = {'first':'joe', 'last': 'v', 'room': 422}"
   ]
  },
  {
   "cell_type": "code",
   "execution_count": 46,
   "metadata": {},
   "outputs": [
    {
     "name": "stdout",
     "output_type": "stream",
     "text": [
      "first\n",
      "last\n",
      "room\n"
     ]
    }
   ],
   "source": [
    "for something in d:\n",
    "    print(something)"
   ]
  },
  {
   "cell_type": "code",
   "execution_count": 47,
   "metadata": {},
   "outputs": [
    {
     "name": "stdout",
     "output_type": "stream",
     "text": [
      "first joe\n",
      "last v\n",
      "room 422\n"
     ]
    }
   ],
   "source": [
    "# printing keys and values by using \"regular loop\"\n",
    "for k in d:\n",
    "    print(k, d[k])"
   ]
  },
  {
   "cell_type": "code",
   "execution_count": 48,
   "metadata": {},
   "outputs": [
    {
     "name": "stdout",
     "output_type": "stream",
     "text": [
      "first joe\n",
      "last v\n",
      "room 422\n"
     ]
    }
   ],
   "source": [
    "# now w/ items\n",
    "for k, v in d.items():\n",
    "    print(k, v)"
   ]
  }
 ],
 "metadata": {
  "kernelspec": {
   "display_name": "Python 3",
   "language": "python",
   "name": "python3"
  },
  "language_info": {
   "codemirror_mode": {
    "name": "ipython",
    "version": 3
   },
   "file_extension": ".py",
   "mimetype": "text/x-python",
   "name": "python",
   "nbconvert_exporter": "python",
   "pygments_lexer": "ipython3",
   "version": "3.8.2"
  }
 },
 "nbformat": 4,
 "nbformat_minor": 4
}
