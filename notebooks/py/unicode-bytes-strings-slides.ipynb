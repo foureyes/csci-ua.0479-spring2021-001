{
 "cells": [
  {
   "cell_type": "markdown",
   "metadata": {
    "slideshow": {
     "slide_type": "slide"
    }
   },
   "source": [
    "# Unicode, Encoding, Bytes and Strings\n",
    "\n"
   ]
  },
  {
   "cell_type": "markdown",
   "metadata": {
    "slideshow": {
     "slide_type": "slide"
    }
   },
   "source": [
    "## How Does a Computer Store Data?\n",
    "\n",
    "Bits! ... 0's and 1's.\n",
    "\n",
    "__How do we encode numbers into 0's and 1's... what about characters?__ &rarr;"
   ]
  },
  {
   "cell_type": "markdown",
   "metadata": {
    "slideshow": {
     "slide_type": "slide"
    }
   },
   "source": [
    "## Straightforward for Numbers: Binary!"
   ]
  },
  {
   "cell_type": "markdown",
   "metadata": {
    "slideshow": {
     "slide_type": "fragment"
    }
   },
   "source": [
    "* use some set number of bits to represent:\n",
    "* whole numbers... or floating point numbers\n",
    "* maybe some bits can be reserved for:\n",
    "    * where to place decimal point\n",
    "    * positive or negative\n",
    "* need _moar_ values? add more bits!"
   ]
  },
  {
   "cell_type": "markdown",
   "metadata": {
    "slideshow": {
     "slide_type": "slide"
    }
   },
   "source": [
    "## A Refresher\n",
    "\n",
    "__Do you remember how binary numbers work?__ &rarr;"
   ]
  },
  {
   "cell_type": "markdown",
   "metadata": {
    "slideshow": {
     "slide_type": "fragment"
    }
   },
   "source": [
    "* a __binary number__ is composed of bits\n",
    "* a __bit__ can contain a 0 or 1\n",
    "* a __byte__ is 8 bits\n",
    "* in a byte (assuming a specific architecture), the least significant bit (last bit) is the number of 2^0 or 1's, follwed by 2's, 4's, 8's, 16's, etc.\n",
    "* the most significant bit in a byte is 128's\n",
    "* to calculate the value in based 10, sum the prodcuts of the bits and their places"
   ]
  },
  {
   "cell_type": "markdown",
   "metadata": {
    "slideshow": {
     "slide_type": "slide"
    }
   },
   "source": [
    "## An Example\n",
    "\n",
    "__What is `10000011` in decimal__ &rarr;"
   ]
  },
  {
   "cell_type": "markdown",
   "metadata": {
    "slideshow": {
     "slide_type": "fragment"
    }
   },
   "source": [
    "\n",
    "```\n",
    "1   | 0   | 0   | 0   | 0   | 0   | 1   | 1\n",
    "----+-----+-----+-----+-----+-----+-----+-----\n",
    "2^7 | 2^6 | 2^5 | 2^4 | 2^3 | 2^2 | 2^1 | 2^0\n",
    "128 | 64  | 32  | 16  | 8   | 4   | 2   | 1\n",
    "```\n",
    "\n",
    "```\n",
    "(1 * 128) + (1 * 2) + (1 * 1)\n",
    "```\n",
    "\n",
    "```\n",
    "10000011 = 131\n",
    "```"
   ]
  },
  {
   "cell_type": "markdown",
   "metadata": {
    "slideshow": {
     "slide_type": "slide"
    }
   },
   "source": [
    "## Some Useful Tools\n",
    "\n",
    "You can use `int` and `format` to convert binary to decimal and decimal to binary:"
   ]
  },
  {
   "cell_type": "code",
   "execution_count": 4,
   "metadata": {
    "slideshow": {
     "slide_type": "fragment"
    }
   },
   "outputs": [
    {
     "data": {
      "text/plain": [
       "4"
      ]
     },
     "execution_count": 4,
     "metadata": {},
     "output_type": "execute_result"
    }
   ],
   "source": [
    "int('100', 2) "
   ]
  },
  {
   "cell_type": "code",
   "execution_count": 6,
   "metadata": {
    "slideshow": {
     "slide_type": "fragment"
    }
   },
   "outputs": [
    {
     "data": {
      "text/plain": [
       "'100'"
      ]
     },
     "execution_count": 6,
     "metadata": {},
     "output_type": "execute_result"
    }
   ],
   "source": [
    "format(4, 'b')"
   ]
  },
  {
   "cell_type": "markdown",
   "metadata": {
    "slideshow": {
     "slide_type": "slide"
    }
   },
   "source": [
    "## For Text: Map Numbers to Characters"
   ]
  },
  {
   "cell_type": "markdown",
   "metadata": {
    "slideshow": {
     "slide_type": "fragment"
    }
   },
   "source": [
    "Map numbers (_code points_) to corresponding characters...\n",
    "\n",
    "* for example: 65 -> A\n",
    "* you may have a table of mappings from code points to characters (something like [http://www.asciitable.com](http://www.asciitable.com))\n",
    "* those mappings have to be encoded into (some number of) bits"
   ]
  },
  {
   "cell_type": "markdown",
   "metadata": {
    "slideshow": {
     "slide_type": "slide"
    }
   },
   "source": [
    "## Prove It! (In 🐍)"
   ]
  },
  {
   "cell_type": "code",
   "execution_count": null,
   "metadata": {
    "slideshow": {
     "slide_type": "fragment"
    }
   },
   "outputs": [],
   "source": [
    "# ord and chr will convert to and from a character and code\n",
    "# point\n",
    "print(ord('A'))\n",
    "print(chr(65))"
   ]
  },
  {
   "cell_type": "markdown",
   "metadata": {
    "slideshow": {
     "slide_type": "slide"
    }
   },
   "source": [
    "## ASCII"
   ]
  },
  {
   "cell_type": "markdown",
   "metadata": {
    "slideshow": {
     "slide_type": "fragment"
    }
   },
   "source": [
    "* ASCII is encoded using 7 bits (or 8 for extended!)\n",
    "    * this is ~ 128 different values\n",
    "    * good for a-z, A-Z, 0-9 etc.\n",
    "    * not so good if you live in Korea, Pakistan or any other country with a language that contains different character sets\n",
    "    * not so good if you want to send 🤢 or other emoji\n",
    "* ASCII is both the name of the mapping and name of the encoding"
   ]
  },
  {
   "cell_type": "markdown",
   "metadata": {
    "slideshow": {
     "slide_type": "slide"
    }
   },
   "source": [
    "## _Other Encodings_\n",
    "\n",
    "* Because ASCII was limited, *many* other encodings were created. I mean, [many encodings](https://en.wikipedia.org/wiki/Character_encoding#Common_character_encodings). \n",
    "* These encodings weren't guaranteed to have common mappings, even if they were meant to represent the same character set! 😩\n",
    "\n",
    "__What to do?__ &rarr;"
   ]
  },
  {
   "cell_type": "markdown",
   "metadata": {
    "slideshow": {
     "slide_type": "slide"
    }
   },
   "source": [
    "## Unicode\n",
    "\n",
    "Unicode is the name of a mapping of _code points_ only (it does not specify encoding!). It can represent over 1 million characters! Everything from Cyrillic to all of your fav emoji 🙌 🤯.\n"
   ]
  },
  {
   "cell_type": "markdown",
   "metadata": {
    "slideshow": {
     "slide_type": "slide"
    }
   },
   "source": [
    "\n",
    "## MOAR Unicode\n",
    "The links below show some tables. Code points may be represented in binary, decimal, and hexidecimal. Many tables use hexadecimal... but resulting code point is still same value.\n",
    "\n",
    "* unicode.org has all the charts: [https://unicode.org/charts/](https://unicode.org/charts/)\n",
    "* the first 128 characters are backward compatible with ASCII: [https://unicode.org/charts/PDF/U0000.pdf](https://unicode.org/charts/PDF/U0000.pdf)\n",
    "* here are some emoji mappings if want 'em 🙏: [https://unicode.org/emoji/charts/full-emoji-list.html](https://unicode.org/emoji/charts/full-emoji-list.html)\n",
    "\n"
   ]
  },
  {
   "cell_type": "markdown",
   "metadata": {
    "slideshow": {
     "slide_type": "slide"
    }
   },
   "source": [
    "## Encodings for Unicode\n",
    "\n",
    "Again, unicode is just the name of the mapping from code points to characters. Want to actually _encode_ a character? You haz some choices:"
   ]
  },
  {
   "cell_type": "markdown",
   "metadata": {
    "slideshow": {
     "slide_type": "fragment"
    }
   },
   "source": [
    "* `utf-8`: variable length (1 to 4 bytes)\n",
    "* `utf-16`: (2 bytes or 4 bytes)\n",
    "* `utf-32`: (4 bytes)"
   ]
  },
  {
   "cell_type": "markdown",
   "metadata": {
    "slideshow": {
     "slide_type": "slide"
    }
   },
   "source": [
    "## utf-8\n",
    "\n",
    "Can store characters in 1 byte or as many as 4 bytes (variable length encoding)\n",
    "\n",
    "* even though only 8 bits / 1 byte, can represent other unicode characters by adding additional bytes \n",
    "* higher bytes (left most) specify whether or not other bytes should be combined \n",
    "* for example, if left-most bit is 0, then character can be represented by a single byte\n",
    "* if first bit is 1, then multiple bytes needed to represent character!"
   ]
  },
  {
   "cell_type": "markdown",
   "metadata": {
    "slideshow": {
     "slide_type": "slide"
    }
   },
   "source": [
    "## utf-8, Multiple Bytes\n",
    "\n",
    "* starting with 110xxxxx means two bytes needed\n",
    "* starting with 1110xxxx means three bytes needed\n",
    "* __see a pattern?__ &rarr;"
   ]
  },
  {
   "cell_type": "markdown",
   "metadata": {
    "slideshow": {
     "slide_type": "slide"
    }
   },
   "source": [
    "## utf-8, Multiple Bytes\n",
    "\n",
    "* number of 1's specifies number of bytes to represent character\n",
    "* additional / continuation bytes are prefixed with 10\n",
    "* so, take the binary representation of a code point and fill in the x's\n",
    "* for something that needs 4 bytes to represent:\n",
    "    * `11110xxx` `10xxxxxx` `10xxxxxx` `10xxxxx`\n",
    "    * first 4 1's and 0 mean 4 bytes\n",
    "    * remaining 3 bytes are prefixed with 10\n",
    "    * fill in x's with bits from binary representation of code point"
   ]
  },
  {
   "cell_type": "markdown",
   "metadata": {
    "slideshow": {
     "slide_type": "slide"
    }
   },
   "source": [
    "## Before We Go On... Strings, chr, ord, Bytes, and Strings vs Bytes"
   ]
  },
  {
   "cell_type": "markdown",
   "metadata": {
    "slideshow": {
     "slide_type": "slide"
    }
   },
   "source": [
    "## Strings\n",
    "\n",
    "From the docs: \"The default encoding for Python source code is UTF-8, so you can simply include a Unicode character in a string literal\"... see below!"
   ]
  },
  {
   "cell_type": "code",
   "execution_count": 11,
   "metadata": {
    "slideshow": {
     "slide_type": "fragment"
    }
   },
   "outputs": [
    {
     "name": "stdout",
     "output_type": "stream",
     "text": [
      "also a string ☃\n"
     ]
    }
   ],
   "source": [
    "s = \"this is clearly a string\"\n",
    "s2 = \"also a string ☃\"\n",
    "print(s2)"
   ]
  },
  {
   "cell_type": "code",
   "execution_count": 12,
   "metadata": {
    "slideshow": {
     "slide_type": "fragment"
    }
   },
   "outputs": [
    {
     "name": "stdout",
     "output_type": "stream",
     "text": [
      "not sure 🙃\n"
     ]
    }
   ],
   "source": [
    "s3 = \"not sure 🙃\"\n",
    "print(s3)"
   ]
  },
  {
   "cell_type": "markdown",
   "metadata": {
    "slideshow": {
     "slide_type": "slide"
    }
   },
   "source": [
    "## chr and ord\n",
    "\n",
    "__What do these two built-in functions do again__ &rarr;"
   ]
  },
  {
   "cell_type": "markdown",
   "metadata": {
    "slideshow": {
     "slide_type": "fragment"
    }
   },
   "source": [
    "They map unicode characters to and from unicode code points (numbers):\n",
    "    \n",
    "* `ord` - returns the unicode code point of the character passed in\n",
    "* `chr` - retursn the character that the code point passed in maps to\n",
    "\n",
    "```\n",
    "ord('A') # 65\n",
    "chr(65) # B\n",
    "```\n",
    "\n",
    "__⚠These two functions handle mapping a number to a character!__"
   ]
  },
  {
   "cell_type": "markdown",
   "metadata": {
    "slideshow": {
     "slide_type": "slide"
    }
   },
   "source": [
    "## bytes Objects\n",
    "\n",
    "__If we want to deal with how character data is actually stored in bits/bytes, we can work with a `bytes` object:__\n",
    "\n",
    "From Python docs: \"Bytes objects are immutable sequences of single bytes.\" ...\n",
    "\n",
    "__one way to do this is with a sequence (for example, a list) of ints `0` - `255`__"
   ]
  },
  {
   "cell_type": "code",
   "execution_count": 32,
   "metadata": {
    "slideshow": {
     "slide_type": "fragment"
    }
   },
   "outputs": [
    {
     "data": {
      "text/plain": [
       "b'CAB'"
      ]
     },
     "execution_count": 32,
     "metadata": {},
     "output_type": "execute_result"
    }
   ],
   "source": [
    "b = bytes([67, 65, 66])\n",
    "b"
   ]
  },
  {
   "cell_type": "markdown",
   "metadata": {
    "slideshow": {
     "slide_type": "slide"
    }
   },
   "source": [
    "## bytes Can Also Simply be Created with Strings"
   ]
  },
  {
   "cell_type": "code",
   "execution_count": 33,
   "metadata": {
    "slideshow": {
     "slide_type": "fragment"
    }
   },
   "outputs": [],
   "source": [
    "b = b\"hello\""
   ]
  },
  {
   "cell_type": "code",
   "execution_count": 34,
   "metadata": {
    "slideshow": {
     "slide_type": "fragment"
    }
   },
   "outputs": [
    {
     "data": {
      "text/plain": [
       "104"
      ]
     },
     "execution_count": 34,
     "metadata": {},
     "output_type": "execute_result"
    }
   ],
   "source": [
    "b[0]"
   ]
  },
  {
   "cell_type": "code",
   "execution_count": 35,
   "metadata": {
    "slideshow": {
     "slide_type": "fragment"
    }
   },
   "outputs": [
    {
     "data": {
      "text/plain": [
       "104"
      ]
     },
     "execution_count": 35,
     "metadata": {},
     "output_type": "execute_result"
    }
   ],
   "source": [
    "ord('h')"
   ]
  },
  {
   "cell_type": "markdown",
   "metadata": {
    "slideshow": {
     "slide_type": "slide"
    }
   },
   "source": [
    "## Wait, Isn't That Just a String?"
   ]
  },
  {
   "cell_type": "code",
   "execution_count": 36,
   "metadata": {
    "slideshow": {
     "slide_type": "fragment"
    }
   },
   "outputs": [
    {
     "name": "stdout",
     "output_type": "stream",
     "text": [
      "<class 'TypeError'> can't concat str to bytes\n"
     ]
    }
   ],
   "source": [
    "try:\n",
    "    b + '!!!!!'\n",
    "except TypeError as e:\n",
    "    print(type(e), e)"
   ]
  },
  {
   "cell_type": "code",
   "execution_count": 37,
   "metadata": {
    "slideshow": {
     "slide_type": "fragment"
    }
   },
   "outputs": [
    {
     "data": {
      "text/plain": [
       "bytes"
      ]
     },
     "execution_count": 37,
     "metadata": {},
     "output_type": "execute_result"
    }
   ],
   "source": [
    "type(b)"
   ]
  },
  {
   "cell_type": "markdown",
   "metadata": {
    "slideshow": {
     "slide_type": "slide"
    }
   },
   "source": [
    "## Use `decode` Method to Convert to a String\n",
    "\n",
    "__Interpret a series of bytes as utf-8 using using a `byte` object's `decode` method__ &rarr;\n",
    "\n",
    "* it takes a single argument\n",
    "* the encoding to use when decoding the bytes"
   ]
  },
  {
   "cell_type": "code",
   "execution_count": 40,
   "metadata": {
    "slideshow": {
     "slide_type": "fragment"
    }
   },
   "outputs": [
    {
     "data": {
      "text/plain": [
       "'hello!'"
      ]
     },
     "execution_count": 40,
     "metadata": {},
     "output_type": "execute_result"
    }
   ],
   "source": [
    "b = b'hello!'\n",
    "b.decode('utf-8')\n",
    "# ... works as you expect!"
   ]
  },
  {
   "cell_type": "markdown",
   "metadata": {
    "slideshow": {
     "slide_type": "slide"
    }
   },
   "source": [
    "## Now Let's Try utf-16\n",
    "\n",
    "__What do you think will happen if we use `utf-16` as the encoding?__\n",
    "\n",
    "```\n",
    "b.decode('utf-16')\n",
    "```"
   ]
  },
  {
   "cell_type": "code",
   "execution_count": 41,
   "metadata": {
    "slideshow": {
     "slide_type": "fragment"
    }
   },
   "outputs": [
    {
     "data": {
      "text/plain": [
       "'敨汬Ⅿ'"
      ]
     },
     "execution_count": 41,
     "metadata": {},
     "output_type": "execute_result"
    }
   ],
   "source": [
    "b.decode('utf-16')\n",
    "# ... how about same bytes as utf-16"
   ]
  },
  {
   "cell_type": "markdown",
   "metadata": {
    "slideshow": {
     "slide_type": "slide"
    }
   },
   "source": [
    "\n",
    "## What? 🤔... Here's an actual example of utf8: \n",
    "\n",
    "First, you can find a nice [explanation on stackoverlow](https://stackoverflow.com/a/44568131).\n",
    "\n",
    "__But for now, let's check out 😂 ([tears of joy](https://www.fileformat.info/info/unicode/char/1f602/index.htm))__ &rarr;\n"
   ]
  },
  {
   "cell_type": "markdown",
   "metadata": {
    "slideshow": {
     "slide_type": "slide"
    }
   },
   "source": [
    "## 😂 ([tears of joy](https://www.fileformat.info/info/unicode/char/1f602/index.htm))\n",
    "\n",
    "    \n",
    "* Its unicode code point, in decimal is: `128514`\n",
    "* In binary, `128514` is `000011111011000000010` (with some 0 padding)\n",
    "* This can't be represented in a single byte or even 3 bytes in utf-8... but we can do it with 4 bytes\n",
    "* Here's the pattern for 4 bytes: `11110xxx 10xxxxxx 10xxxxxx 10xxxxxx`\n",
    "* Breaking up our binary representation of the code point to fit in the x's above, we have: `000 011111 011000 000010`\n",
    "* And, finally: `11110000 10011111 10011000 10000010`\n",
    "    "
   ]
  },
  {
   "cell_type": "markdown",
   "metadata": {
    "slideshow": {
     "slide_type": "slide"
    }
   },
   "source": [
    "## Let's prove that this works...\n",
    "\n",
    "The following shows that we can encode and decode using utf-8 using the rules above.\n",
    "\n",
    "* we can do it with a little bit of Python.\n",
    "* (it's a bit much; just knowing it's _possible_ is fine)\n",
    "\n",
    "👇"
   ]
  },
  {
   "cell_type": "code",
   "execution_count": 6,
   "metadata": {
    "slideshow": {
     "slide_type": "subslide"
    }
   },
   "outputs": [
    {
     "name": "stdout",
     "output_type": "stream",
     "text": [
      "Tears of joy: 😂\n",
      "============\n"
     ]
    }
   ],
   "source": [
    "# here is tears of joy...\n",
    "ch = '😂'\n",
    "print(f'Tears of joy: {ch}\\n============')"
   ]
  },
  {
   "cell_type": "code",
   "execution_count": 7,
   "metadata": {
    "slideshow": {
     "slide_type": "subslide"
    }
   },
   "outputs": [
    {
     "name": "stdout",
     "output_type": "stream",
     "text": [
      "Let's see the utf-8 encoding of 😂!\n",
      "----\n",
      "code point for 😂 is: 128514\n"
     ]
    }
   ],
   "source": [
    "# let's see the code point using ord\n",
    "print(f'Let\\'s see the utf-8 encoding of {ch}!\\n----')\n",
    "      \n",
    "code_point = ord(ch)\n",
    "print(f'code point for {ch} is: {code_point}')"
   ]
  },
  {
   "cell_type": "code",
   "execution_count": 4,
   "metadata": {
    "slideshow": {
     "slide_type": "subslide"
    }
   },
   "outputs": [
    {
     "name": "stdout",
     "output_type": "stream",
     "text": [
      "128514 is in binary is: 000011111011000000010\n"
     ]
    }
   ],
   "source": [
    "# let's see the binary version of the code point\n",
    "\n",
    "# this format specifier, 021b, means:\n",
    "# * pad with 0's\n",
    "# * there should be 21 total characters (# of x's based on pattern)\n",
    "# * format as binary number\n",
    "format_as_padded_bin = '021b'\n",
    "\n",
    "# use the format specifier as nested variable in \n",
    "# format string after colon\n",
    "padded_bin = f'{code_point:{format_as_padded_bin}}'\n",
    "print(f'{code_point} is in binary is: {padded_bin}')"
   ]
  },
  {
   "cell_type": "code",
   "execution_count": 5,
   "metadata": {
    "slideshow": {
     "slide_type": "subslide"
    }
   },
   "outputs": [
    {
     "name": "stdout",
     "output_type": "stream",
     "text": [
      "encoded as utf-8, in binary: 11110000100111111001100010000010\n"
     ]
    }
   ],
   "source": [
    "# distribute into 4 bytes: UTF-8 FTW!\n",
    "# fill bits into the x's in the pattern below:\n",
    "# 11110xxx 10xxxxxx 10xxxxxx 10xxxxxx\n",
    "a, b, c, d = padded_bin[:3], padded_bin[3:9], padded_bin[9:15], padded_bin[15:]\n",
    "encoded = f'11110{a}10{b}10{c}10{d}'\n",
    "print(f'encoded as utf-8, in binary: {encoded}')"
   ]
  },
  {
   "cell_type": "code",
   "execution_count": 6,
   "metadata": {
    "slideshow": {
     "slide_type": "subslide"
    }
   },
   "outputs": [
    {
     "name": "stdout",
     "output_type": "stream",
     "text": [
      "\n",
      "Let's go from utf-8 back to the actual character (decode), 😂\n",
      "----\n",
      "these are our bytes as strings in a list: ['11110000', '10011111', '10011000', '10000010']\n"
     ]
    }
   ],
   "source": [
    "# ok, let's test if this is encoded correctly by decoding it!\n",
    "print(f'\\nLet\\'s go from utf-8 back to the actual character (decode), {ch}\\n----')\n",
    "\n",
    "# let's turn this into a sequence of bytes, with each byte shown in binary (as a string)\n",
    "bytes_as_bin = list(encoded[i: i + 8] for i in range(0, 25, 8))\n",
    "print(f'these are our bytes as strings in a list: {bytes_as_bin}')\n"
   ]
  },
  {
   "cell_type": "code",
   "execution_count": 7,
   "metadata": {
    "slideshow": {
     "slide_type": "subslide"
    }
   },
   "outputs": [
    {
     "name": "stdout",
     "output_type": "stream",
     "text": [
      "decode those bytes to get the original character: 😂\n"
     ]
    }
   ],
   "source": [
    "# convert each string into an int, and use that to create a bytes object\n",
    "# call decode on bytes object to get back character\n",
    "# decode will decode a series of bytes using utf-8 \n",
    "# (though you can specify an encoding as a keyword arg)\n",
    "b = bytes([int(i, 2) for i in bytes_as_bin])\n",
    "print('decode those bytes to get the original character:', b.decode())"
   ]
  },
  {
   "cell_type": "markdown",
   "metadata": {
    "slideshow": {
     "slide_type": "fragment"
    }
   },
   "source": [
    "🛑"
   ]
  },
  {
   "cell_type": "markdown",
   "metadata": {
    "slideshow": {
     "slide_type": "slide"
    }
   },
   "source": [
    "## Addendum\n",
    "\n",
    "* Most of the characters in unicode (character sets from natural languages) are in the first ~65,000 code points (called the _Basic Multilingual Plane_). \n",
    "* Emoji exist above that, and typically require 4 bytes to represent.\n",
    "* There are some sequences of bytes that are invalid: for example, although `11000000 10XXXXXX` looks valid (110 means one continuation byte), this is not valid because XXXXXX can be 64 at most, which can be expressed as 1 byte (a valid start byte for a 2 byte sequence must be `11000010`)"
   ]
  },
  {
   "cell_type": "markdown",
   "metadata": {
    "slideshow": {
     "slide_type": "slide"
    }
   },
   "source": [
    "## Others Encoding Schemes: utf-16, utf-32\n",
    "\n",
    "* If using mostly ASCII characters, then utf-8 is a great choice. \n",
    "* However, if using many characters that can only be encoded in more than one byte, utf-32 (or, I guess, utf-16), might be a better option. \n"
   ]
  },
  {
   "cell_type": "markdown",
   "metadata": {
    "slideshow": {
     "slide_type": "slide"
    }
   },
   "source": [
    "## Why use utf-8 (usually)?"
   ]
  },
  {
   "cell_type": "markdown",
   "metadata": {
    "slideshow": {
     "slide_type": "fragment"
    }
   },
   "source": [
    "* if most of your characters can be encoded in 1 byte; use it! \n",
    "* it saves space... (why use 4 bytes to represent `A` when you can use 1?)"
   ]
  },
  {
   "cell_type": "markdown",
   "metadata": {
    "slideshow": {
     "slide_type": "slide"
    }
   },
   "source": [
    "## Why use utf-32 instead?"
   ]
  },
  {
   "cell_type": "markdown",
   "metadata": {
    "slideshow": {
     "slide_type": "fragment"
    }
   },
   "source": [
    "* if using lots of code points that require multiple bytes, it's a bit more complex decoding utf-8, since the number of bytes used per character has to be determined"
   ]
  },
  {
   "cell_type": "markdown",
   "metadata": {
    "slideshow": {
     "slide_type": "slide"
    }
   },
   "source": [
    "## Er? Y Does This Matter?\n",
    "\n",
    "__Why might knowing about encodings be useful?__ &rarr; \n"
   ]
  },
  {
   "cell_type": "markdown",
   "metadata": {
    "slideshow": {
     "slide_type": "fragment"
    }
   },
   "source": [
    "* ...Sometimes you source a file, but you don’t know what encoding it is!\n",
    "* (but how do you know what encoding it is?)"
   ]
  },
  {
   "cell_type": "markdown",
   "metadata": {
    "slideshow": {
     "slide_type": "slide"
    }
   },
   "source": [
    "## Decoding a File\n",
    "\n",
    "__How might you determine the encoding of a file?__ &rarr;"
   ]
  },
  {
   "cell_type": "markdown",
   "metadata": {
    "slideshow": {
     "slide_type": "fragment"
    }
   },
   "source": [
    "* If you have a series of bytes, you can decode with a scheme of your choice (utf-8, latin-1, etc.?)\n",
    "* Automatic detection of encoding is tricky! (no standard for embedding encoding a file, usually encoding not specified!)\n",
    "* Editors/viewers will use different strategies, but no guarantee guess will be right! 😮\n",
    "* btw, some tools: file and enca to guess at encoding... sublime, atom, etc. to load in different encoding\n",
    "* and, of course, Python can read files with different encodings (though default is utf-8)"
   ]
  },
  {
   "cell_type": "markdown",
   "metadata": {
    "slideshow": {
     "slide_type": "slide"
    }
   },
   "source": [
    "## Example / Mystery!\n",
    "\n",
    "Download this file in the same directory as your notebook:\n",
    "\n",
    "[https://www.gutenberg.org/files/4909/old/olavg10.txt](https://www.gutenberg.org/files/4909/old/olavg10.txt) \n",
    "\n",
    "Try to figure out how to _read_ it correctly. 🕵\n",
    "\n",
    "* open it in a text editor, what do you see?\n",
    "* reopen, but change encoding in your text editor of your choice; does that fix things?\n",
    "* note that most text editors, like sublime and atom, can be set to use a specific encoding\n",
    "* choose CP1251 or Window-1251"
   ]
  },
  {
   "cell_type": "markdown",
   "metadata": {
    "slideshow": {
     "slide_type": "slide"
    }
   },
   "source": [
    "## Examining Our Text with 🐍\n",
    "If you're unable to change the encoding, we can look at it with python too 👀:\n",
    "\n",
    "1. first as utf-8 (which causes an exception)\n",
    "2. then as cp1251 (which shows us cyrillic)\n",
    "\n",
    "👇"
   ]
  },
  {
   "cell_type": "code",
   "execution_count": 5,
   "metadata": {
    "slideshow": {
     "slide_type": "subslide"
    }
   },
   "outputs": [
    {
     "name": "stdout",
     "output_type": "stream",
     "text": [
      "Welp! Cannot decode this file... we are trying utf-8, but. it. is. not. that.\n",
      "'utf-8' codec can't decode byte 0xce in position 1494: invalid continuation byte\n"
     ]
    }
   ],
   "source": [
    "# we try to read the file with open\n",
    "# by default, it'll read it as utf-8\n",
    "# there are some invalid continuation characters\n",
    "# ... so we'll get an exception\n",
    "try:\n",
    "    with open('olavg10.txt', 'r') as f:\n",
    "        print(f.read())\n",
    "except FileNotFoundError as e:\n",
    "    print('ERROR!!!!!! plz download https://www.gutenberg.org/files/4909/old/olavg10.txt into same directory as this notebook first. k thx bai.')\n",
    "except UnicodeDecodeError as e:\n",
    "    print('Welp! Cannot decode this file... we are trying utf-8, but. it. is. not. that.')\n",
    "    print(e)"
   ]
  },
  {
   "cell_type": "code",
   "execution_count": 9,
   "metadata": {
    "slideshow": {
     "slide_type": "subslide"
    }
   },
   "outputs": [
    {
     "name": "stdout",
     "output_type": "stream",
     "text": [
      "a line in our text:\n",
      " Той и сам не знае кога е роден, но като го запитат, казва, че сега е на 36 години. Родното му градче, Грасдорф, е скътано в една гънка от росните поли на Харц, оная величествена планина, която лежи ка\n"
     ]
    }
   ],
   "source": [
    "# now let's use codecs.open so we can read the file with a specific encoding\n",
    "import codecs\n",
    "try:\n",
    "    with codecs.open('olavg10.txt', encoding='cp1251') as f:\n",
    "        lines = f.readlines()\n",
    "        print('a line in our text:\\n', lines[51][:100])\n",
    "except FileNotFoundError as e:\n",
    "    print('ERROR!!!!!! plz download https://www.gutenberg.org/files/4909/old/olavg10.txt into same directory as this notebook first. k thx bai.')"
   ]
  },
  {
   "cell_type": "markdown",
   "metadata": {
    "slideshow": {
     "slide_type": "fragment"
    }
   },
   "source": [
    "🛑"
   ]
  },
  {
   "cell_type": "markdown",
   "metadata": {
    "slideshow": {
     "slide_type": "slide"
    }
   },
   "source": [
    "## Strings vs Bytes"
   ]
  },
  {
   "cell_type": "markdown",
   "metadata": {
    "slideshow": {
     "slide_type": "slide"
    }
   },
   "source": [
    "## Strings\n",
    "\n",
    "From the docs: \"The default encoding for Python source code is UTF-8, so you can simply include a Unicode character in a string literal\"... see below!"
   ]
  },
  {
   "cell_type": "code",
   "execution_count": 11,
   "metadata": {
    "slideshow": {
     "slide_type": "fragment"
    }
   },
   "outputs": [
    {
     "name": "stdout",
     "output_type": "stream",
     "text": [
      "also a string ☃\n"
     ]
    }
   ],
   "source": [
    "s = \"this is clearly a string\"\n",
    "s2 = \"also a string ☃\"\n",
    "print(s2)"
   ]
  },
  {
   "cell_type": "code",
   "execution_count": 12,
   "metadata": {
    "slideshow": {
     "slide_type": "fragment"
    }
   },
   "outputs": [
    {
     "name": "stdout",
     "output_type": "stream",
     "text": [
      "not sure 🙃\n"
     ]
    }
   ],
   "source": [
    "s3 = \"not sure 🙃\"\n",
    "print(s3)"
   ]
  },
  {
   "cell_type": "markdown",
   "metadata": {
    "slideshow": {
     "slide_type": "slide"
    }
   },
   "source": [
    "## bytes Objects\n",
    "\n",
    "From Python docs: \"Bytes objects are immutable sequences of single bytes.\" ...\n",
    "\n",
    "__one way to do this is with a sequence (for example, a list) of ints `0` - `255`__"
   ]
  },
  {
   "cell_type": "code",
   "execution_count": 32,
   "metadata": {
    "slideshow": {
     "slide_type": "fragment"
    }
   },
   "outputs": [
    {
     "data": {
      "text/plain": [
       "b'CAB'"
      ]
     },
     "execution_count": 32,
     "metadata": {},
     "output_type": "execute_result"
    }
   ],
   "source": [
    "b = bytes([67, 65, 66])\n",
    "b"
   ]
  },
  {
   "cell_type": "markdown",
   "metadata": {
    "slideshow": {
     "slide_type": "slide"
    }
   },
   "source": [
    "## bytes Can Also Simply be Created with Strings"
   ]
  },
  {
   "cell_type": "code",
   "execution_count": 33,
   "metadata": {
    "slideshow": {
     "slide_type": "fragment"
    }
   },
   "outputs": [],
   "source": [
    "b = b\"hello\""
   ]
  },
  {
   "cell_type": "code",
   "execution_count": 34,
   "metadata": {
    "slideshow": {
     "slide_type": "fragment"
    }
   },
   "outputs": [
    {
     "data": {
      "text/plain": [
       "104"
      ]
     },
     "execution_count": 34,
     "metadata": {},
     "output_type": "execute_result"
    }
   ],
   "source": [
    "b[0]"
   ]
  },
  {
   "cell_type": "code",
   "execution_count": 35,
   "metadata": {
    "slideshow": {
     "slide_type": "fragment"
    }
   },
   "outputs": [
    {
     "data": {
      "text/plain": [
       "104"
      ]
     },
     "execution_count": 35,
     "metadata": {},
     "output_type": "execute_result"
    }
   ],
   "source": [
    "ord('h')"
   ]
  },
  {
   "cell_type": "markdown",
   "metadata": {
    "slideshow": {
     "slide_type": "slide"
    }
   },
   "source": [
    "## Wait, Isn't That Just a String?"
   ]
  },
  {
   "cell_type": "code",
   "execution_count": 36,
   "metadata": {
    "slideshow": {
     "slide_type": "fragment"
    }
   },
   "outputs": [
    {
     "name": "stdout",
     "output_type": "stream",
     "text": [
      "<class 'TypeError'> can't concat str to bytes\n"
     ]
    }
   ],
   "source": [
    "try:\n",
    "    b + '!!!!!'\n",
    "except TypeError as e:\n",
    "    print(type(e), e)"
   ]
  },
  {
   "cell_type": "code",
   "execution_count": 37,
   "metadata": {
    "slideshow": {
     "slide_type": "fragment"
    }
   },
   "outputs": [
    {
     "data": {
      "text/plain": [
       "bytes"
      ]
     },
     "execution_count": 37,
     "metadata": {},
     "output_type": "execute_result"
    }
   ],
   "source": [
    "type(b)"
   ]
  },
  {
   "cell_type": "markdown",
   "metadata": {
    "slideshow": {
     "slide_type": "slide"
    }
   },
   "source": [
    "## Use `decode` Method to Convert to a String\n",
    "\n",
    "__Interpret a series of bytes as utf-8 using using a `byte` object's `decode` method__ &rarr;\n",
    "\n",
    "* it takes a single argument\n",
    "* the encoding to use when decoding the bytes"
   ]
  },
  {
   "cell_type": "code",
   "execution_count": 40,
   "metadata": {
    "slideshow": {
     "slide_type": "fragment"
    }
   },
   "outputs": [
    {
     "data": {
      "text/plain": [
       "'hello!'"
      ]
     },
     "execution_count": 40,
     "metadata": {},
     "output_type": "execute_result"
    }
   ],
   "source": [
    "b = b'hello!'\n",
    "b.decode('utf-8')\n",
    "# ... works as you expect!"
   ]
  },
  {
   "cell_type": "markdown",
   "metadata": {
    "slideshow": {
     "slide_type": "slide"
    }
   },
   "source": [
    "## Now Let's Try utf-16\n",
    "\n",
    "__What do you think will happen if we use `utf-16` as the encoding?__\n",
    "\n",
    "```\n",
    "b.decode('utf-16')\n",
    "```"
   ]
  },
  {
   "cell_type": "code",
   "execution_count": 41,
   "metadata": {
    "slideshow": {
     "slide_type": "fragment"
    }
   },
   "outputs": [
    {
     "data": {
      "text/plain": [
       "'敨汬Ⅿ'"
      ]
     },
     "execution_count": 41,
     "metadata": {},
     "output_type": "execute_result"
    }
   ],
   "source": [
    "b.decode('utf-16')\n",
    "# ... how about same bytes as utf-16"
   ]
  },
  {
   "cell_type": "markdown",
   "metadata": {
    "slideshow": {
     "slide_type": "slide"
    }
   },
   "source": [
    "# String Formatting\n",
    "\n",
    "(String \"interpolation\" / templates / alternatives to concatenation)"
   ]
  },
  {
   "cell_type": "markdown",
   "metadata": {
    "slideshow": {
     "slide_type": "slide"
    }
   },
   "source": [
    "## Using the `.format` method on a `str` Object"
   ]
  },
  {
   "cell_type": "code",
   "execution_count": 42,
   "metadata": {
    "slideshow": {
     "slide_type": "fragment"
    }
   },
   "outputs": [
    {
     "data": {
      "text/plain": [
       "'Hi, my name is joe, and I have 20 apple pies!'"
      ]
     },
     "execution_count": 42,
     "metadata": {},
     "output_type": "execute_result"
    }
   ],
   "source": [
    "name = 'joe'\n",
    "num = 20\n",
    "food = 'apple pies'\n",
    "\"Hi, my name is {}, and I have {} {}!\".format(name, num, food)"
   ]
  },
  {
   "cell_type": "markdown",
   "metadata": {
    "slideshow": {
     "slide_type": "slide"
    }
   },
   "source": [
    "## Using `format` with Positions"
   ]
  },
  {
   "cell_type": "code",
   "execution_count": 43,
   "metadata": {
    "slideshow": {
     "slide_type": "fragment"
    }
   },
   "outputs": [
    {
     "data": {
      "text/plain": [
       "'Hi, my name is joe, and I have 20 apple pies!'"
      ]
     },
     "execution_count": 43,
     "metadata": {},
     "output_type": "execute_result"
    }
   ],
   "source": [
    "\"Hi, my name is {2}, and I have {0} {1}!\".format(num, food, name)"
   ]
  },
  {
   "cell_type": "markdown",
   "metadata": {
    "slideshow": {
     "slide_type": "slide"
    }
   },
   "source": [
    "## Using `.format` with Positions and _Format Specifier_"
   ]
  },
  {
   "cell_type": "code",
   "execution_count": 47,
   "metadata": {
    "slideshow": {
     "slide_type": "fragment"
    }
   },
   "outputs": [
    {
     "data": {
      "text/plain": [
       "'Hi, my name is joe, and I have 20.00 apple pies!'"
      ]
     },
     "execution_count": 47,
     "metadata": {},
     "output_type": "execute_result"
    }
   ],
   "source": [
    "\"Hi, my name is {2:s}, and I have {0:.2f} {1:s}!\".format(num, food, name)"
   ]
  },
  {
   "cell_type": "markdown",
   "metadata": {
    "slideshow": {
     "slide_type": "slide"
    }
   },
   "source": [
    "## Format String Literals"
   ]
  },
  {
   "cell_type": "code",
   "execution_count": 48,
   "metadata": {
    "slideshow": {
     "slide_type": "fragment"
    }
   },
   "outputs": [
    {
     "data": {
      "text/plain": [
       "'Hi, my name is joe, and I have 20 apple pies!'"
      ]
     },
     "execution_count": 48,
     "metadata": {},
     "output_type": "execute_result"
    }
   ],
   "source": [
    "f\"Hi, my name is {name}, and I have {num} {food}!\""
   ]
  },
  {
   "cell_type": "code",
   "execution_count": 49,
   "metadata": {
    "slideshow": {
     "slide_type": "fragment"
    }
   },
   "outputs": [
    {
     "data": {
      "text/plain": [
       "'Hi, my name is joe, and I have 20.00 apple pies!'"
      ]
     },
     "execution_count": 49,
     "metadata": {},
     "output_type": "execute_result"
    }
   ],
   "source": [
    "f\"Hi, my name is {name}, and I have {num:.2f} {food}!\""
   ]
  },
  {
   "cell_type": "markdown",
   "metadata": {
    "slideshow": {
     "slide_type": "slide"
    }
   },
   "source": [
    "## Using the % Operator"
   ]
  },
  {
   "cell_type": "code",
   "execution_count": 50,
   "metadata": {
    "slideshow": {
     "slide_type": "fragment"
    }
   },
   "outputs": [
    {
     "name": "stdout",
     "output_type": "stream",
     "text": [
      "20 apple pies\n"
     ]
    }
   ],
   "source": [
    "result = \"%s %s\" % (num, food)\n",
    "print(result)"
   ]
  }
 ],
 "metadata": {
  "kernelspec": {
   "display_name": "Python 3",
   "language": "python",
   "name": "python3"
  },
  "language_info": {
   "codemirror_mode": {
    "name": "ipython",
    "version": 3
   },
   "file_extension": ".py",
   "mimetype": "text/x-python",
   "name": "python",
   "nbconvert_exporter": "python",
   "pygments_lexer": "ipython3",
   "version": "3.8.2"
  }
 },
 "nbformat": 4,
 "nbformat_minor": 4
}
