{
 "cells": [
  {
   "cell_type": "markdown",
   "metadata": {},
   "source": [
    "# Classes\n",
    "\n",
    "## Double Underscore Methods\n",
    "\n",
    "Methods that start and end with double underscores have special meaning in Python. They may specify the \"constructor\" function, provide mechanism for operator overloading (like using +, \\*, etc.), and string conversion.\n",
    "\n",
    "## Partial List of Methods:\n",
    "\n",
    "1. `__init__(self)`: constructor\n",
    "2. `__str__(self)`: called when instance is converted to str (human readable)\n",
    "3. `__repr__(self)`: string representation for debugging (for example), evaluating in interactive shell\n",
    "4. `__eq__(self)`: specifies how `==` behaves (what is necessary for two instances to be equal?)\n",
    "\n",
    "More later... but a quick example"
   ]
  },
  {
   "cell_type": "code",
   "execution_count": 33,
   "metadata": {},
   "outputs": [],
   "source": [
    "class Student:\n",
    "    def __init__(self, netid, first, last):\n",
    "        self.netid = netid\n",
    "        self.first = first\n",
    "        self.last = last\n",
    "    \n",
    "    def __str__(self):\n",
    "        # string representation (human readable)\n",
    "        return f\"{self.first} {self.last}\"\n",
    "    \n",
    "    def __repr__(self):\n",
    "        # the actual object (for debugging purposes)\n",
    "        return 'from repr: ' + self.__str__()\n",
    "    \n",
    "    def __eq__(self, other):\n",
    "        return self.netid == other.netid\n"
   ]
  },
  {
   "cell_type": "code",
   "execution_count": 37,
   "metadata": {},
   "outputs": [],
   "source": [
    "# __init__ called\n",
    "s = Student('jjv222', 'joe', 'v')"
   ]
  },
  {
   "cell_type": "code",
   "execution_count": 36,
   "metadata": {},
   "outputs": [
    {
     "name": "stdout",
     "output_type": "stream",
     "text": [
      "joe v\n"
     ]
    }
   ],
   "source": [
    "# __str__ called...\n",
    "print(s)"
   ]
  },
  {
   "cell_type": "code",
   "execution_count": 35,
   "metadata": {},
   "outputs": [
    {
     "data": {
      "text/plain": [
       "from repr: joe v"
      ]
     },
     "execution_count": 35,
     "metadata": {},
     "output_type": "execute_result"
    }
   ],
   "source": [
    "# __repr__ called\n",
    "s"
   ]
  },
  {
   "cell_type": "code",
   "execution_count": 38,
   "metadata": {},
   "outputs": [
    {
     "data": {
      "text/plain": [
       "True"
      ]
     },
     "execution_count": 38,
     "metadata": {},
     "output_type": "execute_result"
    }
   ],
   "source": [
    "# defining __eq__ such that same netids mean same student:\n",
    "clone = Student('jjv222', 'joe', 'clone')\n",
    "s == clone"
   ]
  },
  {
   "cell_type": "markdown",
   "metadata": {},
   "source": [
    "### Another Class Example\n",
    "\n",
    "1. \"Static\" Methods: methods that can be called on class name rather than instance\n",
    "2. `__add__`: overload + operator\n",
    "3. `__getitem__` overload [] (index) operator\n",
    "\n",
    "Note... there are many more magic methods, like `__mult__`,`__or__`, etc. See [this page](https://www.python-course.eu/python3_magic_methods.php), for example."
   ]
  },
  {
   "cell_type": "code",
   "execution_count": 40,
   "metadata": {},
   "outputs": [],
   "source": [
    "class Fraction:\n",
    "\n",
    "    def __init__(self, n, d):\n",
    "        self.n = n\n",
    "        self.d = d\n",
    "\n",
    "    # this means that this method can be called without instance\n",
    "    # and consequently, no self is needed\n",
    "    # instead, you call it on the actual class itself\n",
    "    # Fraction.gcf()\n",
    "    @staticmethod \n",
    "    def gcf(a, b):\n",
    "        # go through every possible factor\n",
    "        # check if it divides evenly into both\n",
    "        # return the largest one\n",
    "        cur_gcf = 1\n",
    "        for factor in range(1, a + 1):\n",
    "            if a % factor == 0 and b % factor == 0:\n",
    "                cur_gcf = factor\n",
    "        return cur_gcf\n",
    "\n",
    "    def reduce(self):\n",
    "        gcf = Fraction.gcf(self.n, self.d)\n",
    "        return Fraction(self.n // gcf, self.d // gcf)\n",
    "\n",
    "    def __str__(self):\n",
    "        return \"{}/{}\".format(self.n, self.d)\n",
    "\n",
    "    def __repr__(self):\n",
    "        # we can call methods that already defined\n",
    "        return self.__str__()\n",
    "\n",
    "    def add(self, other):\n",
    "        new_n = (self.n * other.d) + (other.n * self.d)\n",
    "        new_d = self.d * other.d\n",
    "        return Fraction(new_n, new_d)\n",
    "\n",
    "    def __add__(self, other):\n",
    "        return self.add(other)\n",
    "\n",
    "    # allow indexing! Indexing with 0 gives back the numerator\n",
    "    # while indexing with 1 gives back the denominator...\n",
    "    # any other index will result in an IndexError\n",
    "    def __getitem__(self, other):\n",
    "        if other == 0:\n",
    "            return self.n\n",
    "        elif other == 1:\n",
    "            return self.d\n",
    "        else:\n",
    "            raise IndexError('Index must be 0 or 1')\n",
    "        \n",
    "    def __eq__(self, other):\n",
    "        return self.n == other.n and self.d == other.d\n"
   ]
  },
  {
   "cell_type": "code",
   "execution_count": 41,
   "metadata": {},
   "outputs": [
    {
     "name": "stdout",
     "output_type": "stream",
     "text": [
      "a:1/2, b:6/8, c:1/3\n"
     ]
    }
   ],
   "source": [
    "a = Fraction(1, 2)\n",
    "b = Fraction(6, 8)\n",
    "c = Fraction(1, 3)\n",
    "print(f'a:{a}, b:{b}, c:{c}')"
   ]
  },
  {
   "cell_type": "code",
   "execution_count": 44,
   "metadata": {},
   "outputs": [
    {
     "name": "stdout",
     "output_type": "stream",
     "text": [
      "1 2\n"
     ]
    }
   ],
   "source": [
    "# ooh, indexing!\n",
    "print(a[0], a[1])"
   ]
  },
  {
   "cell_type": "code",
   "execution_count": 46,
   "metadata": {},
   "outputs": [
    {
     "name": "stdout",
     "output_type": "stream",
     "text": [
      "<class 'IndexError'> Index must be 0 or 1\n"
     ]
    }
   ],
   "source": [
    "try:\n",
    "    print(a[987])\n",
    "except IndexError as e:\n",
    "    print(type(e), e)"
   ]
  },
  {
   "cell_type": "code",
   "execution_count": 22,
   "metadata": {},
   "outputs": [
    {
     "data": {
      "text/plain": [
       "5/6"
      ]
     },
     "execution_count": 22,
     "metadata": {},
     "output_type": "execute_result"
    }
   ],
   "source": [
    "a.add(c)"
   ]
  },
  {
   "cell_type": "code",
   "execution_count": 23,
   "metadata": {},
   "outputs": [
    {
     "data": {
      "text/plain": [
       "5/6"
      ]
     },
     "execution_count": 23,
     "metadata": {},
     "output_type": "execute_result"
    }
   ],
   "source": [
    "# calls __add__\n",
    "a + c"
   ]
  },
  {
   "cell_type": "code",
   "execution_count": 24,
   "metadata": {},
   "outputs": [
    {
     "data": {
      "text/plain": [
       "False"
      ]
     },
     "execution_count": 24,
     "metadata": {},
     "output_type": "execute_result"
    }
   ],
   "source": [
    "# calls __eq__\n",
    "a == c"
   ]
  },
  {
   "cell_type": "code",
   "execution_count": 25,
   "metadata": {},
   "outputs": [
    {
     "data": {
      "text/plain": [
       "True"
      ]
     },
     "execution_count": 25,
     "metadata": {},
     "output_type": "execute_result"
    }
   ],
   "source": [
    "# calls __eq__\n",
    "a == Fraction(1, 2)"
   ]
  },
  {
   "cell_type": "code",
   "execution_count": 47,
   "metadata": {},
   "outputs": [
    {
     "data": {
      "text/plain": [
       "3"
      ]
     },
     "execution_count": 47,
     "metadata": {},
     "output_type": "execute_result"
    }
   ],
   "source": [
    "# static method... note tha it is called on class\n",
    "# rather than on instance\n",
    "Fraction.gcf(9, 12)"
   ]
  },
  {
   "cell_type": "code",
   "execution_count": 48,
   "metadata": {},
   "outputs": [
    {
     "data": {
      "text/plain": [
       "1/2"
      ]
     },
     "execution_count": 48,
     "metadata": {},
     "output_type": "execute_result"
    }
   ],
   "source": [
    "Fraction(4, 8).reduce()"
   ]
  }
 ],
 "metadata": {
  "kernelspec": {
   "display_name": "Python 3",
   "language": "python",
   "name": "python3"
  },
  "language_info": {
   "codemirror_mode": {
    "name": "ipython",
    "version": 3
   },
   "file_extension": ".py",
   "mimetype": "text/x-python",
   "name": "python",
   "nbconvert_exporter": "python",
   "pygments_lexer": "ipython3",
   "version": "3.8.2"
  }
 },
 "nbformat": 4,
 "nbformat_minor": 4
}
