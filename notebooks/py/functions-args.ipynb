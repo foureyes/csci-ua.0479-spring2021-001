{
 "cells": [
  {
   "cell_type": "markdown",
   "metadata": {},
   "source": [
    "# Functions, Functions as Objects"
   ]
  },
  {
   "cell_type": "code",
   "execution_count": 10,
   "metadata": {},
   "outputs": [
    {
     "name": "stdout",
     "output_type": "stream",
     "text": [
      "2\n",
      "6\n"
     ]
    }
   ],
   "source": [
    "# arbitrary number of arguments\n",
    "def product(*args):\n",
    "    res = 1\n",
    "    for n in args:\n",
    "        res *= n\n",
    "    return res\n",
    "\n",
    "print(product(1, 2))\n",
    "print(product(1, 2, 3))"
   ]
  },
  {
   "cell_type": "code",
   "execution_count": 12,
   "metadata": {},
   "outputs": [
    {
     "name": "stdout",
     "output_type": "stream",
     "text": [
      "('hello', 'goodbye')\n",
      "hello goodbye\n",
      "(1, 2, 3)\n",
      "1 2 3\n",
      "foo bar baz\n"
     ]
    }
   ],
   "source": [
    "# variable number of args, and an example of unpacking a tuple or list to arguments\n",
    "def f(*args):\n",
    "    # using args within the function body... gives us a tuple\n",
    "    # representing all arguments\n",
    "    print(args)\n",
    "\n",
    "    # when prefixed with a star... a tuple is unpacked into separate arguments\n",
    "    print(*args)\n",
    "\n",
    "f(\"hello\", \"goodbye\")\n",
    "\n",
    "t = (1, 2, 3)\n",
    "print(t)\n",
    "\n",
    "# call print with 3 values: 1, then 2, then 3\n",
    "print(*t)\n",
    "\n",
    "# again, unpack list into separate arguments\n",
    "# (note that list is not printed out, rather... 3 separate values)\n",
    "words = ['foo', 'bar', 'baz']\n",
    "print(*words)"
   ]
  },
  {
   "cell_type": "code",
   "execution_count": 13,
   "metadata": {},
   "outputs": [],
   "source": [
    "# a function that takes another function as an argument\n",
    "def f(g):\n",
    "    g()\n",
    "    g()"
   ]
  },
  {
   "cell_type": "code",
   "execution_count": 2,
   "metadata": {},
   "outputs": [
    {
     "name": "stdout",
     "output_type": "stream",
     "text": [
      "hello\n",
      "hello\n"
     ]
    }
   ],
   "source": [
    "f(lambda: print('hello'))"
   ]
  },
  {
   "cell_type": "code",
   "execution_count": 14,
   "metadata": {},
   "outputs": [],
   "source": [
    "# a function that returns a new function\n",
    "def make_adder(x):\n",
    "    def add(n):\n",
    "        return n + x\n",
    "    return add"
   ]
  },
  {
   "cell_type": "code",
   "execution_count": 15,
   "metadata": {},
   "outputs": [],
   "source": [
    "add_five = make_adder(5)"
   ]
  },
  {
   "cell_type": "code",
   "execution_count": 16,
   "metadata": {},
   "outputs": [
    {
     "data": {
      "text/plain": [
       "12"
      ]
     },
     "execution_count": 16,
     "metadata": {},
     "output_type": "execute_result"
    }
   ],
   "source": [
    "add_five(7)"
   ]
  },
  {
   "cell_type": "code",
   "execution_count": 17,
   "metadata": {},
   "outputs": [],
   "source": [
    "add_one = make_adder(1)"
   ]
  },
  {
   "cell_type": "code",
   "execution_count": 19,
   "metadata": {},
   "outputs": [
    {
     "data": {
      "text/plain": [
       "11"
      ]
     },
     "execution_count": 19,
     "metadata": {},
     "output_type": "execute_result"
    }
   ],
   "source": [
    "add_one(10)"
   ]
  },
  {
   "cell_type": "code",
   "execution_count": null,
   "metadata": {},
   "outputs": [],
   "source": []
  }
 ],
 "metadata": {
  "kernelspec": {
   "display_name": "Python 3",
   "language": "python",
   "name": "python3"
  },
  "language_info": {
   "codemirror_mode": {
    "name": "ipython",
    "version": 3
   },
   "file_extension": ".py",
   "mimetype": "text/x-python",
   "name": "python",
   "nbconvert_exporter": "python",
   "pygments_lexer": "ipython3",
   "version": "3.6.5"
  }
 },
 "nbformat": 4,
 "nbformat_minor": 2
}
