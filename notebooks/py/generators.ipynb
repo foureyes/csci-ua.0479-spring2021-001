{
 "cells": [
  {
   "cell_type": "markdown",
   "metadata": {},
   "source": [
    "# Generators\n",
    "\n",
    "A generator is a function that can be paused and resumed while still maintaining state between these stops and starts. You can think of them as \"resumable functions\". See the quick tutorial from the python docs here: https://docs.python.org/3/howto/functional.html#generators\n",
    "\n",
    "Typically, when you call a function, you lose that function's local variables after it reaches the `return` statement. Generators allow you to return a value, *suspend* execution of the function, and then *resume* it later with all of the locals still intact!\n",
    "\n",
    "To create a generator, make a function that has the keyword `yield` in it. `yield` is _like_ `return` in that it gives back the value immediately to the right of it. However, instead of stopping the function completely and discarding the locals, it temporarily suspends the execution of the function so that it can be continued later. Execution is controlled via the iterator protocol. From the docs:\n",
    "\n",
    "> When you call a generator function, it doesn’t return a single value; instead it returns a generator object that supports the iterator protocol.\n",
    "\n",
    "So, when you call a generator function, you immediately get a generator object back, but the function body itself is _not yet_ executed. The generator objecst returned behaves like an iterator; it has a `__next__` method ...so that means you can pass the generator object into the `next` function, similar to iterable objects returning iterators. Using `next` controls the function's execution; it starts or resumes the function until `yield` is encountered, at which point a value is returned and execution is temporarily suspended.\n",
    "\n",
    "\n"
   ]
  },
  {
   "cell_type": "code",
   "execution_count": 22,
   "metadata": {},
   "outputs": [],
   "source": [
    "def f():\n",
    "    print('print 1')\n",
    "    yield 'return 1'\n",
    "    print('print 2')\n",
    "    yield 'return 2'\n",
    "    print('print 3')\n",
    "    yield 'return 3'"
   ]
  },
  {
   "cell_type": "code",
   "execution_count": 23,
   "metadata": {},
   "outputs": [],
   "source": [
    "# note that f is not executed (nothing is printed out yet!)\n",
    "gen_obj = f()"
   ]
  },
  {
   "cell_type": "code",
   "execution_count": 24,
   "metadata": {},
   "outputs": [
    {
     "name": "stdout",
     "output_type": "stream",
     "text": [
      "print 1\n"
     ]
    },
    {
     "data": {
      "text/plain": [
       "'return 1'"
      ]
     },
     "execution_count": 24,
     "metadata": {},
     "output_type": "execute_result"
    }
   ],
   "source": [
    "# calling next starts/resumes function execution until yield is encountered\n",
    "# note that \n",
    "next(gen_obj)"
   ]
  },
  {
   "cell_type": "code",
   "execution_count": 25,
   "metadata": {},
   "outputs": [
    {
     "name": "stdout",
     "output_type": "stream",
     "text": [
      "print 2\n"
     ]
    },
    {
     "data": {
      "text/plain": [
       "'return 2'"
      ]
     },
     "execution_count": 25,
     "metadata": {},
     "output_type": "execute_result"
    }
   ],
   "source": [
    "next(gen_obj)"
   ]
  },
  {
   "cell_type": "code",
   "execution_count": 26,
   "metadata": {},
   "outputs": [
    {
     "name": "stdout",
     "output_type": "stream",
     "text": [
      "print 3\n"
     ]
    },
    {
     "data": {
      "text/plain": [
       "'return 3'"
      ]
     },
     "execution_count": 26,
     "metadata": {},
     "output_type": "execute_result"
    }
   ],
   "source": [
    "next(gen_obj)"
   ]
  },
  {
   "cell_type": "code",
   "execution_count": 27,
   "metadata": {},
   "outputs": [
    {
     "ename": "StopIteration",
     "evalue": "",
     "output_type": "error",
     "traceback": [
      "\u001b[0;31m---------------------------------------------------------------------------\u001b[0m",
      "\u001b[0;31mStopIteration\u001b[0m                             Traceback (most recent call last)",
      "\u001b[0;32m<ipython-input-27-637dc62bc8bc>\u001b[0m in \u001b[0;36m<module>\u001b[0;34m()\u001b[0m\n\u001b[0;32m----> 1\u001b[0;31m \u001b[0mnext\u001b[0m\u001b[0;34m(\u001b[0m\u001b[0mgen_obj\u001b[0m\u001b[0;34m)\u001b[0m\u001b[0;34m\u001b[0m\u001b[0m\n\u001b[0m",
      "\u001b[0;31mStopIteration\u001b[0m: "
     ]
    }
   ],
   "source": [
    "next(gen_obj)"
   ]
  },
  {
   "cell_type": "markdown",
   "metadata": {},
   "source": [
    "This means that generators can be looped over!\n"
   ]
  },
  {
   "cell_type": "code",
   "execution_count": 28,
   "metadata": {},
   "outputs": [
    {
     "name": "stdout",
     "output_type": "stream",
     "text": [
      "print 1\n",
      "return 1\n",
      "print 2\n",
      "return 2\n",
      "print 3\n",
      "return 3\n"
     ]
    }
   ],
   "source": [
    "for val in f():\n",
    "    print(val)"
   ]
  },
  {
   "cell_type": "markdown",
   "metadata": {},
   "source": [
    "Hm - this seems _really_ similar to creating a class and implementing `__iter__` and `__next__`. Aaaand, that's true; generators are a simple way of getting an object back that supports the iterator protocol! No need to define a whole new class and define two methods on that class. Just write a function. Let's write some code that allow us to loop over the letters in the alphabet without creating a string of the entire alphabet beforehand."
   ]
  },
  {
   "cell_type": "code",
   "execution_count": 42,
   "metadata": {},
   "outputs": [],
   "source": [
    "class Alphabet:\n",
    "    START, STOP = 65, 91\n",
    "    def __init__(self):\n",
    "        self.i = Alphabet.START\n",
    "        \n",
    "    def __iter__(self):\n",
    "        return self\n",
    "    \n",
    "    def __next__(self):\n",
    "        ch = chr(self.i)\n",
    "        self.i += 1\n",
    "        if self.i > Alphabet.STOP:\n",
    "            raise StopIteration\n",
    "        return ch"
   ]
  },
  {
   "cell_type": "code",
   "execution_count": 43,
   "metadata": {},
   "outputs": [
    {
     "name": "stdout",
     "output_type": "stream",
     "text": [
      "A\n",
      "B\n",
      "C\n",
      "D\n",
      "E\n",
      "F\n",
      "G\n",
      "H\n",
      "I\n",
      "J\n",
      "K\n",
      "L\n",
      "M\n",
      "N\n",
      "O\n",
      "P\n",
      "Q\n",
      "R\n",
      "S\n",
      "T\n",
      "U\n",
      "V\n",
      "W\n",
      "X\n",
      "Y\n",
      "Z\n"
     ]
    }
   ],
   "source": [
    "for letter in Alphabet():\n",
    "    print(letter)"
   ]
  },
  {
   "cell_type": "code",
   "execution_count": 47,
   "metadata": {},
   "outputs": [],
   "source": [
    "def alphabet():\n",
    "    START, STOP = 65, 91\n",
    "    i = START\n",
    "    while i < STOP:\n",
    "        yield chr(i)\n",
    "        i += 1\n",
    "    # or use range, of course"
   ]
  },
  {
   "cell_type": "code",
   "execution_count": 48,
   "metadata": {},
   "outputs": [
    {
     "name": "stdout",
     "output_type": "stream",
     "text": [
      "A\n",
      "B\n",
      "C\n",
      "D\n",
      "E\n",
      "F\n",
      "G\n",
      "H\n",
      "I\n",
      "J\n",
      "K\n",
      "L\n",
      "M\n",
      "N\n",
      "O\n",
      "P\n",
      "Q\n",
      "R\n",
      "S\n",
      "T\n",
      "U\n",
      "V\n",
      "W\n",
      "X\n",
      "Y\n",
      "Z\n"
     ]
    }
   ],
   "source": [
    "for letter in alphabet():\n",
    "    print(letter)"
   ]
  },
  {
   "cell_type": "code",
   "execution_count": 71,
   "metadata": {},
   "outputs": [],
   "source": [
    "def infinite_abc():\n",
    "    START, STOP = 65,67\n",
    "    i = START\n",
    "    while True:\n",
    "        if i > STOP:\n",
    "            i = START\n",
    "        yield chr(i)\n",
    "        i += 1"
   ]
  },
  {
   "cell_type": "code",
   "execution_count": 72,
   "metadata": {},
   "outputs": [],
   "source": [
    "iter = infinite_abc();"
   ]
  },
  {
   "cell_type": "code",
   "execution_count": 73,
   "metadata": {},
   "outputs": [
    {
     "data": {
      "text/plain": [
       "'A'"
      ]
     },
     "execution_count": 73,
     "metadata": {},
     "output_type": "execute_result"
    }
   ],
   "source": [
    "next(iter)"
   ]
  },
  {
   "cell_type": "code",
   "execution_count": 74,
   "metadata": {},
   "outputs": [
    {
     "data": {
      "text/plain": [
       "'B'"
      ]
     },
     "execution_count": 74,
     "metadata": {},
     "output_type": "execute_result"
    }
   ],
   "source": [
    "next(iter)"
   ]
  },
  {
   "cell_type": "code",
   "execution_count": 75,
   "metadata": {},
   "outputs": [
    {
     "data": {
      "text/plain": [
       "'C'"
      ]
     },
     "execution_count": 75,
     "metadata": {},
     "output_type": "execute_result"
    }
   ],
   "source": [
    "next(iter)"
   ]
  },
  {
   "cell_type": "code",
   "execution_count": 76,
   "metadata": {},
   "outputs": [
    {
     "data": {
      "text/plain": [
       "'A'"
      ]
     },
     "execution_count": 76,
     "metadata": {},
     "output_type": "execute_result"
    }
   ],
   "source": [
    "next(iter)"
   ]
  },
  {
   "cell_type": "code",
   "execution_count": 70,
   "metadata": {},
   "outputs": [
    {
     "data": {
      "text/plain": [
       "'B'"
      ]
     },
     "execution_count": 70,
     "metadata": {},
     "output_type": "execute_result"
    }
   ],
   "source": [
    "next(iter)"
   ]
  },
  {
   "cell_type": "markdown",
   "metadata": {},
   "source": [
    "You can also create a generator object using a generator expression. How are lists and generator expressions different, though?\n",
    "\n",
    "https://stackoverflow.com/questions/20535342/lazy-evaluation-in-python\n",
    "\n",
    "> A list stores all elements when it is created. A generator generates the next element when it is needed.\n",
    "> A list can be iterated over as much as you need, a generator can only be iterated over exactly once.\n",
    "> A list can get elements by index, a generator cannot -- it only generates values once, from start to end.\n",
    "\n",
    "https://stackoverflow.com/questions/2776829/difference-between-pythons-generators-and-iterators\n",
    "\n",
    "> You can use the Iterator protocol directly when you need to extend a Python object as an object that can be iterated over.\n",
    "> However, in the vast majority of cases, you are best suited to use yield to define a function that returns a Generator Iterator or consider Generator Expressions."
   ]
  },
  {
   "cell_type": "code",
   "execution_count": 78,
   "metadata": {},
   "outputs": [
    {
     "name": "stdout",
     "output_type": "stream",
     "text": [
      "Help on built-in function getsizeof in module sys:\n",
      "\n",
      "getsizeof(...)\n",
      "    getsizeof(object, default) -> int\n",
      "    \n",
      "    Return the size of object in bytes.\n",
      "\n"
     ]
    }
   ],
   "source": [
    "import sys\n",
    "help(sys.getsizeof)"
   ]
  },
  {
   "cell_type": "code",
   "execution_count": 82,
   "metadata": {},
   "outputs": [],
   "source": [
    "lc = [i ** 2 for i in range(10000)]\n",
    "ge = (i ** 2 for i in range(10000))"
   ]
  },
  {
   "cell_type": "code",
   "execution_count": 83,
   "metadata": {},
   "outputs": [
    {
     "data": {
      "text/plain": [
       "87624"
      ]
     },
     "execution_count": 83,
     "metadata": {},
     "output_type": "execute_result"
    }
   ],
   "source": [
    "sys.getsizeof(lc)"
   ]
  },
  {
   "cell_type": "code",
   "execution_count": 84,
   "metadata": {},
   "outputs": [
    {
     "data": {
      "text/plain": [
       "88"
      ]
     },
     "execution_count": 84,
     "metadata": {},
     "output_type": "execute_result"
    }
   ],
   "source": [
    "sys.getsizeof(ge)"
   ]
  },
  {
   "cell_type": "code",
   "execution_count": 86,
   "metadata": {},
   "outputs": [],
   "source": [
    "ge = (i ** 2 for i in range(10000))\n",
    "for n in ge:\n",
    "    if n > 5000:\n",
    "        break"
   ]
  },
  {
   "cell_type": "code",
   "execution_count": 87,
   "metadata": {},
   "outputs": [
    {
     "data": {
      "text/plain": [
       "88"
      ]
     },
     "execution_count": 87,
     "metadata": {},
     "output_type": "execute_result"
    }
   ],
   "source": [
    "sys.getsizeof(ge)"
   ]
  },
  {
   "cell_type": "code",
   "execution_count": null,
   "metadata": {},
   "outputs": [],
   "source": [
    "# we"
   ]
  }
 ],
 "metadata": {
  "kernelspec": {
   "display_name": "Python 3",
   "language": "python",
   "name": "python3"
  },
  "language_info": {
   "codemirror_mode": {
    "name": "ipython",
    "version": 3
   },
   "file_extension": ".py",
   "mimetype": "text/x-python",
   "name": "python",
   "nbconvert_exporter": "python",
   "pygments_lexer": "ipython3",
   "version": "3.7.5"
  }
 },
 "nbformat": 4,
 "nbformat_minor": 4
}
