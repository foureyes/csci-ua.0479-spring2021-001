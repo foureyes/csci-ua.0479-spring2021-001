{
 "cells": [
  {
   "cell_type": "markdown",
   "metadata": {},
   "source": [
    "# Files, Unicode, Bytes, Strings"
   ]
  },
  {
   "cell_type": "markdown",
   "metadata": {},
   "source": [
    "## Reading Files, File I/O\n",
    "\n",
    "### Use built-in function open\n",
    "\n",
    "`open` has 2 args:\n",
    "\n",
    "* `file_name` - `str` ... absolute or relative path to open\n",
    "* `mode` - `str` ... single chr: r, w, a\n",
    "    * `r`: file must exist, otherwise FileNotFoundError\n",
    "    * `w`: if exists, overwrite, if it doesn't, create\n",
    "    * `a`: append.... add to existing file\n",
    "\n",
    "returns: `file` object\n",
    "\n",
    "file object has following methods:\n",
    "* `close`... closes the file handle, no args\n",
    "* `read`... entire contents and returns as str\n",
    "* `readlines`... same ^^^, but returns as list\n",
    "* `readline`... one line at a time, location saved\n"
   ]
  },
  {
   "cell_type": "markdown",
   "metadata": {},
   "source": [
    "### Reading a file\n",
    "\n",
    "File object can be looped over using `for`:"
   ]
  },
  {
   "cell_type": "code",
   "execution_count": 34,
   "metadata": {},
   "outputs": [],
   "source": [
    "f = open('1342-0.txt', 'r')\n",
    "for line in f:\n",
    "    # commented out print to prevent entire file being printed out\n",
    "    # print(line)\n",
    "    pass\n",
    "f.close()"
   ]
  },
  {
   "cell_type": "markdown",
   "metadata": {},
   "source": [
    "You can actually `enumerate` a file object (in this instance, we're only printing out 6 lines):"
   ]
  },
  {
   "cell_type": "code",
   "execution_count": 35,
   "metadata": {},
   "outputs": [
    {
     "name": "stdout",
     "output_type": "stream",
     "text": [
      "﻿The Project Gutenberg EBook of Pride and Prejudice, by Jane Austen\n",
      "\n",
      "\n",
      "\n",
      "This eBook is for the use of anyone anywhere at no cost and with\n",
      "\n",
      "almost no restrictions whatsoever.  You may copy it, give it away or\n",
      "\n",
      "re-use it under the terms of the Project Gutenberg License included\n",
      "\n",
      "with this eBook or online at www.gutenberg.org\n",
      "\n",
      "\n",
      "\n"
     ]
    }
   ],
   "source": [
    "f = open('1342-0.txt', 'r')\n",
    "for i, line in enumerate(f):\n",
    "    print(line)\n",
    "    if i > 5:\n",
    "        break\n",
    "f.close()"
   ]
  },
  {
   "cell_type": "markdown",
   "metadata": {},
   "source": [
    "### Using `with` and Using `readlines`\n",
    "\n",
    "Now let's try using `with`... when the block exits, the file object is automatically cleaned up (`close` is called)\n",
    "\n",
    "Additionally, we'll use `readlines` to read the contents of the file as a `list`"
   ]
  },
  {
   "cell_type": "code",
   "execution_count": 36,
   "metadata": {},
   "outputs": [
    {
     "name": "stdout",
     "output_type": "stream",
     "text": [
      "﻿The Project Gutenberg EBook of Pride and Prejudice, by Jane Austen\n",
      "\n",
      "done\n"
     ]
    }
   ],
   "source": [
    "with open('1342-0.txt', 'r') as f:\n",
    "    lines = f.readlines()\n",
    "    print(lines[0])\n",
    "print('done')"
   ]
  },
  {
   "cell_type": "markdown",
   "metadata": {},
   "source": [
    "### Handling Exceptions\n",
    "\n",
    "Catch a FileNotFoundError to deal with a file that doesn't exist:"
   ]
  }
 ],
 "metadata": {
  "kernelspec": {
   "display_name": "Python 3",
   "language": "python",
   "name": "python3"
  },
  "language_info": {
   "codemirror_mode": {
    "name": "ipython",
    "version": 3
   },
   "file_extension": ".py",
   "mimetype": "text/x-python",
   "name": "python",
   "nbconvert_exporter": "python",
   "pygments_lexer": "ipython3",
   "version": "3.8.1"
  }
 },
 "nbformat": 4,
 "nbformat_minor": 4
}
