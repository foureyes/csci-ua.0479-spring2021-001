{
 "cells": [
  {
   "cell_type": "markdown",
   "metadata": {},
   "source": [
    "# Unicode, Encoding, Bytes and Strings\n",
    "\n",
    "## How Does a Computer Store Data?\n",
    "\n",
    "Bits! ... 0's and 1's.\n",
    "\n",
    "### Straightforward for Numbers: Binary!\n",
    "\n",
    "* use some set number of bits to represent:\n",
    "* whole numbers... or floating point numbers\n",
    "* maybe some bits can be reserved for:\n",
    "    * where to place decimal point\n",
    "    * positive or negative\n",
    "* need _moar_ values? add more bits!\n",
    "\n",
    "### For Text: Map Numbers to Characters\n",
    "\n",
    "Map numbers (_code points_) to corresponding characters...\n",
    "\n",
    "* for example: 65 -> A\n",
    "* you may have a table of mappings from code points to characters (something like [http://www.asciitable.com](http://www.asciitable.com)\n",
    "* those mappings have to be encoded into (some number of) bits\n",
    "\n",
    "### Prove It! (In 🐍)"
   ]
  },
  {
   "cell_type": "code",
   "execution_count": null,
   "metadata": {},
   "outputs": [],
   "source": [
    "# ord and chr will convert to and from a character and code point\n",
    "print(ord('A'))\n",
    "print(chr(65))"
   ]
  },
  {
   "cell_type": "markdown",
   "metadata": {},
   "source": [
    "## ASCII\n",
    "\n",
    "* ASCII is encoded using 7 bits (or 8 for extended!)\n",
    "    * this is ~ 128 different values\n",
    "    * good for a-z, A-Z, 0-9 etc.\n",
    "    * not so good if you live in Korea, Pakistan or any other country with a language that contains different character sets\n",
    "    * not so good if you want to send 🤢 or other emoji\n",
    "* ASCII is both the name of the mapping and name of the encoding\n",
    "    \n",
    "\n",
    "## _Other Encodings_\n",
    "\n",
    "Because ASCII was limited, *many* other encodings were created. I mean, [many encodings](https://en.wikipedia.org/wiki/Character_encoding#Common_character_encodings). These encodings weren't guaranteed to have common mappings, even if they were meant to represent the same character set! 😩\n",
    "\n",
    "What to do?\n",
    "\n",
    "## Unicode\n",
    "\n",
    "Unicode is the name of a mapping of _code points_ only (it does not specify encoding!). It can represent over 1 million characters! Everything from Cyrillic to all of your fav emoji 🙌 🤯.\n",
    "\n",
    "The links below show some tables. Code points may be represented in binary, decimal, and hexidecimal. Many tables use hexadecimal... but resulting code point is still same value.\n",
    "\n",
    "* unicode.org has all the charts: [https://unicode.org/charts/](https://unicode.org/charts/)\n",
    "* the first 128 characters are backward compatible with ASCII: [https://unicode.org/charts/PDF/U0000.pdf](https://unicode.org/charts/PDF/U0000.pdf)\n",
    "* here are some emoji mappings if want 'em 🙏: [https://unicode.org/emoji/charts/full-emoji-list.html](https://unicode.org/emoji/charts/full-emoji-list.html)\n",
    "\n"
   ]
  },
  {
   "cell_type": "markdown",
   "metadata": {},
   "source": [
    "## Encodings for Unicode\n",
    "\n",
    "Again, unicode is just the name of the mapping from code points to characters. Want to actually _encode_ a character? You haz some choices:\n",
    "\n",
    "### utf-8\n",
    "\n",
    "Can store characters in 1 byte or as many as 4 bytes (variable length encoding)\n",
    "\n",
    "* even though only 8 bits / 1 byte, can represent other unicode characters by adding additional bytes \n",
    "* higher bytes (left most) specify whether or not other bytes should be combined \n",
    "* for example, if left-most bit is 0, then character can be represented by a single byte\n",
    "* if first bit is 1, then multiple bytes needed to represent character!\n",
    "    * starting with 110xxxxx means two bytes needed\n",
    "    * starting with 1110xxxx means three bytes needed\n",
    "    * see a pattern? number of 1's specifies number of bytes to represent character\n",
    "    * additional / continuation bytes are prefixed with 10\n",
    "    * so, take the binary representation of a code point and fill in the x's\n",
    "    * for something that needs 4 bytes to represent:\n",
    "        * 11110xxx 10xxxxxx 10xxxxxx 10xxxxx\n",
    "        * first 4 1's and 0 mean 4 bytes\n",
    "        * remaing 3 bytes are prefixed with 10\n",
    "        * fill in x's with bits from binary representation of code point\n",
    "* you can find a nice [explanation on stackoverlow](https://stackoverflow.com/a/44568131)\n",
    "\n",
    "What? 🤔... Here's an actual example: \n",
    "\n",
    "* Let's check out 😂 ([tears of joy](https://www.fileformat.info/info/unicode/char/1f602/index.htm))\n",
    "* It's unicode code point, in decimal is: `128514`\n",
    "* In binary, `128514` is `000011111011000000010` (with some 0 padding)\n",
    "* This can't be represented in a single byte or even 3 bytes in utf-8... but we can do it with 4 bytes\n",
    "* Here's the pattern for 4 bytes: `11110xxx 10xxxxxx 10xxxxxx 10xxxxxx`\n",
    "* Breaking up our binary representation of the code point to fit in the x's above, we have: `000 011111 011000 000010`\n",
    "* And, finally: `11110000 10011111 10011000 10000010`\n",
    "\n",
    "### Let's prove that this works...\n",
    "\n",
    "This is a bit much; it's really here just to show that we can encode and decode using utf-8 using the rules above... and we can do it with a little bit of Python."
   ]
  },
  {
   "cell_type": "code",
   "execution_count": 2,
   "metadata": {},
   "outputs": [
    {
     "name": "stdout",
     "output_type": "stream",
     "text": [
      "Tears of joy: 😂\n",
      "============\n"
     ]
    }
   ],
   "source": [
    "# here is tears of joy...\n",
    "ch = '😂'\n",
    "print(f'Tears of joy: {ch}\\n============')"
   ]
  },
  {
   "cell_type": "code",
   "execution_count": 3,
   "metadata": {},
   "outputs": [
    {
     "name": "stdout",
     "output_type": "stream",
     "text": [
      "Let's see the utf-8 encoding of 😂!\n",
      "----\n",
      "code point for 😂 is: 128514\n"
     ]
    }
   ],
   "source": [
    "# let's see the code point using ord\n",
    "print(f'Let\\'s see the utf-8 encoding of {ch}!\\n----')\n",
    "      \n",
    "code_point = ord(ch)\n",
    "print(f'code point for {ch} is: {code_point}')"
   ]
  },
  {
   "cell_type": "code",
   "execution_count": 4,
   "metadata": {},
   "outputs": [
    {
     "name": "stdout",
     "output_type": "stream",
     "text": [
      "128514 is in binary is: 000011111011000000010\n"
     ]
    }
   ],
   "source": [
    "# let's see the binary version of the code point\n",
    "\n",
    "# this format specifier, 021b, means:\n",
    "# * pad with 0's\n",
    "# * there should be 21 total 0's\n",
    "# * format as binary number\n",
    "format_as_padded_bin = '021b'\n",
    "\n",
    "# use the format specifier as nested variable in format string after colon\n",
    "padded_bin = f'{code_point:{format_as_padded_bin}}'\n",
    "print(f'{code_point} is in binary is: {padded_bin}')"
   ]
  },
  {
   "cell_type": "code",
   "execution_count": 5,
   "metadata": {},
   "outputs": [
    {
     "name": "stdout",
     "output_type": "stream",
     "text": [
      "encoded as utf-8, in binary: 11110000100111111001100010000010\n"
     ]
    }
   ],
   "source": [
    "# distribute into 4 bytes: UTF-8 FTW!\n",
    "# fill bits into the x's in the pattern below:\n",
    "# 11110xxx 10xxxxxx 10xxxxxx 10xxxxxx\n",
    "a, b, c, d = padded_bin[:3], padded_bin[3:9], padded_bin[9:15], padded_bin[15:]\n",
    "encoded = f'11110{a}10{b}10{c}10{d}'\n",
    "print(f'encoded as utf-8, in binary: {encoded}')"
   ]
  },
  {
   "cell_type": "code",
   "execution_count": 6,
   "metadata": {},
   "outputs": [
    {
     "name": "stdout",
     "output_type": "stream",
     "text": [
      "\n",
      "Let's go from utf-8 back to the actual character (decode), 😂\n",
      "----\n",
      "these are our bytes as strings in a list: ['11110000', '10011111', '10011000', '10000010']\n"
     ]
    }
   ],
   "source": [
    "# ok, let's test if this is encoded correctly by decoding it!\n",
    "print(f'\\nLet\\'s go from utf-8 back to the actual character (decode), {ch}\\n----')\n",
    "\n",
    "# let's turn this into a sequence of bytes, with each byte shown in binary (as a string)\n",
    "bytes_as_bin = list(encoded[i: i + 8] for i in range(0, 25, 8))\n",
    "print(f'these are our bytes as strings in a list: {bytes_as_bin}')\n"
   ]
  },
  {
   "cell_type": "code",
   "execution_count": 7,
   "metadata": {},
   "outputs": [
    {
     "name": "stdout",
     "output_type": "stream",
     "text": [
      "decode those bytes to get the original character: 😂\n"
     ]
    }
   ],
   "source": [
    "# convert each string into an int, and use that to create a bytes object\n",
    "# call decode on bytes object to get back character\n",
    "# decode will decode a series of bytes using utf-8 \n",
    "# (though you can specify an encoding as a keyword arg)\n",
    "b = bytes([int(i, 2) for i in bytes_as_bin])\n",
    "print('decode those bytes to get the original character:', b.decode())"
   ]
  },
  {
   "cell_type": "markdown",
   "metadata": {},
   "source": [
    "### Addendum\n",
    "\n",
    "Most of the characters in unicode (character sets from natural languages) are in the first ~65,000 code points (called the _Basic Multilingual Plane_). Emoji exist above that, and typically require 4 bytes to represent."
   ]
  },
  {
   "cell_type": "markdown",
   "metadata": {},
   "source": [
    "\n",
    "### Others Encoding Schemes: utf-16, utf-32\n",
    "\n",
    "If using mostly ASCII characters, then utf-8 is a great choice. However, if using many characters that can only be encoded in more than one byte, utf-32 (or, I guess, utf-16), might be a better option. \n",
    "\n",
    "Why use utf-8 (usually)?\n",
    "\n",
    "* if most of your characters can be encoded in 1 byte; use it! \n",
    "* it saves space... (why use 4 bytes to represent `A` when you can use 1?)\n",
    "\n",
    "Why use utf-32 instead?\n",
    "\n",
    "* if using lots of code points that require multiple bytes, it's a bit more complex decoding utf-8, since the number of bytes used per character has to be determined\n",
    "\n",
    "### Er? Y Does This Matter?\n",
    "\n",
    "Why might knowing about encodings be useful? ...Sometimes you source a file, but you don’t know what encoding it is\n",
    "\n",
    "* If you have a series of bytes, you can decode with a scheme of your choice (utf-8, latin-1, etc.?)\n",
    "* Automatic detection of encoding is tricky! (no standard for embedding encoding a file, usually encoding not even included!)\n",
    "* Editors/viewers will use different strategies, but no guarantee guess will be right! 😮\n",
    "* btw, some tools: file and enca to guess at encoding... sublime, atom, etc. to load in different encoding\n",
    "* and, of course, Python can read files with different encodings (though default is utf-8)\n",
    "\n",
    "### Example / Mystery!\n",
    "\n",
    "Download this file in the same directory as your notebook:\n",
    "\n",
    "[https://www.gutenberg.org/files/4909/old/olavg10.txt](https://www.gutenberg.org/files/4909/old/olavg10.txt) \n",
    "\n",
    "Try to figure out how to _read_ it correctly. 🕵\n",
    "\n",
    "* open it in a text editor, what do you see?\n",
    "* reopen, but change encoding in your text editor of your choice; does that fix things?\n",
    "* note that most text editors, like sublime and atom, can be set to use a specific encoding\n",
    "* choose CP1251 or Window-1251\n",
    "\n",
    "If you're unable to change the encoding, we can look at it with python too 👀:\n",
    "\n",
    "1. first as utf-8 (which causes an exception)\n",
    "2. then as cp1251 (which shows us cyrillic)"
   ]
  },
  {
   "cell_type": "code",
   "execution_count": 8,
   "metadata": {},
   "outputs": [
    {
     "name": "stdout",
     "output_type": "stream",
     "text": [
      "Welp! Cannot decode this file... we are trying utf-8, but. it. is. not. that.\n",
      "'utf-8' codec can't decode byte 0xce in position 1494: invalid continuation byte\n"
     ]
    }
   ],
   "source": [
    "# we try to read the file with open\n",
    "# by default, it'll read it as utf-8\n",
    "# there are some invalid continuation characters\n",
    "# ... so we'll get an exception\n",
    "try:\n",
    "    with open('olavg10.txt', 'r') as f:\n",
    "        print(f.read())\n",
    "except FileNotFoundError as e:\n",
    "    print('ERROR!!!!!!')\n",
    "    print('plz download https://www.gutenberg.org/files/4909/old/olavg10.txt into same directory as this notebook first. k thx bai.')\n",
    "except UnicodeDecodeError as e:\n",
    "    print('Welp! Cannot decode this file... we are trying utf-8, but. it. is. not. that.')\n",
    "    print(e)"
   ]
  },
  {
   "cell_type": "code",
   "execution_count": 9,
   "metadata": {},
   "outputs": [
    {
     "name": "stdout",
     "output_type": "stream",
     "text": [
      "a line in our text:\n",
      "Той и сам не знае кога е роден, но като го запитат, казва, че сега е на 36 години. Родното му градче, Грасдорф, е скътано в една гънка от росните поли на Харц, оная величествена планина, която лежи като мила сянка на душата му и която нему е по сърце да възпява в своите песни. Цял ред години го познавам аз, както познавам себе си, и макар помежду ни често да е минавала черна котка - ний сме си и до ден днешен интимни и добри приятели. И това, което аз зная и ще кажа за него, той сам ще го подпише.\n",
      "\n"
     ]
    }
   ],
   "source": [
    "# now let's use codecs.open so we can read the file with a specific encoding\n",
    "import codecs\n",
    "try:\n",
    "    with codecs.open('olavg10.txt', encoding='cp1251') as f:\n",
    "        lines = f.readlines()\n",
    "        print('a line in our text:')\n",
    "        print (lines[51]);\n",
    "except FileNotFoundError as e:\n",
    "    print('ERROR!!!!!!')\n",
    "    print('plz download https://www.gutenberg.org/files/4909/old/olavg10.txt into same directory as this notebook first. k thx bai.')"
   ]
  },
  {
   "cell_type": "markdown",
   "metadata": {},
   "source": [
    "## Strings vs Bytes\n",
    "\n",
    "### Strings\n",
    "From the docs: \"The default encoding for Python source code is UTF-8, so you can simply include a Unicode character in a string literal\"... see below!"
   ]
  },
  {
   "cell_type": "code",
   "execution_count": 10,
   "metadata": {},
   "outputs": [
    {
     "name": "stdout",
     "output_type": "stream",
     "text": [
      "also a string ☃\n"
     ]
    }
   ],
   "source": [
    "s = \"this is clearly a string\"\n",
    "s2 = \"also a string ☃\"\n",
    "print(s2)"
   ]
  },
  {
   "cell_type": "code",
   "execution_count": 11,
   "metadata": {},
   "outputs": [
    {
     "name": "stdout",
     "output_type": "stream",
     "text": [
      "not sure 🙃\n"
     ]
    }
   ],
   "source": [
    "s3 = \"not sure 🙃\"\n",
    "print(s3)"
   ]
  },
  {
   "cell_type": "markdown",
   "metadata": {},
   "source": [
    "### bytes Objects\n",
    "\n",
    "From Python docs: \"Bytes objects are immutable sequences of single bytes.\" ...\n",
    "\n",
    "* sequence of ints 0 - 255\n",
    "* can be created by using string of ascii characters"
   ]
  },
  {
   "cell_type": "code",
   "execution_count": 12,
   "metadata": {},
   "outputs": [],
   "source": [
    "b = b\"hello\""
   ]
  },
  {
   "cell_type": "code",
   "execution_count": 13,
   "metadata": {},
   "outputs": [
    {
     "data": {
      "text/plain": [
       "104"
      ]
     },
     "execution_count": 13,
     "metadata": {},
     "output_type": "execute_result"
    }
   ],
   "source": [
    "b[0]"
   ]
  },
  {
   "cell_type": "code",
   "execution_count": 14,
   "metadata": {},
   "outputs": [
    {
     "data": {
      "text/plain": [
       "104"
      ]
     },
     "execution_count": 14,
     "metadata": {},
     "output_type": "execute_result"
    }
   ],
   "source": [
    "ord('h')"
   ]
  },
  {
   "cell_type": "code",
   "execution_count": 15,
   "metadata": {},
   "outputs": [
    {
     "name": "stdout",
     "output_type": "stream",
     "text": [
      "<class 'TypeError'> can't concat str to bytes\n"
     ]
    }
   ],
   "source": [
    "try:\n",
    "    b + '!!!!!'\n",
    "except TypeError as e:\n",
    "    print(type(e), e)"
   ]
  },
  {
   "cell_type": "code",
   "execution_count": 16,
   "metadata": {},
   "outputs": [
    {
     "data": {
      "text/plain": [
       "bytes"
      ]
     },
     "execution_count": 16,
     "metadata": {},
     "output_type": "execute_result"
    }
   ],
   "source": [
    "type(b)"
   ]
  },
  {
   "cell_type": "markdown",
   "metadata": {},
   "source": [
    "### Use `decode` Method to Conver to a String\n",
    "\n",
    "* interpret a series of bytes as utf-8"
   ]
  },
  {
   "cell_type": "code",
   "execution_count": 17,
   "metadata": {},
   "outputs": [
    {
     "data": {
      "text/plain": [
       "'hello'"
      ]
     },
     "execution_count": 17,
     "metadata": {},
     "output_type": "execute_result"
    }
   ],
   "source": [
    "b.decode('utf-8')"
   ]
  },
  {
   "cell_type": "markdown",
   "metadata": {},
   "source": [
    "### Now Let's Try utf-16"
   ]
  },
  {
   "cell_type": "code",
   "execution_count": 18,
   "metadata": {},
   "outputs": [
    {
     "data": {
      "text/plain": [
       "'hello!'"
      ]
     },
     "execution_count": 18,
     "metadata": {},
     "output_type": "execute_result"
    }
   ],
   "source": [
    "b = b'hello!'\n",
    "b.decode('utf-8')\n",
    "# ... works as you expect!"
   ]
  },
  {
   "cell_type": "code",
   "execution_count": 19,
   "metadata": {},
   "outputs": [
    {
     "data": {
      "text/plain": [
       "'敨汬Ⅿ'"
      ]
     },
     "execution_count": 19,
     "metadata": {},
     "output_type": "execute_result"
    }
   ],
   "source": [
    "b.decode('utf-16')\n",
    "# ... how about same bytes as utf-16"
   ]
  },
  {
   "cell_type": "markdown",
   "metadata": {},
   "source": [
    "# String Formatting\n",
    "\n",
    "## Using the format function"
   ]
  },
  {
   "cell_type": "code",
   "execution_count": 20,
   "metadata": {},
   "outputs": [
    {
     "data": {
      "text/plain": [
       "'Hi, my name is joe, and I have 20 apple pies!'"
      ]
     },
     "execution_count": 20,
     "metadata": {},
     "output_type": "execute_result"
    }
   ],
   "source": [
    "name = 'joe'\n",
    "num = 20\n",
    "food = 'apple pies'\n",
    "\"Hi, my name is {}, and I have {} {}!\".format(name, num, food)"
   ]
  },
  {
   "cell_type": "markdown",
   "metadata": {},
   "source": [
    "### Using `format` with Positions"
   ]
  },
  {
   "cell_type": "code",
   "execution_count": 21,
   "metadata": {},
   "outputs": [
    {
     "data": {
      "text/plain": [
       "'Hi, my name is joe, and I have 20 apple pies!'"
      ]
     },
     "execution_count": 21,
     "metadata": {},
     "output_type": "execute_result"
    }
   ],
   "source": [
    "\"Hi, my name is {2}, and I have {0} {1}!\".format(num, food, name)"
   ]
  },
  {
   "cell_type": "markdown",
   "metadata": {},
   "source": [
    "### Using `format` with Positions and Format Specifier"
   ]
  },
  {
   "cell_type": "code",
   "execution_count": 22,
   "metadata": {},
   "outputs": [
    {
     "data": {
      "text/plain": [
       "'Hi, my name is joe, and I have 20.00 apple pies!'"
      ]
     },
     "execution_count": 22,
     "metadata": {},
     "output_type": "execute_result"
    }
   ],
   "source": [
    "\"Hi, my name is {2:s}, and I have {0:.2f} {1:s}!\".format(num, food, name)"
   ]
  },
  {
   "cell_type": "markdown",
   "metadata": {},
   "source": [
    "### Format String Literals"
   ]
  },
  {
   "cell_type": "code",
   "execution_count": 23,
   "metadata": {},
   "outputs": [
    {
     "data": {
      "text/plain": [
       "'Hi, my name is joe, and I have 20 apple pies!'"
      ]
     },
     "execution_count": 23,
     "metadata": {},
     "output_type": "execute_result"
    }
   ],
   "source": [
    "f\"Hi, my name is {name}, and I have {num} {food}!\""
   ]
  },
  {
   "cell_type": "code",
   "execution_count": 24,
   "metadata": {},
   "outputs": [
    {
     "data": {
      "text/plain": [
       "'Hi, my name is joe, and I have 20.00 apple pies!'"
      ]
     },
     "execution_count": 24,
     "metadata": {},
     "output_type": "execute_result"
    }
   ],
   "source": [
    "f\"Hi, my name is {name}, and I have {num:.2f} {food}!\""
   ]
  },
  {
   "cell_type": "markdown",
   "metadata": {},
   "source": [
    "### Using the % Operator"
   ]
  },
  {
   "cell_type": "code",
   "execution_count": 25,
   "metadata": {},
   "outputs": [
    {
     "name": "stdout",
     "output_type": "stream",
     "text": [
      "20 apple pies\n"
     ]
    }
   ],
   "source": [
    "result = \"%s %s\" % (num, food)\n",
    "print(result)"
   ]
  }
 ],
 "metadata": {
  "kernelspec": {
   "display_name": "Python 3",
   "language": "python",
   "name": "python3"
  },
  "language_info": {
   "codemirror_mode": {
    "name": "ipython",
    "version": 3
   },
   "file_extension": ".py",
   "mimetype": "text/x-python",
   "name": "python",
   "nbconvert_exporter": "python",
   "pygments_lexer": "ipython3",
   "version": "3.8.2"
  }
 },
 "nbformat": 4,
 "nbformat_minor": 4
}
