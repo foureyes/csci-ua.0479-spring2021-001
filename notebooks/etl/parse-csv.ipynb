{
 "cells": [
  {
   "cell_type": "markdown",
   "metadata": {},
   "source": [
    "# Extracting Data from a csv"
   ]
  },
  {
   "cell_type": "markdown",
   "metadata": {},
   "source": [
    "### Challenges\n",
    "\n",
    "1. what if delimiter (,) is part of actual data? quote it? do you double? \n",
    "2. does it include the header?\n",
    "3. are there missing values?\n",
    "4. what is the encoding (hopefully  utf-8)?\n",
    "5. what are the actual types of data (meant to be strings? floats? etc.)"
   ]
  },
  {
   "cell_type": "markdown",
   "metadata": {},
   "source": [
    "### Short Example"
   ]
  },
  {
   "cell_type": "code",
   "execution_count": 2,
   "metadata": {},
   "outputs": [
    {
     "name": "stdout",
     "output_type": "stream",
     "text": [
      "Caffè Latte 240\n",
      "Caffè Mocha (Without Whipped Cream) 220\n",
      "Caffè Mocha (Without Whipped Cream) 260\n",
      "Caffè Mocha (Without Whipped Cream) 230\n",
      "Caffè Mocha (Without Whipped Cream) 280\n",
      "Caffè Mocha (Without Whipped Cream) 340\n",
      "Caffè Mocha (Without Whipped Cream) 290\n",
      "Vanilla Latte (Or Other Flavoured Latte) 250\n",
      "Vanilla Latte (Or Other Flavoured Latte) 210\n",
      "Vanilla Latte (Or Other Flavoured Latte) 250\n",
      "Vanilla Latte (Or Other Flavoured Latte) 320\n",
      "Vanilla Latte (Or Other Flavoured Latte) 270\n",
      "Caramel Macchiato 240\n",
      "Caramel Macchiato 240\n",
      "Caramel Macchiato 300\n",
      "Caramel Macchiato 250\n",
      "White Chocolate Mocha (Without Whipped Cream) 270\n",
      "White Chocolate Mocha (Without Whipped Cream) 310\n",
      "White Chocolate Mocha (Without Whipped Cream) 280\n",
      "White Chocolate Mocha (Without Whipped Cream) 350\n",
      "White Chocolate Mocha (Without Whipped Cream) 400\n",
      "White Chocolate Mocha (Without Whipped Cream) 370\n",
      "White Chocolate Mocha (Without Whipped Cream) 450\n",
      "White Chocolate Mocha (Without Whipped Cream) 510\n",
      "White Chocolate Mocha (Without Whipped Cream) 460\n",
      "Hot Chocolate (Without Whipped Cream) 230\n",
      "Hot Chocolate (Without Whipped Cream) 240\n",
      "Hot Chocolate (Without Whipped Cream) 290\n",
      "Hot Chocolate (Without Whipped Cream) 250\n",
      "Hot Chocolate (Without Whipped Cream) 320\n",
      "Hot Chocolate (Without Whipped Cream) 380\n",
      "Hot Chocolate (Without Whipped Cream) 330\n",
      "Caramel Apple Spice (Without Whipped Cream) 210\n",
      "Caramel Apple Spice (Without Whipped Cream) 280\n",
      "Caramel Apple Spice (Without Whipped Cream) 360\n",
      "Tazo® Chai Tea Latte 210\n",
      "Tazo® Chai Tea Latte 240\n",
      "Tazo® Chai Tea Latte 220\n",
      "Tazo® Chai Tea Latte 260\n",
      "Tazo® Chai Tea Latte 310\n",
      "Tazo® Chai Tea Latte 280\n",
      "Tazo® Green Tea Latte 210\n",
      "Tazo® Green Tea Latte 260\n",
      "Tazo® Green Tea Latte 230\n",
      "Tazo® Green Tea Latte 290\n",
      "Tazo® Green Tea Latte 350\n",
      "Tazo® Green Tea Latte 310\n",
      "Tazo® Green Tea Latte 370\n",
      "Tazo® Green Tea Latte 450\n",
      "Tazo® Green Tea Latte 390\n",
      "Tazo® Full-Leaf Tea Latte 230\n",
      "Tazo® Full-Leaf Tea Latte 210\n",
      "Tazo® Full-Leaf Red Tea Latte (Vanilla Rooibos) 230\n",
      "Tazo® Full-Leaf Red Tea Latte (Vanilla Rooibos) 210\n",
      "Banana Chocolate Smoothie 280\n",
      "Banana Chocolate Smoothie 300\n",
      "Banana Chocolate Smoothie 290\n",
      "Orange Mango Banana Smoothie 260\n",
      "Orange Mango Banana Smoothie 270\n",
      "Orange Mango Banana Smoothie 270\n",
      "Strawberry Banana Smoothie 290\n",
      "Strawberry Banana Smoothie 290\n",
      "Strawberry Banana Smoothie 290\n",
      "Coffee 220\n",
      "Coffee 240\n",
      "Coffee 220\n",
      "Coffee 310\n",
      "Coffee 350\n",
      "Coffee 310\n",
      "Mocha (Without Whipped Cream) 260\n",
      "Mocha (Without Whipped Cream) 290\n",
      "Mocha (Without Whipped Cream) 260\n",
      "Mocha (Without Whipped Cream) 340\n",
      "Mocha (Without Whipped Cream) 390\n",
      "Mocha (Without Whipped Cream) 350\n",
      "Caramel (Without Whipped Cream) 280\n",
      "Caramel (Without Whipped Cream) 280\n",
      "Caramel (Without Whipped Cream) 260\n",
      "Caramel (Without Whipped Cream) 330\n",
      "Caramel (Without Whipped Cream) 370\n",
      "Caramel (Without Whipped Cream) 340\n",
      "Java Chip (Without Whipped Cream) 220\n",
      "Java Chip (Without Whipped Cream) 240\n",
      "Java Chip (Without Whipped Cream) 220\n",
      "Java Chip (Without Whipped Cream) 310\n",
      "Java Chip (Without Whipped Cream) 340\n",
      "Java Chip (Without Whipped Cream) 310\n",
      "Java Chip (Without Whipped Cream) 420\n",
      "Java Chip (Without Whipped Cream) 460\n",
      "Java Chip (Without Whipped Cream) 430\n",
      "Mocha 210\n",
      "Java Chip 220\n",
      "Java Chip 290\n",
      "Strawberries & Crème (Without Whipped Cream) 230\n",
      "Strawberries & Crème (Without Whipped Cream) 260\n",
      "Strawberries & Crème (Without Whipped Cream) 240\n",
      "Strawberries & Crème (Without Whipped Cream) 310\n",
      "Strawberries & Crème (Without Whipped Cream) 350\n",
      "Strawberries & Crème (Without Whipped Cream) 320\n",
      "Vanilla Bean (Without Whipped Cream) 240\n"
     ]
    }
   ],
   "source": [
    "# assuming csv was downloaded...\n",
    "\n",
    "with open('starbucks-menu/starbucks_drinkMenu_expanded.csv', 'r') as f:\n",
    "    # use next to skip header (but maybe you want to do something with this header???)\n",
    "    next(f)\n",
    "    count = 0\n",
    "    # loop over a file, line-by-line\n",
    "    for line in f:\n",
    "        # break up line using comma\n",
    "        line_parts = line.split(',')\n",
    "        # select only drinks that have calories over 200\n",
    "        # (make sure to attempt int conversion; should prob wrap in try except, no?)\n",
    "        if int(line_parts[3]) > 200:\n",
    "            print(line_parts[1], line_parts[3])"
   ]
  },
  {
   "cell_type": "code",
   "execution_count": null,
   "metadata": {},
   "outputs": [],
   "source": []
  }
 ],
 "metadata": {
  "kernelspec": {
   "display_name": "Python 3",
   "language": "python",
   "name": "python3"
  },
  "language_info": {
   "codemirror_mode": {
    "name": "ipython",
    "version": 3
   },
   "file_extension": ".py",
   "mimetype": "text/x-python",
   "name": "python",
   "nbconvert_exporter": "python",
   "pygments_lexer": "ipython3",
   "version": "3.7.4"
  }
 },
 "nbformat": 4,
 "nbformat_minor": 4
}
