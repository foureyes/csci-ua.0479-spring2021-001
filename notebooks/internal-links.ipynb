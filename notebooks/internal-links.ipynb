{
 "cells": [
  {
   "cell_type": "markdown",
   "metadata": {},
   "source": [
    "# Internal Links\n",
    "\n",
    "* [section 1](#section-1)\n",
    "* [section 2](#section-2)\n",
    "* [section 3](#section-3)"
   ]
  },
  {
   "cell_type": "markdown",
   "metadata": {},
   "source": [
    "## section 1"
   ]
  },
  {
   "cell_type": "code",
   "execution_count": 3,
   "metadata": {},
   "outputs": [
    {
     "name": "stdout",
     "output_type": "stream",
     "text": [
      "this is section 1\n",
      "this is section 1\n",
      "this is section 1\n",
      "this is section 1\n",
      "this is section 1\n"
     ]
    }
   ],
   "source": [
    "for i in range(5):\n",
    "    print('this is section 1')"
   ]
  },
  {
   "cell_type": "raw",
   "metadata": {},
   "source": [
    "## section 2"
   ]
  }
 ],
 "metadata": {
  "kernelspec": {
   "display_name": "Python 3",
   "language": "python",
   "name": "python3"
  },
  "language_info": {
   "codemirror_mode": {
    "name": "ipython",
    "version": 3
   },
   "file_extension": ".py",
   "mimetype": "text/x-python",
   "name": "python",
   "nbconvert_exporter": "python",
   "pygments_lexer": "ipython3",
   "version": "3.7.5"
  }
 },
 "nbformat": 4,
 "nbformat_minor": 4
}
