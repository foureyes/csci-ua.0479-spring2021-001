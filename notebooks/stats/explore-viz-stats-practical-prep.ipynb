{
 "cells": [
  {
   "cell_type": "markdown",
   "metadata": {},
   "source": [
    "# Descriptive Statistics, Generator Practice\n",
    "\n",
    "GISS Temp Data:\n",
    "\n",
    "* [home](https://data.giss.nasa.gov/gistemp/)\n",
    "* [as text file](https://data.giss.nasa.gov/gistemp/tabledata_v4/GLB.Ts+dSST.txt)\n",
    "* [as csv](https://data.giss.nasa.gov/gistemp/tabledata_v4/GLB.Ts+dSST.csv)\n",
    "* [faq (why anomaly rather than absolute temp)](https://data.giss.nasa.gov/gistemp/faq/)\n",
    "* [absolute varies in short distance](https://data.giss.nasa.gov/gistemp/faq/abs_temp.html)\n",
    "* [example plot](https://data.giss.nasa.gov/gistemp/faq/)\n",
    "\n",
    "1. discuss line graphs\n",
    "2. discuss scatter plots\n",
    "3. best fit line\n",
    "\n",
    "\n",
    "\n"
   ]
  },
  {
   "cell_type": "code",
   "execution_count": 6,
   "metadata": {},
   "outputs": [
    {
     "data": {
      "text/plain": [
       "(0, 12)"
      ]
     },
     "execution_count": 6,
     "metadata": {},
     "output_type": "execute_result"
    },
    {
     "data": {
      "image/png": "[encoded data removed]",
      "text/plain": [
       "<Figure size 432x288 with 1 Axes>"
      ]
     },
     "metadata": {
      "needs_background": "light"
     },
     "output_type": "display_data"
    }
   ],
   "source": [
    "# https://stackoverflow.com/questions/6148207/linear-regression-with-matplotlib-numpy\n",
    "\n",
    "import numpy as np\n",
    "import matplotlib.pyplot as plt\n",
    "\n",
    "x = [1,2,3,4]\n",
    "y = [3,5,7,10] # 10, not 9, so the fit isn't perfect\n",
    "\n",
    "coef = np.polyfit(x,y,1)\n",
    "poly1d_fn = np.poly1d(coef) \n",
    "# poly1d_fn is now a function which takes in x and returns an estimate for y\n",
    "\n",
    "plt.scatter(x, y)\n",
    "plt.plot(x, poly1d_fn(x), '--k')\n",
    "labels = 'a', 'b', 'c', 'd'\n",
    "for label, x, y in zip(labels, x, y):\n",
    "    plt.annotate(label, xy=(x, y))\n",
    "plt.xlim(0, 5)\n",
    "plt.ylim(0, 12)"
   ]
  },
  {
   "cell_type": "markdown",
   "metadata": {},
   "source": [
    "## Example Generator\n",
    "\n",
    "Calling the following function does not require entire contents of file (or even entire column) to be read into memory; instead, calorie value is read as needed."
   ]
  },
  {
   "cell_type": "code",
   "execution_count": 14,
   "metadata": {},
   "outputs": [],
   "source": [
    "# create generator function to read in \n",
    "# calorie column\n",
    "def get_calories():\n",
    "    with open('starbucks_drinkMenu_expanded.csv', 'r') as f:\n",
    "        next(f)\n",
    "        for line in f:\n",
    "            line_parts = line.split(',')\n",
    "            yield int(line_parts[3])\n"
   ]
  },
  {
   "cell_type": "markdown",
   "metadata": {},
   "source": [
    "## Descriptive Statistics\n",
    "\n",
    "### Max, Min, and Len\n",
    "\n",
    "It may be useful to describe a data set by:\n",
    "\n",
    "* the number of data points\n",
    "* the highest and lowest value\n",
    "\n",
    "There are built in functions in Python to do this, like `max`, `min`, and `len`"
   ]
  },
  {
   "cell_type": "code",
   "execution_count": 15,
   "metadata": {},
   "outputs": [
    {
     "data": {
      "text/plain": [
       "510"
      ]
     },
     "execution_count": 15,
     "metadata": {},
     "output_type": "execute_result"
    }
   ],
   "source": [
    "# max and min can actually take a generator \n",
    "max(get_calories())"
   ]
  },
  {
   "cell_type": "code",
   "execution_count": 8,
   "metadata": {},
   "outputs": [
    {
     "data": {
      "text/plain": [
       "0"
      ]
     },
     "execution_count": 8,
     "metadata": {},
     "output_type": "execute_result"
    }
   ],
   "source": [
    "min(get_calories())"
   ]
  },
  {
   "cell_type": "markdown",
   "metadata": {},
   "source": [
    "A generator is not actually a _collection_ of elements, so you can't use `len` on it. Instead, you'll have to turn your generator into a collection..."
   ]
  },
  {
   "cell_type": "code",
   "execution_count": 9,
   "metadata": {},
   "outputs": [],
   "source": [
    "# if we want to work with all values from our generator, we can convert to a list \n",
    "# (that means all values are in memory, tho)\n",
    "calories = list(get_calories())"
   ]
  },
  {
   "cell_type": "code",
   "execution_count": 16,
   "metadata": {},
   "outputs": [
    {
     "data": {
      "text/plain": [
       "242"
      ]
     },
     "execution_count": 16,
     "metadata": {},
     "output_type": "execute_result"
    }
   ],
   "source": [
    "# now it's possible to get the length of our data set\n",
    "len(calories)"
   ]
  },
  {
   "cell_type": "code",
   "execution_count": 18,
   "metadata": {},
   "outputs": [
    {
     "data": {
      "text/plain": [
       "[3, 4, 5, 5, 70, 100, 70, 100, 150, 110]"
      ]
     },
     "execution_count": 18,
     "metadata": {},
     "output_type": "execute_result"
    }
   ],
   "source": [
    "# because it's a list we can view the first 10 values with slicing\n",
    "calories[:10]"
   ]
  },
  {
   "cell_type": "code",
   "execution_count": 19,
   "metadata": {},
   "outputs": [
    {
     "data": {
      "text/plain": [
       "[230, 260, 240, 310, 350, 320, 170, 200, 180, 240]"
      ]
     },
     "execution_count": 19,
     "metadata": {},
     "output_type": "execute_result"
    }
   ],
   "source": [
    "# ...and the last 10 values\n",
    "calories[-10:]"
   ]
  },
  {
   "cell_type": "markdown",
   "metadata": {},
   "source": [
    "### Central Tendency\n",
    "\n",
    "Two methods of determining where our data set is centered are:\n",
    "\n",
    "1. mean\n",
    "2. median"
   ]
  },
  {
   "cell_type": "code",
   "execution_count": 5,
   "metadata": {},
   "outputs": [
    {
     "data": {
      "text/plain": [
       "3.0"
      ]
     },
     "execution_count": 5,
     "metadata": {},
     "output_type": "execute_result"
    }
   ],
   "source": [
    "mean = lambda li: sum(li) / len(li)\n",
    "mean([1, 2, 3, 4, 5])"
   ]
  },
  {
   "cell_type": "code",
   "execution_count": 9,
   "metadata": {},
   "outputs": [
    {
     "name": "stdout",
     "output_type": "stream",
     "text": [
      "3\n",
      "4.0\n"
     ]
    }
   ],
   "source": [
    "def median(li):\n",
    "    li.sort()\n",
    "    i = len(li) // 2\n",
    "    if len(li) % 2 == 1:\n",
    "        ret =  li[i]\n",
    "    else:\n",
    "        ret = mean(li[i - 1:i + 1])\n",
    "    return ret\n",
    "\n",
    "print(median([1, 2, 3, 4, 5]))\n",
    "print(median([1, 2, 3, 5, 6, 7]))"
   ]
  },
  {
   "cell_type": "code",
   "execution_count": 12,
   "metadata": {},
   "outputs": [
    {
     "data": {
      "text/plain": [
       "3"
      ]
     },
     "execution_count": 12,
     "metadata": {},
     "output_type": "execute_result"
    }
   ],
   "source": [
    "from collections import Counter\n",
    "def mode(li):\n",
    "    counts = Counter(li)\n",
    "    return counts.most_common(1)[0][0]\n",
    "    \n",
    "mode([1, 2, 2, 2, 3, 3, 3, 3, 3, 3, 4, 5, 5, 6, 7])"
   ]
  },
  {
   "cell_type": "code",
   "execution_count": 11,
   "metadata": {},
   "outputs": [
    {
     "data": {
      "text/plain": [
       "193.87190082644628"
      ]
     },
     "execution_count": 11,
     "metadata": {},
     "output_type": "execute_result"
    }
   ],
   "source": [
    "# calculating the mean\n",
    "sum(calories) / len(calories)"
   ]
  },
  {
   "cell_type": "code",
   "execution_count": 22,
   "metadata": {},
   "outputs": [],
   "source": [
    "# if we need the median, we'll have to sort first\n",
    "sorted_calories = sorted(calories)"
   ]
  },
  {
   "cell_type": "code",
   "execution_count": 23,
   "metadata": {},
   "outputs": [],
   "source": [
    "# calculating the median\n",
    "# if there is an even number of elements, we'll have to take average of middle two\n",
    "\n",
    "def median(d):\n",
    "    middle_index = len(d) // 2\n",
    "    if len(d) % 2 == 0:\n",
    "        return (d[middle_index] + d[middle_index + 1]) / 2\n",
    "    else: \n",
    "        return d[middle_index]\n"
   ]
  },
  {
   "cell_type": "code",
   "execution_count": 24,
   "metadata": {},
   "outputs": [
    {
     "data": {
      "text/plain": [
       "190.0"
      ]
     },
     "execution_count": 24,
     "metadata": {},
     "output_type": "execute_result"
    }
   ],
   "source": [
    "median(sorted_calories)"
   ]
  },
  {
   "cell_type": "code",
   "execution_count": 32,
   "metadata": {},
   "outputs": [],
   "source": [
    "# note that outliers may not affect the median, whereas they can throw off the mean!\n",
    "\n",
    "copy_sorted_calories = sorted_calories[:]\n",
    "\n",
    "# change the last value...\n",
    "copy_sorted_calories[-1] = 200000"
   ]
  },
  {
   "cell_type": "code",
   "execution_count": 33,
   "metadata": {},
   "outputs": [
    {
     "data": {
      "text/plain": [
       "1018.2107438016529"
      ]
     },
     "execution_count": 33,
     "metadata": {},
     "output_type": "execute_result"
    }
   ],
   "source": [
    "sum(copy_sorted_calories) / len(copy_sorted_calories)"
   ]
  },
  {
   "cell_type": "code",
   "execution_count": 34,
   "metadata": {},
   "outputs": [
    {
     "data": {
      "text/plain": [
       "190.0"
      ]
     },
     "execution_count": 34,
     "metadata": {},
     "output_type": "execute_result"
    }
   ],
   "source": [
    "median(copy_sorted_calories)"
   ]
  },
  {
   "cell_type": "code",
   "execution_count": 91,
   "metadata": {},
   "outputs": [],
   "source": [
    "# otoh adding / removing several values that aren't outliers may make the median jump, \n",
    "# whereas the mean may only change slightly"
   ]
  },
  {
   "cell_type": "code",
   "execution_count": 92,
   "metadata": {},
   "outputs": [],
   "source": [
    "copy_sorted_calories = [150] * 20 + sorted_calories[:]"
   ]
  },
  {
   "cell_type": "code",
   "execution_count": 93,
   "metadata": {},
   "outputs": [
    {
     "data": {
      "text/plain": [
       "190.5229007633588"
      ]
     },
     "execution_count": 93,
     "metadata": {},
     "output_type": "execute_result"
    }
   ],
   "source": [
    "sum(copy_sorted_calories) / len(copy_sorted_calories)"
   ]
  },
  {
   "cell_type": "code",
   "execution_count": 94,
   "metadata": {},
   "outputs": [
    {
     "data": {
      "text/plain": [
       "180.0"
      ]
     },
     "execution_count": 94,
     "metadata": {},
     "output_type": "execute_result"
    }
   ],
   "source": [
    "median(copy_sorted_calories)"
   ]
  },
  {
   "cell_type": "code",
   "execution_count": 95,
   "metadata": {},
   "outputs": [
    {
     "data": {
      "text/plain": [
       "11"
      ]
     },
     "execution_count": 95,
     "metadata": {},
     "output_type": "execute_result"
    }
   ],
   "source": [
    "# note that there are so many values that are 190 above that it's tough to change\n",
    "# that without adding several values like we did above\n",
    "sorted_calories.count(190)"
   ]
  },
  {
   "cell_type": "code",
   "execution_count": 7,
   "metadata": {},
   "outputs": [],
   "source": [
    "f = open('GLB.Ts+dSST.txt', 'r') "
   ]
  },
  {
   "cell_type": "code",
   "execution_count": 8,
   "metadata": {},
   "outputs": [],
   "source": [
    "lines = f.readlines()    "
   ]
  },
  {
   "cell_type": "code",
   "execution_count": 10,
   "metadata": {},
   "outputs": [
    {
     "name": "stdout",
     "output_type": "stream",
     "text": [
      "        GLOBAL Land-Ocean Temperature Index in 0.01 degrees Celsius   base period: 1951-1980\n",
      "\n",
      "                    sources:  GHCN-v4 1880-12/2019 + SST: ERSST v5 1880-12/2019\n",
      "                    using elimination of outliers and homogeneity adjustment\n",
      "                    Notes: 1950 DJF = Dec 1949 - Feb 1950 ;  ***** = missing\n",
      "\n",
      "                                                                     AnnMean\n",
      "Year   Jan  Feb  Mar  Apr  May  Jun  Jul  Aug  Sep  Oct  Nov  Dec    J-D D-N    DJF  MAM  JJA  SON  Year\n",
      "1880   -17  -23   -8  -15   -9  -20  -17   -9  -14  -22  -21  -16    -16 ***   ****  -11  -15  -19  1880\n",
      "1881   -18  -13    4    6    7  -17    1   -2  -14  -20  -17   -6     -7  -8    -16    6   -6  -17  1881\n",
      "\n"
     ]
    }
   ],
   "source": [
    "print(''.join(lines[:10]))"
   ]
  },
  {
   "cell_type": "code",
   "execution_count": 11,
   "metadata": {},
   "outputs": [
    {
     "name": "stdout",
     "output_type": "stream",
     "text": [
      "2017   103  114  116   94   90   72   82   87   79   90   88   95     92  92    101  100   80   86  2017\n",
      "2018    82   85   90   90   82   78   82   77   80  101   83   92     85  85     87   87   79   88  2018\n",
      "2019    93   95  118  102   86   92   94   94   92  102  100  111     98  97     93  102   93   98  2019\n",
      "Year   Jan  Feb  Mar  Apr  May  Jun  Jul  Aug  Sep  Oct  Nov  Dec    J-D D-N    DJF  MAM  JJA  SON  Year\n",
      "\n",
      "Divide by 100 to get changes in degrees Celsius (deg-C).\n",
      "Multiply that result by 1.8(=9/5) to get changes in degrees Fahrenheit (deg-F).\n",
      "\n",
      "Example      --      Table Value :      40\n",
      "                          change :    0.40 deg-C  or  0.72 deg-F\n"
     ]
    }
   ],
   "source": [
    "print(''.join(lines[-10:]))"
   ]
  },
  {
   "cell_type": "code",
   "execution_count": 20,
   "metadata": {},
   "outputs": [],
   "source": [
    "def get_temps():\n",
    "    f = open('GLB.Ts+dSST.txt', 'r') \n",
    "    startIndex = None\n",
    "    endIndex = None\n",
    "    for line in f:\n",
    "        parts = line.split()\n",
    "        if len(parts) > 0:\n",
    "            if parts[0] == 'Year' and startIndex == None and endIndex == None:\n",
    "                try:\n",
    "                    startIndex = parts.index('Jan')\n",
    "                    endIndex = parts.index('Dec')\n",
    "                except IndexError:\n",
    "                    continue\n",
    "            elif parts[0].isnumeric() and len(parts[0]) == 4 and startIndex and endIndex:\n",
    "                try:\n",
    "                    yield int(parts[0]), [int(n) for n in parts[startIndex:endIndex + 1]]\n",
    "                except ValueError:\n",
    "                    continue\n",
    "            \n",
    "    \n",
    "    "
   ]
  },
  {
   "cell_type": "code",
   "execution_count": 21,
   "metadata": {},
   "outputs": [
    {
     "name": "stdout",
     "output_type": "stream",
     "text": [
      "(1880, [-17, -23, -8, -15, -9, -20, -17, -9, -14, -22, -21, -16])\n",
      "(1881, [-18, -13, 4, 6, 7, -17, 1, -2, -14, -20, -17, -6])\n",
      "(1882, [18, 15, 6, -15, -14, -22, -15, -6, -14, -23, -15, -35])\n",
      "(1883, [-28, -36, -12, -18, -17, -6, -7, -13, -21, -11, -23, -10])\n",
      "(1884, [-12, -8, -36, -39, -34, -34, -32, -27, -27, -24, -32, -30])\n",
      "(1885, [-57, -32, -25, -41, -44, -42, -32, -29, -27, -22, -22, -8])\n",
      "(1886, [-41, -49, -41, -27, -23, -33, -17, -29, -22, -26, -25, -23])\n",
      "(1887, [-70, -55, -34, -33, -29, -23, -24, -33, -24, -34, -24, -32])\n",
      "(1888, [-32, -34, -39, -19, -21, -16, -9, -14, -11, 3, 5, -3])\n",
      "(1889, [-7, 19, 7, 11, 0, -9, -6, -19, -23, -24, -32, -28])\n",
      "(1890, [-41, -45, -39, -28, -39, -23, -27, -38, -35, -24, -43, -30])\n",
      "(1891, [-32, -46, -17, -26, -15, -20, -17, -16, -15, -21, -30, -3])\n",
      "(1892, [-27, -9, -39, -32, -23, -21, -31, -26, -15, -13, -41, -37])\n",
      "(1893, [-80, -55, -21, -26, -34, -25, -13, -24, -22, -18, -18, -31])\n",
      "(1894, [-51, -28, -22, -44, -30, -39, -23, -23, -27, -22, -24, -20])\n",
      "(1895, [-39, -41, -31, -20, -26, -19, -16, -16, -11, -10, -15, -12])\n",
      "(1896, [-21, -12, -25, -29, -15, -10, -2, -4, -6, 8, -3, -3])\n",
      "(1897, [-14, -16, -12, -1, 0, -10, -2, -9, -8, -11, -17, -19])\n",
      "(1898, [0, -28, -49, -29, -29, -17, -21, -25, -20, -33, -37, -22])\n",
      "(1899, [-15, -38, -35, -20, -23, -31, -15, -7, -4, -3, 14, -25])\n",
      "(1900, [-34, -4, 2, -8, -8, -9, -12, -8, -4, 11, -5, -5])\n",
      "(1901, [-21, -10, 7, -1, -14, -11, -14, -20, -22, -28, -16, -26])\n",
      "(1902, [-17, -6, -28, -28, -32, -30, -28, -29, -29, -28, -35, -41])\n",
      "(1903, [-23, -5, -22, -40, -39, -41, -35, -44, -49, -48, -42, -50])\n",
      "(1904, [-63, -57, -48, -50, -51, -48, -50, -48, -55, -38, -17, -32])\n",
      "(1905, [-34, -58, -21, -33, -29, -28, -26, -19, -19, -24, -6, -12])\n",
      "(1906, [-28, -29, -18, -5, -25, -20, -23, -20, -28, -20, -37, -14])\n",
      "(1907, [-43, -51, -27, -37, -46, -41, -35, -34, -34, -22, -46, -46])\n",
      "(1908, [-44, -32, -55, -44, -37, -37, -35, -45, -36, -44, -51, -48])\n",
      "(1909, [-72, -45, -54, -58, -54, -51, -45, -33, -39, -39, -31, -56])\n",
      "(1910, [-41, -41, -50, -42, -34, -38, -34, -36, -39, -41, -54, -67])\n",
      "(1911, [-62, -57, -61, -53, -51, -49, -41, -43, -41, -26, -20, -20])\n",
      "(1912, [-25, -14, -37, -17, -21, -23, -42, -54, -58, -57, -38, -43])\n",
      "(1913, [-40, -45, -42, -39, -44, -45, -36, -33, -35, -31, -19, -1])\n",
      "(1914, [4, -9, -23, -29, -21, -26, -24, -16, -17, -3, -15, -3])\n",
      "(1915, [-19, -3, -9, 6, -6, -21, -12, -22, -20, -24, -12, -21])\n",
      "(1916, [-12, -14, -28, -30, -34, -49, -37, -28, -36, -33, -46, -82])\n",
      "(1917, [-57, -63, -63, -54, -55, -43, -25, -22, -23, -44, -33, -66])\n",
      "(1918, [-46, -34, -24, -43, -43, -36, -31, -31, -17, -6, -11, -29])\n",
      "(1919, [-20, -24, -21, -12, -28, -36, -29, -32, -25, -20, -41, -41])\n",
      "(1920, [-24, -26, -12, -24, -26, -35, -30, -26, -22, -27, -26, -46])\n",
      "(1921, [-4, -17, -23, -30, -30, -27, -15, -26, -19, -3, -13, -17])\n",
      "(1922, [-32, -44, -14, -23, -33, -30, -27, -32, -36, -33, -14, -18])\n",
      "(1923, [-28, -39, -34, -40, -33, -29, -31, -33, -31, -13, -2, -4])\n",
      "(1924, [-23, -24, -8, -31, -18, -26, -29, -36, -32, -35, -21, -43])\n",
      "(1925, [-39, -40, -28, -25, -29, -32, -26, -20, -20, -17, 5, 6])\n",
      "(1926, [20, 2, 10, -12, -24, -26, -27, -13, -14, -11, -6, -29])\n",
      "(1927, [-27, -18, -39, -30, -25, -27, -19, -24, -13, -1, -6, -33])\n",
      "(1928, [-1, -9, -25, -28, -30, -38, -19, -22, -22, -19, -8, -16])\n",
      "(1929, [-45, -59, -33, -41, -38, -43, -37, -32, -25, -14, -11, -54])\n",
      "(1930, [-29, -27, -11, -25, -24, -22, -21, -15, -15, -11, 18, -5])\n",
      "(1931, [-10, -20, -10, -22, -19, -8, -3, -3, -7, 5, -5, -5])\n",
      "(1932, [15, -17, -18, -5, -17, -28, -25, -21, -10, -9, -27, -25])\n",
      "(1933, [-23, -29, -29, -24, -29, -34, -21, -23, -29, -25, -30, -44])\n",
      "(1934, [-21, -3, -29, -30, -9, -15, -11, -12, -15, -6, 4, -2])\n",
      "(1935, [-33, 14, -14, -37, -29, -27, -22, -22, -22, -5, -26, -17])\n",
      "(1936, [-27, -38, -21, -20, -17, -22, -10, -13, -9, -3, 1, -1])\n",
      "(1937, [-7, 3, -20, -16, -5, -5, -4, 2, 9, 9, 9, -7])\n",
      "(1938, [8, 3, 9, 6, -10, -17, -9, -5, 0, 15, 8, -13])\n",
      "(1939, [-5, -6, -17, -9, -4, -7, -5, -6, -7, -3, 8, 44])\n",
      "(1940, [0, 9, 10, 18, 11, 12, 12, 7, 16, 12, 17, 32])\n",
      "(1941, [19, 31, 10, 17, 17, 13, 22, 15, 2, 35, 23, 22])\n",
      "(1942, [30, 3, 5, 10, 11, 5, 1, -3, -3, 2, 10, 13])\n",
      "(1943, [-1, 17, -3, 11, 6, -5, 9, 1, 5, 23, 20, 24])\n",
      "(1944, [36, 24, 26, 19, 18, 16, 18, 18, 28, 26, 11, 4])\n",
      "(1945, [10, 0, 6, 19, 5, 1, 4, 26, 20, 18, 7, -7])\n",
      "(1946, [15, 3, 1, 5, -7, -21, -12, -20, -8, -8, -5, -31])\n",
      "(1947, [-6, -8, 6, 6, -2, -2, -4, -7, -13, 7, 3, -13])\n",
      "(1948, [7, -15, -25, -12, -1, -5, -11, -12, -14, -5, -13, -24])\n",
      "(1949, [6, -14, -2, -11, -10, -27, -13, -13, -15, -6, -10, -18])\n",
      "(1950, [-26, -27, -8, -21, -11, -5, -9, -16, -12, -20, -34, -21])\n",
      "(1951, [-34, -41, -20, -14, 0, -6, -1, 6, 5, 8, -1, 16])\n",
      "(1952, [11, 11, -8, 3, -3, -3, 4, 5, 7, 0, -13, -2])\n",
      "(1953, [8, 15, 11, 19, 11, 12, 1, 5, 4, 8, -3, 5])\n",
      "(1954, [-24, -10, -15, -14, -20, -18, -19, -17, -10, -2, 8, -18])\n",
      "(1955, [13, -16, -32, -22, -20, -14, -12, 2, -11, -5, -25, -28])\n",
      "(1956, [-13, -24, -21, -28, -29, -16, -9, -26, -19, -23, -14, -6])\n",
      "(1957, [-9, -3, -4, 1, 10, 16, 3, 13, 8, 0, 7, 15])\n",
      "(1958, [39, 21, 9, 1, 5, -7, 6, -3, -2, 4, 2, 1])\n",
      "(1959, [8, 7, 17, 14, 5, 3, 3, 0, -6, -6, -8, 0])\n",
      "(1960, [0, 15, -34, -15, -7, -4, -4, 3, 6, 5, -11, 19])\n",
      "(1961, [7, 19, 10, 12, 13, 11, 1, 1, 8, 2, 3, -16])\n",
      "(1962, [6, 16, 11, 6, -7, 5, 2, -2, 2, 2, 6, -3])\n",
      "(1963, [-3, 18, -13, -7, -6, 3, 7, 22, 18, 14, 14, -3])\n",
      "(1964, [-9, -10, -22, -32, -25, -5, -5, -21, -30, -31, -22, -30])\n",
      "(1965, [-8, -17, -13, -20, -11, -8, -14, -5, -14, -6, -6, -8])\n",
      "(1966, [-19, -5, 3, -14, -12, 0, 8, -8, -3, -16, -1, -3])\n",
      "(1967, [-8, -21, 5, -4, 11, -8, 3, -1, -5, 10, -4, -5])\n",
      "(1968, [-26, -15, 20, -6, -13, -7, -12, -8, -17, 9, -5, -14])\n",
      "(1969, [-11, -17, 1, 17, 18, 4, -4, 4, 8, 10, 12, 24])\n",
      "(1970, [8, 22, 6, 5, -4, -3, 1, -10, 11, 2, 2, -12])\n",
      "(1971, [-3, -16, -18, -7, -5, -17, -8, -1, -6, -4, -7, -9])\n",
      "(1972, [-22, -18, 2, 0, -3, 4, 1, 16, 2, 8, 2, 17])\n",
      "(1973, [29, 33, 29, 27, 22, 19, 12, 5, 9, 10, 5, -6])\n",
      "(1974, [-10, -27, -5, -11, -4, -5, -3, 10, -8, -6, -7, -8])\n",
      "(1975, [10, 8, 12, 4, 16, -1, -1, -17, -3, -12, -17, -17])\n",
      "(1976, [-3, -6, -22, -7, -21, -13, -10, -12, -6, -24, -6, 10])\n",
      "(1977, [18, 23, 24, 27, 32, 27, 20, 18, 2, 3, 16, 3])\n",
      "(1978, [6, 10, 19, 17, 9, -1, 4, -13, 6, 3, 14, 8])\n",
      "(1979, [8, -10, 19, 15, 3, 14, 4, 17, 25, 25, 29, 48])\n",
      "(1980, [30, 40, 30, 30, 35, 20, 22, 18, 20, 13, 29, 21])\n",
      "(1981, [52, 42, 48, 32, 24, 29, 32, 35, 15, 12, 23, 41])\n",
      "(1982, [4, 15, 3, 15, 18, 5, 14, 3, 13, 13, 17, 42])\n",
      "(1983, [53, 42, 41, 27, 33, 22, 17, 35, 37, 16, 30, 17])\n",
      "(1984, [31, 14, 26, 6, 32, 2, 19, 19, 21, 13, 7, -5])\n",
      "(1985, [22, -4, 17, 12, 14, 15, 4, 16, 13, 11, 5, 13])\n",
      "(1986, [27, 37, 30, 22, 21, 12, 11, 15, 3, 15, 11, 13])\n",
      "(1987, [32, 43, 18, 24, 25, 34, 40, 24, 35, 32, 29, 46])\n",
      "(1988, [56, 44, 51, 42, 43, 39, 32, 38, 36, 37, 12, 28])\n",
      "(1989, [11, 30, 36, 29, 17, 16, 33, 33, 35, 28, 19, 37])\n",
      "(1990, [41, 43, 79, 56, 45, 39, 46, 34, 23, 44, 47, 40])\n",
      "(1991, [42, 49, 35, 51, 34, 52, 47, 40, 44, 28, 29, 31])\n",
      "(1992, [47, 41, 47, 27, 30, 26, 8, 8, -1, 6, 2, 21])\n",
      "(1993, [34, 37, 36, 27, 28, 23, 25, 11, 12, 23, 4, 18])\n",
      "(1994, [26, 2, 30, 40, 27, 43, 30, 22, 32, 41, 44, 38])\n",
      "(1995, [52, 79, 47, 46, 28, 42, 45, 46, 33, 47, 44, 25])\n",
      "(1996, [23, 46, 33, 32, 28, 25, 36, 48, 24, 19, 38, 37])\n",
      "(1997, [29, 41, 52, 35, 36, 54, 34, 43, 52, 60, 64, 58])\n",
      "(1998, [58, 88, 63, 64, 66, 76, 67, 65, 42, 42, 43, 56])\n",
      "(1999, [48, 65, 32, 33, 27, 36, 38, 32, 38, 34, 37, 41])\n",
      "(2000, [25, 56, 55, 57, 35, 39, 37, 42, 39, 27, 31, 29])\n",
      "(2001, [46, 44, 56, 51, 58, 51, 59, 50, 52, 51, 73, 56])\n",
      "(2002, [77, 79, 88, 58, 63, 53, 60, 53, 63, 54, 59, 43])\n",
      "(2003, [75, 59, 59, 55, 61, 48, 58, 65, 62, 73, 53, 75])\n",
      "(2004, [58, 73, 63, 61, 39, 44, 26, 47, 51, 61, 73, 51])\n",
      "(2005, [74, 61, 74, 68, 63, 65, 62, 62, 71, 75, 74, 68])\n",
      "(2006, [56, 73, 63, 48, 50, 65, 54, 71, 65, 69, 73, 79])\n",
      "(2007, [101, 70, 72, 75, 68, 61, 60, 60, 60, 59, 58, 49])\n",
      "(2008, [30, 38, 74, 53, 49, 49, 60, 47, 61, 65, 69, 54])\n",
      "(2009, [65, 53, 54, 60, 66, 65, 71, 68, 73, 65, 80, 67])\n",
      "(2010, [75, 84, 91, 84, 76, 68, 63, 66, 63, 70, 82, 45])\n",
      "(2011, [52, 48, 65, 65, 52, 61, 70, 73, 58, 66, 59, 61])\n",
      "(2012, [49, 49, 57, 71, 77, 65, 58, 64, 71, 79, 79, 53])\n",
      "(2013, [71, 63, 67, 56, 62, 71, 61, 70, 77, 69, 85, 70])\n",
      "(2014, [76, 55, 79, 81, 85, 67, 59, 81, 85, 80, 67, 80])\n",
      "(2015, [86, 90, 96, 77, 79, 82, 75, 83, 85, 108, 106, 116])\n",
      "(2016, [117, 137, 136, 112, 96, 82, 84, 101, 91, 88, 91, 86])\n",
      "(2017, [103, 114, 116, 94, 90, 72, 82, 87, 79, 90, 88, 95])\n",
      "(2018, [82, 85, 90, 90, 82, 78, 82, 77, 80, 101, 83, 92])\n",
      "(2019, [93, 95, 118, 102, 86, 92, 94, 94, 92, 102, 100, 111])\n"
     ]
    }
   ],
   "source": [
    "for t in get_temps():\n",
    "    print(t)"
   ]
  },
  {
   "cell_type": "code",
   "execution_count": 24,
   "metadata": {},
   "outputs": [
    {
     "data": {
      "text/plain": [
       "(2016, [117, 137, 136, 112, 96, 82, 84, 101, 91, 88, 91, 86])"
      ]
     },
     "execution_count": 24,
     "metadata": {},
     "output_type": "execute_result"
    }
   ],
   "source": [
    "max(get_temps(), key=lambda t: t[1][0])"
   ]
  },
  {
   "cell_type": "code",
   "execution_count": null,
   "metadata": {},
   "outputs": [],
   "source": []
  }
 ],
 "metadata": {
  "kernelspec": {
   "display_name": "Python 3",
   "language": "python",
   "name": "python3"
  },
  "language_info": {
   "codemirror_mode": {
    "name": "ipython",
    "version": 3
   },
   "file_extension": ".py",
   "mimetype": "text/x-python",
   "name": "python",
   "nbconvert_exporter": "python",
   "pygments_lexer": "ipython3",
   "version": "3.7.5"
  }
 },
 "nbformat": 4,
 "nbformat_minor": 4
}
