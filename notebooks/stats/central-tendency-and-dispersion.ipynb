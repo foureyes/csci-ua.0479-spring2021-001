{
 "cells": [
  {
   "cell_type": "markdown",
   "metadata": {},
   "source": [
    "# Central Tendency, Dispersion\n",
    "\n",
    "## Central Tendency\n",
    "\n",
    "Where is the data _centered_?\n",
    "\n",
    "1. mean - sensitive to outliers\n",
    "2. median\n",
    "3. mode / frequency\n",
    "4. quantile\n",
    "\n",
    "\n",
    "### Frequency\n",
    "\n",
    "Frequency - number of times a value appears in the datast\n",
    "\n",
    "Can be done with `dict` or `Counter`"
   ]
  },
  {
   "cell_type": "code",
   "execution_count": 67,
   "metadata": {},
   "outputs": [],
   "source": [
    "import numpy as np\n",
    "\n",
    "# set up some data...\n",
    "\n",
    "# kind of like rolling two six-sided dice\n",
    "rolls = np.random.randint(1, 6, 1000) + np.random.randint(1, 6, 1000)"
   ]
  },
  {
   "cell_type": "markdown",
   "metadata": {},
   "source": [
    "### Counting with a Dictionary"
   ]
  },
  {
   "cell_type": "code",
   "execution_count": 16,
   "metadata": {},
   "outputs": [
    {
     "data": {
      "text/plain": [
       "{8: 119, 7: 163, 4: 116, 6: 189, 10: 43, 3: 88, 9: 78, 2: 36, 5: 168}"
      ]
     },
     "execution_count": 16,
     "metadata": {},
     "output_type": "execute_result"
    }
   ],
   "source": [
    "counts = {}\n",
    "for n in rolls:\n",
    "   counts[n] = counts.get(n, 0)  + 1\n",
    "   \n",
    "counts"
   ]
  },
  {
   "cell_type": "code",
   "execution_count": 17,
   "metadata": {},
   "outputs": [
    {
     "name": "stdout",
     "output_type": "stream",
     "text": [
      "{8: 119, 7: 163, 4: 116, 6: 189, 10: 43, 3: 88, 9: 78, 2: 36, 5: 168}\n",
      "{8: 119, 7: 163, 4: 116, 6: 189, 10: 43, 3: 88, 9: 78, 2: 36, 5: 168}\n",
      "{8: 119, 7: 163, 4: 116, 6: 189, 10: 43, 3: 88, 9: 78, 2: 36, 5: 168}\n"
     ]
    }
   ],
   "source": [
    "# also ... with try/except, in, update\n",
    "counts = {}\n",
    "for val in rolls:\n",
    "    try:\n",
    "        counts[val] += 1\n",
    "    except:\n",
    "        counts[val] = 1\n",
    "print(counts)        \n",
    "\n",
    "counts = {}\n",
    "for val in rolls:\n",
    "    if val in counts:\n",
    "        counts[val] += 1\n",
    "    else:\n",
    "        counts[val] = 1\n",
    "print(counts)        \n",
    "        \n",
    "counts = {}\n",
    "for val in rolls:\n",
    "    counts.update({val: counts.get(val, 0) + 1})\n",
    "print(counts)        "
   ]
  },
  {
   "cell_type": "markdown",
   "metadata": {},
   "source": [
    "### Counting with Counter\n",
    "\n",
    "Or, u no... you can just use a `Counter`. It's a sublcass of dictionary; you can pass it a list, and it'll count the items for you. Keys are _things_ you're counting, values are the actual counts."
   ]
  },
  {
   "cell_type": "code",
   "execution_count": 68,
   "metadata": {},
   "outputs": [
    {
     "data": {
      "text/plain": [
       "Counter({5: 183, 6: 210, 4: 130, 8: 101, 2: 40, 7: 153, 9: 72, 10: 42, 3: 69})"
      ]
     },
     "execution_count": 68,
     "metadata": {},
     "output_type": "execute_result"
    }
   ],
   "source": [
    "from collections import Counter\n",
    "c = Counter(rolls)\n",
    "c"
   ]
  },
  {
   "cell_type": "code",
   "execution_count": 69,
   "metadata": {},
   "outputs": [
    {
     "data": {
      "text/plain": [
       "[(6, 210),\n",
       " (5, 183),\n",
       " (7, 153),\n",
       " (4, 130),\n",
       " (8, 101),\n",
       " (9, 72),\n",
       " (3, 69),\n",
       " (10, 42),\n",
       " (2, 40)]"
      ]
     },
     "execution_count": 69,
     "metadata": {},
     "output_type": "execute_result"
    }
   ],
   "source": [
    "c.most_common()"
   ]
  },
  {
   "cell_type": "code",
   "execution_count": 70,
   "metadata": {},
   "outputs": [
    {
     "data": {
      "text/plain": [
       "[(6, 210), (5, 183)]"
      ]
     },
     "execution_count": 70,
     "metadata": {},
     "output_type": "execute_result"
    }
   ],
   "source": [
    "c.most_common(2)"
   ]
  },
  {
   "cell_type": "markdown",
   "metadata": {},
   "source": [
    "### Mean, Median, and Mode\n",
    "\n",
    "* mean: _average_ \n",
    "* median: \"middle\" value (half of the values fall under this)\n",
    "* mode: most frequently occurring value"
   ]
  },
  {
   "cell_type": "code",
   "execution_count": 71,
   "metadata": {},
   "outputs": [],
   "source": [
    "mean = lambda data: sum(data) / len(data)"
   ]
  },
  {
   "cell_type": "code",
   "execution_count": 74,
   "metadata": {},
   "outputs": [],
   "source": [
    "def median(data):\n",
    "    d = sorted(data)\n",
    "    i = len(d) // 2\n",
    "    # if even, mean of two middle values\n",
    "    return d[i] if len(d) % 2 == 1 else mean(d[i-1: i+1])"
   ]
  },
  {
   "cell_type": "code",
   "execution_count": 73,
   "metadata": {},
   "outputs": [
    {
     "name": "stdout",
     "output_type": "stream",
     "text": [
      "4.0\n",
      "5\n"
     ]
    }
   ],
   "source": [
    "print(median([1, 2, 3, 5, 6, 7]))\n",
    "print(median([2, 3, 5, 6, 7]))"
   ]
  },
  {
   "cell_type": "code",
   "execution_count": 1,
   "metadata": {},
   "outputs": [],
   "source": [
    "mode = lambda data: Counter(data).most_common(1)[0][0]\n",
    "\n",
    "# of course, we can do with dictionaries as well\n",
    "def mode(data):\n",
    "    counts = {}\n",
    "    for val in rolls:\n",
    "        if val in counts:\n",
    "            counts[val] += 1\n",
    "        else:\n",
    "            counts[val] = 1\n",
    "    # y, this is ridiculous, sry!\n",
    "    return sorted(counts.items(), key=lambda t: t[1])[-1][0] if len(counts) > 0 else None"
   ]
  },
  {
   "cell_type": "code",
   "execution_count": 82,
   "metadata": {},
   "outputs": [
    {
     "data": {
      "text/plain": [
       "6"
      ]
     },
     "execution_count": 82,
     "metadata": {},
     "output_type": "execute_result"
    }
   ],
   "source": [
    "mode(rolls)"
   ]
  },
  {
   "cell_type": "code",
   "execution_count": 83,
   "metadata": {},
   "outputs": [
    {
     "data": {
      "text/plain": [
       "6.0"
      ]
     },
     "execution_count": 83,
     "metadata": {},
     "output_type": "execute_result"
    }
   ],
   "source": [
    "median(rolls)"
   ]
  },
  {
   "cell_type": "code",
   "execution_count": 84,
   "metadata": {},
   "outputs": [
    {
     "data": {
      "text/plain": [
       "5.929"
      ]
     },
     "execution_count": 84,
     "metadata": {},
     "output_type": "execute_result"
    }
   ],
   "source": [
    "mean(rolls)"
   ]
  },
  {
   "cell_type": "code",
   "execution_count": 85,
   "metadata": {},
   "outputs": [
    {
     "data": {
      "image/png": "[encoded data removed]",
      "text/plain": [
       "<Figure size 432x288 with 1 Axes>"
      ]
     },
     "metadata": {},
     "output_type": "display_data"
    }
   ],
   "source": [
    "# bonus! what does this data set of rolls actually _look_ like???\n",
    "import numpy as np\n",
    "from matplotlib import pyplot as plt\n",
    "plt.hist(rolls, bins=(max(rolls) - min(rolls)))\n",
    "plt.ylabel('Roll Result');"
   ]
  },
  {
   "cell_type": "markdown",
   "metadata": {},
   "source": [
    "### Percentile / 100-Quantile\n",
    "\n",
    "Value under which some given percent of ordered data falls. (There are _other_ quantiles, like percentiles, tertiles, quartiles, etc. ...)"
   ]
  },
  {
   "cell_type": "code",
   "execution_count": 86,
   "metadata": {},
   "outputs": [],
   "source": [
    "quantile = lambda p, data: sorted(data)[int(p * len(data))]\n",
    "\n",
    "# uh... btw, we're using our book definition here which truncates the index\n",
    "# ...but there are other methods of finding the index / actual value... such \n",
    "# as \"nearest rank\" (round up) and some sort of interpolation (which means\n",
    "# value won't actually be in original set!)"
   ]
  },
  {
   "cell_type": "code",
   "execution_count": 87,
   "metadata": {},
   "outputs": [
    {
     "data": {
      "text/plain": [
       "[1, 2, 3, 5, 6, 8, 12, 12, 20, 22]"
      ]
     },
     "execution_count": 87,
     "metadata": {},
     "output_type": "execute_result"
    }
   ],
   "source": [
    "nums = [22, 12, 1, 5, 6, 2, 3, 20, 12, 8]\n",
    "sorted(nums)"
   ]
  },
  {
   "cell_type": "code",
   "execution_count": 88,
   "metadata": {},
   "outputs": [
    {
     "data": {
      "text/plain": [
       "7.0"
      ]
     },
     "execution_count": 88,
     "metadata": {},
     "output_type": "execute_result"
    }
   ],
   "source": [
    "median(nums)"
   ]
  },
  {
   "cell_type": "code",
   "execution_count": 89,
   "metadata": {},
   "outputs": [
    {
     "data": {
      "text/plain": [
       "8"
      ]
     },
     "execution_count": 89,
     "metadata": {},
     "output_type": "execute_result"
    }
   ],
   "source": [
    "# typically the 50th percentile is the median, but we truncated so 🤷\n",
    "quantile(0.50, nums)"
   ]
  },
  {
   "cell_type": "code",
   "execution_count": 90,
   "metadata": {},
   "outputs": [
    {
     "data": {
      "text/plain": [
       "7.0"
      ]
     },
     "execution_count": 90,
     "metadata": {},
     "output_type": "execute_result"
    }
   ],
   "source": [
    "# numpy's percentile implementation agrees with our median calculation tho!\n",
    "np.percentile(nums, 50)"
   ]
  },
  {
   "cell_type": "markdown",
   "metadata": {},
   "source": [
    "## Dispersion\n",
    "\n",
    "\n",
    "How _spread apart_ is the data?\n",
    "\n",
    "1. variance\n",
    "2. standard deviation - sensitive to outliers\n",
    "    * mean absolute deviation also possible\n",
    "3. middle 50% (interquartile range)\n",
    "\n",
    "\n",
    "### range\n",
    "* range of values... max and min again\n",
    "* range is 0 if max and min are the same (no spread / data not dispersed... all points are the same!)\n",
    "* larger range, obvs means min and max are far apart\n",
    "\n",
    "... but that only describes max and min, what about all the other values?\n",
    "\n",
    "### population variance \n",
    "\n",
    "* variance - describes variability or spread of distribution\n",
    "* kind of like calculating difference from mean for all points, and getting the average of that\n",
    "* but! instead of just the difference, we square the difference\n",
    "* how to calculate variance:\n",
    "  1. it's the average of the squared differences from the Mean\n",
    "  2. calculate mean\n",
    "  3. for every data point... subtract the mean and square the result .\n",
    "  4. average of all differences (divide by number of data points)\n",
    "  \n"
   ]
  },
  {
   "cell_type": "code",
   "execution_count": 101,
   "metadata": {},
   "outputs": [],
   "source": [
    "# assuming population variance (most libs will allow you to change this)\n",
    "def variance(data):\n",
    "    # for every number, subtract the mean, sq the result\n",
    "    mu = mean(data)\n",
    "    # sum of sq differences\n",
    "    return sum((x - mu) ** 2 for x in data) / len(data)"
   ]
  },
  {
   "cell_type": "code",
   "execution_count": 102,
   "metadata": {},
   "outputs": [
    {
     "data": {
      "text/plain": [
       "21704.0"
      ]
     },
     "execution_count": 102,
     "metadata": {},
     "output_type": "execute_result"
    }
   ],
   "source": [
    "data = [600, 470, 170, 430, 300]\n",
    "variance(data)"
   ]
  },
  {
   "cell_type": "code",
   "execution_count": 103,
   "metadata": {},
   "outputs": [
    {
     "data": {
      "text/plain": [
       "1.9236760000000002"
      ]
     },
     "execution_count": 103,
     "metadata": {},
     "output_type": "execute_result"
    }
   ],
   "source": [
    "variance(rolls)"
   ]
  },
  {
   "cell_type": "markdown",
   "metadata": {},
   "source": [
    "### population standard deviation  \n",
    "\n",
    "* to get back to original units (rather than squares), use standard deviation.\n",
    "    * calculate: square root of variance\n",
    "    * can help describe how far away a value is from _normal_\n"
   ]
  },
  {
   "cell_type": "code",
   "execution_count": 104,
   "metadata": {},
   "outputs": [],
   "source": [
    "def standard_deviation(data):\n",
    "    return variance(data) ** 0.5"
   ]
  },
  {
   "cell_type": "code",
   "execution_count": 105,
   "metadata": {},
   "outputs": [
    {
     "data": {
      "text/plain": [
       "147.32277488562318"
      ]
     },
     "execution_count": 105,
     "metadata": {},
     "output_type": "execute_result"
    }
   ],
   "source": [
    "standard_deviation(data)"
   ]
  },
  {
   "cell_type": "markdown",
   "metadata": {},
   "source": [
    "### variance and standard deviation\n",
    "\n",
    "* y square???\n",
    "  * mix of negative and positive numbers will \"cancel\" out (we want to compare distance; remove sign)\n",
    "  * magnifies extremes, tho (good or bad?)\n",
    "  * why not absolute value? yes, this is also a measure of dispersion\n",
    "  * http://www.leeds.ac.uk/educol/documents/00003759.htm\n",
    "  * https://stats.stackexchange.com/questions/118/why-square-the-difference-instead-of-taking-the-absolute-value-in-standard-devia\n",
    "  * historically, std dev has been used... also more consistent when calculating from repeated sampling of population\n",
    "* population vs sample\n",
    "  * for population, use n\n",
    "  * sample... n - 1 rather than n so that we can have larger values (using the actual number of data points in the sample can result in a lower value)\n",
    "    * using n for the sample ends up as an understimate (since mean is calculated from sample, rather than population... if sample clusters together, then variance is smol / understimate)\n",
    "    * how to make larger? divide by smaller number, n - 1\n",
    "\n",
    "### Interquartile Range / Midspread\n",
    "\n",
    "Variance and standard deviation sensitive to outliers \n",
    "\n",
    "Another measure of dispersion that is not as sensitive to outliers is interquartile range... (also nknown as middle 50%, midspread)\n",
    "\n",
    "* use quantile to calculate val at 0.75\n",
    "* use quantile to calculate val at 0.25\n"
   ]
  },
  {
   "cell_type": "code",
   "execution_count": 106,
   "metadata": {},
   "outputs": [],
   "source": [
    "def iqr(data):\n",
    "    return quantile(0.75, data) - quantile(0.25, data)"
   ]
  },
  {
   "cell_type": "code",
   "execution_count": 107,
   "metadata": {},
   "outputs": [],
   "source": [
    "rolls = np.random.randint(1, 6, 1000)"
   ]
  },
  {
   "cell_type": "code",
   "execution_count": 108,
   "metadata": {},
   "outputs": [
    {
     "data": {
      "text/plain": [
       "2.976"
      ]
     },
     "execution_count": 108,
     "metadata": {},
     "output_type": "execute_result"
    }
   ],
   "source": [
    "mean(rolls)"
   ]
  },
  {
   "cell_type": "code",
   "execution_count": 109,
   "metadata": {},
   "outputs": [
    {
     "data": {
      "text/plain": [
       "1"
      ]
     },
     "execution_count": 109,
     "metadata": {},
     "output_type": "execute_result"
    }
   ],
   "source": [
    "mode(rolls)"
   ]
  },
  {
   "cell_type": "code",
   "execution_count": 110,
   "metadata": {},
   "outputs": [
    {
     "data": {
      "text/plain": [
       "2.037423999999964"
      ]
     },
     "execution_count": 110,
     "metadata": {},
     "output_type": "execute_result"
    }
   ],
   "source": [
    "variance(rolls)"
   ]
  },
  {
   "cell_type": "code",
   "execution_count": 111,
   "metadata": {},
   "outputs": [
    {
     "data": {
      "text/plain": [
       "1.4273836204748758"
      ]
     },
     "execution_count": 111,
     "metadata": {},
     "output_type": "execute_result"
    }
   ],
   "source": [
    "standard_deviation(rolls)"
   ]
  },
  {
   "cell_type": "code",
   "execution_count": 113,
   "metadata": {},
   "outputs": [
    {
     "data": {
      "text/plain": [
       "2"
      ]
     },
     "execution_count": 113,
     "metadata": {},
     "output_type": "execute_result"
    }
   ],
   "source": [
    "iqr(rolls)"
   ]
  },
  {
   "cell_type": "code",
   "execution_count": 114,
   "metadata": {},
   "outputs": [
    {
     "data": {
      "text/plain": [
       "3.0"
      ]
     },
     "execution_count": 114,
     "metadata": {},
     "output_type": "execute_result"
    }
   ],
   "source": [
    "median(rolls)"
   ]
  }
 ],
 "metadata": {
  "kernelspec": {
   "display_name": "Python 3",
   "language": "python",
   "name": "python3"
  },
  "language_info": {
   "codemirror_mode": {
    "name": "ipython",
    "version": 3
   },
   "file_extension": ".py",
   "mimetype": "text/x-python",
   "name": "python",
   "nbconvert_exporter": "python",
   "pygments_lexer": "ipython3",
   "version": "3.7.5"
  }
 },
 "nbformat": 4,
 "nbformat_minor": 4
}
