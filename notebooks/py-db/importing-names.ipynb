{
 "cells": [
  {
   "cell_type": "code",
   "execution_count": 31,
   "metadata": {},
   "outputs": [],
   "source": [
    "from bs4 import BeautifulSoup\n",
    "import requests"
   ]
  },
  {
   "cell_type": "code",
   "execution_count": 32,
   "metadata": {},
   "outputs": [
    {
     "name": "stdout",
     "output_type": "stream",
     "text": [
      "<Response [200]>\n",
      "['Smith', 'Johnson', 'Williams', 'Jones', 'Brown']\n"
     ]
    }
   ],
   "source": [
    "res = requests.get('https://surnames.behindthename.com/top/lists/united-states/1990')\n",
    "print(res)\n",
    "dom = BeautifulSoup(res.text)\n",
    "print([a.text for a in dom.select('tr > td:nth-child(2) > a')][:5])"
   ]
  },
  {
   "cell_type": "code",
   "execution_count": 33,
   "metadata": {},
   "outputs": [],
   "source": [
    "with open('/tmp/last-names.csv', 'w') as f:\n",
    "    f.write('\\n'.join([a.text for a in dom.select('tr > td:nth-child(2) > a')]))"
   ]
  },
  {
   "cell_type": "code",
   "execution_count": 34,
   "metadata": {},
   "outputs": [
    {
     "name": "stdout",
     "output_type": "stream",
     "text": [
      "<Response [200]>\n"
     ]
    },
    {
     "data": {
      "text/plain": [
       "['Liam', 'Emma', 'Noah', 'Olivia', 'William']"
      ]
     },
     "execution_count": 34,
     "metadata": {},
     "output_type": "execute_result"
    }
   ],
   "source": [
    "url = 'https://www.ssa.gov/cgi-bin/popularnames.cgi'\n",
    "form_data = {'year':2018, 'top':1000}\n",
    "headers = {'Referer': 'https://www.ssa.gov/OACT/babynames/index.html'}\n",
    "res = requests.post(url, data=form_data, headers=headers)\n",
    "print(res)\n",
    "dom = BeautifulSoup(res.text)\n",
    "\n",
    "\n",
    "sel_part = '[summary=\"Popularity for top 1000\"] td:nth-child({})'\n",
    "[ele.text for ele in dom.select(sel_part.format(2) + ',' + sel_part.format(3))][:5]"
   ]
  },
  {
   "cell_type": "code",
   "execution_count": 36,
   "metadata": {},
   "outputs": [],
   "source": [
    "with open('/tmp/first-names.csv', 'w') as f:\n",
    "    f.write('\\n'.join({ele.text for ele in dom.select(sel_part.format(2) + ',' + sel_part.format(3))}))"
   ]
  },
  {
   "cell_type": "code",
   "execution_count": 1,
   "metadata": {},
   "outputs": [],
   "source": [
    "names = ['stock','store','money','moneys','finance','cash','equity','pension','checkup','doctors','physician','doctor','medial','medicine','surgical','hospital','level','tip','stop','target','period','spot','peak','stage','fun','fiddle','sport','unreal','drama','spiel','toy','game','genuine','actual','true','tangible','serious','very','proper','concrete','bath','syrup','suds','laundry','soup','series','bar','slope','interface','terminal','harbor','wharf','dock','quay','coastal','ferry','diet','diets','dietary','foods','nutrient','food','meals','grocery','techs','arb','avg','micro','with','average','oddball','eccentric','nerd','dork','fanatic','gizmo','widget','appliance','device','invention','utility','ipod','funds','treasury','financial','economics','loan','capital','credit','economic','life','lifetime','job','junior','lifelong','skill','journey','course','shop','depot','storage','stock','memory','fund','garner','mall','span','causeway','dam','flyover','ramp','pilot','flight','flights','plane','jet','airplane','aircraft','airline','fountain','plane','aircraft','airplane','planes','flight','teaching','learners','classroom','lessons','education','training','skills','literacy','program','project','design','programme','proposal','blueprint','strategy','package','ducky','favorite','preferred','favourite','dogs','animals','dog','animal','boutique','bros','tee','free','patron','loan','crib','iron','cuisine','baker','kitchen','stove','manager','boss','pont','chief','trip','journey','trips','journeys','flights','cruise','vacation','flight','felicity','joy','rapture','heavenly','delight','pleasure','divine','ecstasy','peach','beaut','knockout','dish','lulu','beautiful','splendor','gorgeous','cluster','beetle','section','single','daycare','ship','honeybee','nest','grocery','mkt','industry','sector','price','sales','economy','stock','gratis','open','available','unbound','liberated','loose','voluntary','clear','health','welfare','comfort','nutrition','fitness','holistic','spa','healthful','yeah','yea','hey','huh','okay','yep','aye','maybe','tantra','sutra','mantra','man','yogi','flair','panache','elan','fashion','vogue','way','dash','mode','car','machine','vehicles','cars','motor','vehicle','headlight','motors','mansion','home','family','theater','firm','theatre','sign','bedroom','route','way','course','track','journey','direction','trail','road','component','role','piece','section','start','character','break','region','hijab','veil','sash','boa','ascot','tail','elegant','honor','coverage','policy','health','medicaid','pension','medicare','warranty','premium','word','press','media','reports','headlines','stories','updates','bulletin','shiny','light','luminous','sunny','sparkly','radiant','currency','exchange','foreign','trade','commodity','trader','arbitrage','innate','organic','elemental','physical','earthy','primitive','normal','intuitive','police','rule','policy','bill','legally','legal','judicial','provision','mortgages','lenders','lender','debt','debts','credit','banks','bank','nutrient','meals','meat','meal','nutrition','gourmet','grocery','rice','psa','program','pal','pap','apt','epa','pals','apa','substance','subject','message','happy','capacity','smug','text','material','game','company','creation','work','action','industry','techie','tech','factorial','32','ap','days','fi','fig','hours','logarithm','glad','fortunate','blessed','joyful','joyous','euphoric','blissful','bright','present','talent','valentine','donation','donor','souvenir','giveaway','freebies','married','prom','couture','lingerie','jewelry','boutique','fashion','flower','seam','wrinkle','channel','cable','course','pedigree','tune','bush','forest','maze','woodland','scrub','canopy','savage','wild','work','task','chore','problem','position','employer','workforce','gig','yarn','themes','strings','links','elements','wires','ape','creature','gorilla','wolf','dinosaur','monkey','yak','goblin','citation','reference','loan','loans','mortgage','debt','lender','bank','worry','attention','wish','aid','charge','handle','fear','deal','fussy','dressy','rococo','baroque','florid','lacy','fantasy','illusion','clever','shrewd','canny','astute','stylish','snappy','bright','sharp','list','advert','call','figure','gens','key','identity','quad','distance','place','blank','shuttle','orbit','room','astronaut','renewable','sunlight','sun','rays','sunshine','sunscreen','sol','soil','stamina','gym','physical','physique','health','fit','skill','shape','ducky','favorite','preferred','favourite','dog','puppy','cat','pooch','press','news','newspaper','broadcast','publicity','print','channels','coverage','endurance','selection','longevity','life','survivors','alive','lifeline','rescue','server','legion','sponsor','guest','venue','series','held','hold','stride','measure','stair','tread','tone','footprint','pace','move','written','paper','ink','newspaper','copy','font','catalog','media','style','way','forge','mode','couture','dresses','apparel','garments','suitable','ready','healthy','able','scene','tally','shape','tailored','auto','machine','vehicle','truck','van','vehicles','driver','cruiser','cipher','cypher','map','plaintext','checksum','ssh','malware','recursion','facility','science','plant','darkroom','company','shop','workshop','lib','marketer','sales','product','promotion','outreach','publicity','campaign','commerce','slate','board','shale','easel','pencil','crayon','classroom','doodle','sci','tec','hacker','pirate','georgia','sar','cet','realtor','property','land','estate','lands','reality','real','brokerage','rake','search','lookup','detector','analysis','exam','screen','trap','sucker','braid','pole','swipe','love','mag','metal','metallic','gilt','amber','colored','chromatic','silver','bullion','weave','yarn','ribbon','wind','strand','theme','strings','rope','gizmo','widget','appliance','devices','toys','tools','machines','aids','heath','medical','welfare','hygiene','care','insurance','safety','medicare','tests','plants','mills','results','lib','reviews','centers','forensics','super','warp','wicked','wide','ultra','hypo','mania','pseudo','store','browse','stag','peach','sponsor','grass','frequent','showroom','baker','shop','cafe','pastry','bread','cake','baby','jam','house','family','abode','household','place','base','plate','domestic','veteran','career','careers','pursuit','teacher','per','for','expert','mist','fog','sully','corrupt','haze','sky','shadow','plume','online','computer','virtual','cyber','data','numeric','point','digit','cannabis','marijuana','marihuana','weed','grass','seed','sunn','flax','toner','pen','pencil','paper','dye','printer','tattoo','cartridge','pge','pgf','ribose','hydroxy','amide','deoxy','cobalamin','xanthine','www','network','net','vane','online','homepage','internet','portal','cob','cpd','dsc','horizon','organic','downtown','midtown','sydney','project','invention','blueprint','plan','pattern','purpose','aim','figure','design','cbd','web','keto','ink','hemp','digital','cloud','pro','home','bakery','shop','hyper','labs','health','gadgets','thread','gold','magnet','scan','realty','tech','whiteboard','marketing','lab','crypto','car','fit','fashion','print','step','host','survival','media','pet','fitness','solar','space','name','smart','fancy','care','credit','yeti','threads','job','jungle','line','bridal','gift','happy','fx','biz','content','app','food','loans','law','natural','forex','bright','news','insurance','scarf','parts','path','house','auto','style','yoga','yes','wellness','free','market','hive','beauty','bliss','travel','chef','giftshop','pets','plan','learning','jet','fly','bridge','store','career','finance','gadget','geek','med','nutrition','port','soap','real','play','point','medical','fund']"
   ]
  },
  {
   "cell_type": "code",
   "execution_count": 2,
   "metadata": {},
   "outputs": [
    {
     "data": {
      "text/plain": [
       "876"
      ]
     },
     "execution_count": 2,
     "metadata": {},
     "output_type": "execute_result"
    }
   ],
   "source": [
    "len(names)"
   ]
  },
  {
   "cell_type": "code",
   "execution_count": 4,
   "metadata": {},
   "outputs": [],
   "source": [
    "name_set = set(names)"
   ]
  },
  {
   "cell_type": "code",
   "execution_count": 8,
   "metadata": {},
   "outputs": [],
   "source": [
    "len(name_set)\n",
    "s = '\\n'.join(name_set)\n",
    "s\n",
    "with open('/tmp/words.txt', 'w') as f:\n",
    "    f.write(s)"
   ]
  },
  {
   "cell_type": "code",
   "execution_count": null,
   "metadata": {},
   "outputs": [],
   "source": []
  }
 ],
 "metadata": {
  "kernelspec": {
   "display_name": "Python 3",
   "language": "python",
   "name": "python3"
  },
  "language_info": {
   "codemirror_mode": {
    "name": "ipython",
    "version": 3
   },
   "file_extension": ".py",
   "mimetype": "text/x-python",
   "name": "python",
   "nbconvert_exporter": "python",
   "pygments_lexer": "ipython3",
   "version": "3.7.4"
  }
 },
 "nbformat": 4,
 "nbformat_minor": 4
}
