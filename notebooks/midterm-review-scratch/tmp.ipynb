{
 "cells": [
  {
   "cell_type": "code",
   "execution_count": 1,
   "metadata": {},
   "outputs": [],
   "source": [
    "import pandas as pd"
   ]
  },
  {
   "cell_type": "code",
   "execution_count": 43,
   "metadata": {},
   "outputs": [],
   "source": [
    "df = pd.DataFrame(\n",
    "    data=[\n",
    "        [20,  1,  3],\n",
    "        [ 5, 10, 15],\n",
    "        [ 2, 10, 50],\n",
    "        [ 7,  7,  7],\n",
    "    ],\n",
    "    index=['a', 'b', 'c', 'd'],\n",
    "    columns=['x', 'y', 'z'])\n",
    "\n",
    "s = pd.Series(\n",
    "    data=[1, 1], \n",
    "    index=['a', 'c'])"
   ]
  },
  {
   "cell_type": "code",
   "execution_count": 64,
   "metadata": {},
   "outputs": [
    {
     "name": "stdout",
     "output_type": "stream",
     "text": [
      "<class 'pandas.core.series.Series'>\n",
      "a    23\n",
      "b     8\n",
      "c     5\n",
      "d    10\n",
      "Name: x, dtype: int64\n",
      "a    23.0\n",
      "b     NaN\n",
      "c     5.0\n",
      "d     NaN\n",
      "dtype: float64\n",
      "a     True\n",
      "b    False\n",
      "c    False\n",
      "d     True\n",
      "Name: x, dtype: bool\n"
     ]
    }
   ],
   "source": [
    "res_mod = df['x'] + 3\n",
    "print(type(res_mod)) # a\n",
    "print(res_mod) # b\n",
    "\n",
    "res_mult = res_mod * s \n",
    "print(res_mult) # c\n",
    "\n",
    "res_eq = res_mod >= 10\n",
    "print(res_eq) # d"
   ]
  },
  {
   "cell_type": "code",
   "execution_count": 62,
   "metadata": {},
   "outputs": [
    {
     "name": "stdout",
     "output_type": "stream",
     "text": [
      "    x   y   z\n",
      "a  20   1   3\n",
      "b   5  10  15\n",
      "a    24\n",
      "b    30\n",
      "dtype: int64\n",
      "a    2\n",
      "b    4\n",
      "dtype: int64\n"
     ]
    }
   ],
   "source": [
    "res = df.head(2)\n",
    "print(res) # a\n",
    "\n",
    "res_sum = res.sum(axis=1)\n",
    "print(res_sum) # b\n",
    "\n",
    "def f(arg):\n",
    "    li = [2 for v in arg if v > 7]\n",
    "    return sum(li)\n",
    "res_applied = res.apply(f, axis=1)\n",
    "print(res_applied) # c\n",
    "\n"
   ]
  },
  {
   "cell_type": "code",
   "execution_count": 63,
   "metadata": {},
   "outputs": [
    {
     "name": "stdout",
     "output_type": "stream",
     "text": [
      "   x   y   z\n",
      "b  5  10  15\n",
      "c  2  10  50\n",
      "   x   y   z\n",
      "b -5 -10 -15\n",
      "c -2 -10 -50\n"
     ]
    }
   ],
   "source": [
    "res1 = df[df['y'] == 10]\n",
    "print(res1) # a\n",
    "\n",
    "res2 = res1.applymap(lambda x: -x)\n",
    "print(res2) # b"
   ]
  },
  {
   "cell_type": "code",
   "execution_count": 61,
   "metadata": {},
   "outputs": [
    {
     "name": "stdout",
     "output_type": "stream",
     "text": [
      "3\n"
     ]
    }
   ],
   "source": [
    "def f(nums):\n",
    "    d = {}\n",
    "    for n in nums:\n",
    "        try:\n",
    "            d[n] += 1\n",
    "        except KeyError:\n",
    "            d[n] = 0\n",
    "    return max(d, key=d.get)\n",
    "\n",
    "print(f([4, 3, 5, 3, 3, 4, 1]))\n"
   ]
  },
  {
   "cell_type": "code",
   "execution_count": null,
   "metadata": {},
   "outputs": [],
   "source": []
  }
 ],
 "metadata": {
  "kernelspec": {
   "display_name": "Python 3",
   "language": "python",
   "name": "python3"
  },
  "language_info": {
   "codemirror_mode": {
    "name": "ipython",
    "version": 3
   },
   "file_extension": ".py",
   "mimetype": "text/x-python",
   "name": "python",
   "nbconvert_exporter": "python",
   "pygments_lexer": "ipython3",
   "version": "3.6.5"
  }
 },
 "nbformat": 4,
 "nbformat_minor": 2
}
