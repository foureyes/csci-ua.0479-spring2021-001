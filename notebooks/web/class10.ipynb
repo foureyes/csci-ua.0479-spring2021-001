{
 "cells": [
  {
   "cell_type": "markdown",
   "metadata": {},
   "source": [
    "## Minimize requests to HTML Page\n",
    "\n",
    "* courteous\n",
    "* blocked from making more requests to the same site\n",
    "* reading from disk / memory is faster\n",
    "\n",
    "Strategies\n",
    "\n",
    "* do the request once... and never run that cell again (keep html in memory)\n",
    "* download the page page: save as (File menu, righ-click)"
   ]
  },
  {
   "cell_type": "markdown",
   "metadata": {},
   "source": [
    "## Web - a bunch of resources (on the internet)\n",
    "\n",
    "resources\n",
    "\n",
    "* images\n",
    "* documents (web pages)\n",
    "* css files"
   ]
  },
  {
   "cell_type": "markdown",
   "metadata": {},
   "source": [
    "## Client vs Server\n",
    "\n",
    "* client - asks for resource (making a request)\n",
    "* server - fulfills that request\n",
    "\n",
    "make a request, get back a response.... includes some sort of resource (html page, a json file, an img)"
   ]
  },
  {
   "cell_type": "markdown",
   "metadata": {},
   "source": [
    "## Two options for making requests (in Python)\n",
    "\n",
    "* `urlib` - built in, but you have to import\n",
    "* `requests` - must install this on your own"
   ]
  },
  {
   "cell_type": "code",
   "execution_count": 1,
   "metadata": {},
   "outputs": [],
   "source": [
    "import requests"
   ]
  },
  {
   "cell_type": "code",
   "execution_count": 2,
   "metadata": {},
   "outputs": [],
   "source": [
    "res = requests.get('https://www.imdb.com/title/tt0108778/fullcredits?ref_=tt_cl_sm#cast')"
   ]
  },
  {
   "cell_type": "code",
   "execution_count": 3,
   "metadata": {},
   "outputs": [
    {
     "data": {
      "text/plain": [
       "<Response [200]>"
      ]
     },
     "execution_count": 3,
     "metadata": {},
     "output_type": "execute_result"
    }
   ],
   "source": [
    "res"
   ]
  },
  {
   "cell_type": "markdown",
   "metadata": {},
   "source": [
    "## HTTP Requests\n",
    "\n",
    "method, path <---\n",
    "\n",
    "GET /title/tt0108778/fullcredits?ref_=tt_cl_sm#cast' HTTP/1.1\n",
    "\n",
    "## HTTP Response\n",
    "\n",
    "200 - OK\n",
    "403 - auth required\n",
    "404 - resource / page not found\n",
    "500 - server error\n",
    "\n",
    "HTTP/1.1 200 OK\n",
    "...\n",
    "\n",
    "<html>.....\n",
    "\n"
   ]
  },
  {
   "cell_type": "code",
   "execution_count": 5,
   "metadata": {},
   "outputs": [
    {
     "data": {
      "text/plain": [
       "'\\n\\n \\n\\n\\n\\n\\n\\n\\n\\n\\n<!DOCTYPE html>\\n<html\\n    xmlns:og=\"http://ogp.me/ns#\"\\n    xmlns:fb=\"http://www.facebook.com/2008/fbml\">\\n    <head>\\n         \\n        <meta charset=\"utf-8\">\\n        <meta http-equiv=\"X-UA-Compatible\" content=\"IE=edge\">\\n\\n    <meta name=\"apple-itunes-app\" content=\"app-id=342792525, app-argument=imdb:///title/tt0108778?src=mdot\">\\n\\n\\n\\n        <script type=\"text/javascript\">var IMDbTimer={starttime: new Date().getTime(),pt:\\'java\\'};</script>\\n\\n<script>\\n    if (typeof uet == \\'function\\') {\\n   '"
      ]
     },
     "execution_count": 5,
     "metadata": {},
     "output_type": "execute_result"
    }
   ],
   "source": [
    "# to get at body (the html, or json payload)\n",
    "res.text[:500]"
   ]
  },
  {
   "cell_type": "markdown",
   "metadata": {},
   "source": [
    "## Use Your Browser's Tools for Inspecting HTML and HTTP Reqs and Res\n",
    "\n",
    "* right-click inspect\n",
    "* open web developer tools\n",
    "* view source"
   ]
  },
  {
   "cell_type": "markdown",
   "metadata": {},
   "source": [
    "## CSS Selectors Allow Select Elements Based on Some Criteria\n",
    "\n",
    "Basic Selectors\n",
    "\n",
    "* tagname: img \n",
    "* class: .someClass\n",
    "* id: #someId\n",
    "\n",
    "Combine tags and classes / IDs\n",
    "\n",
    "* tagName.className: img.primaryPhoto (all images with class=\"primaryPhoto\")\n",
    "* tagName#idValue:\n",
    "\n",
    "Combining Selectors by Relationship\n",
    "\n",
    "* selector1 selector2: any element selected by 2... with an element selected by 1:\n",
    "    * .filmography a: all a tags nested within class=filmography (any level of nesting)\n",
    "* selector1 > selector2: direct descendant\n",
    "* selector1, selector2: or... all element that either match selector 1 or selector 2\n"
   ]
  },
  {
   "cell_type": "code",
   "execution_count": 7,
   "metadata": {},
   "outputs": [
    {
     "data": {
      "text/plain": [
       "'\\n\\n \\n\\n\\n\\n\\n\\n\\n\\n\\n<!DOCTYPE html>\\n<html\\n    xmlns:og=\"http://ogp.me/ns#\"\\n    xmlns:fb=\"http://www.facebook'"
      ]
     },
     "execution_count": 7,
     "metadata": {},
     "output_type": "execute_result"
    }
   ],
   "source": [
    "res.text[:100]"
   ]
  },
  {
   "cell_type": "markdown",
   "metadata": {},
   "source": [
    "## DOM Library / HTML Parser\n",
    "\n",
    "DOM - Document Object Model\n",
    "API that interfaces with HTML document\n",
    "\n",
    "* what are the objects that you have\n",
    "* what are the built in methods, etc.\n",
    "\n",
    "DOM API can be implemented with any language or libraryl\n",
    "\n",
    "`BeatifulSoup4` HTML Parser, DOM API (a little different from the JavaScript DOM API, concepts are the same)"
   ]
  },
  {
   "cell_type": "code",
   "execution_count": 11,
   "metadata": {},
   "outputs": [],
   "source": [
    "from bs4 import BeautifulSoup"
   ]
  },
  {
   "cell_type": "markdown",
   "metadata": {},
   "source": [
    "BeatifulSoup is a class / constructor... pass it a string... and it parses that string"
   ]
  },
  {
   "cell_type": "code",
   "execution_count": 12,
   "metadata": {},
   "outputs": [],
   "source": [
    "tmp = BeautifulSoup('<h1>hello</h1>')"
   ]
  },
  {
   "cell_type": "code",
   "execution_count": 13,
   "metadata": {},
   "outputs": [
    {
     "data": {
      "text/plain": [
       "<h1>hello</h1>"
      ]
     },
     "execution_count": 13,
     "metadata": {},
     "output_type": "execute_result"
    }
   ],
   "source": [
    "tmp"
   ]
  },
  {
   "cell_type": "code",
   "execution_count": 14,
   "metadata": {},
   "outputs": [],
   "source": [
    "dom = BeautifulSoup(res.text)"
   ]
  },
  {
   "cell_type": "code",
   "execution_count": 16,
   "metadata": {},
   "outputs": [],
   "source": [
    "#dom"
   ]
  },
  {
   "cell_type": "markdown",
   "metadata": {},
   "source": [
    "* select to select elements with css selector\n",
    "    * this can be used on the entire document\n",
    "    * or select within an element\n",
    "* use . to find the first child with that specfici name\n",
    "    * element.otherElement ... looks for otherElement as 1st direct descendant of element"
   ]
  },
  {
   "cell_type": "code",
   "execution_count": 18,
   "metadata": {},
   "outputs": [
    {
     "data": {
      "text/plain": [
       "[<img alt=\"IMDbPro Menu\" src=\"https://m.media-amazon.com/images/G/01/wprs/images/navbar/imdbpro_logo_nb._CB484021162_.png\"/>,\n",
       " <img alt=\"Go to IMDbPro\" height=\"145\" src=\"https://m.media-amazon.com/images/G/01/wprs/images/navbar/imdbpro_navbar_menu_user._CB484021156_.png\" srcset=\"https://m.media-amazon.com/images/G/01/wprs/images/navbar/imdbpro_navbar_menu_user._CB484021156_.png 1x, https://m.media-amazon.com/images/G/01/wprs/images/navbar/imdbpro_navbar_menu_user_2x._CB484021157_.png 2x\" width=\"127\"/>,\n",
       " <img alt=\"Friends (TV Series 1994–2004) Poster\" class=\"poster\" height=\"98\" itemprop=\"image\" src=\"https://m.media-amazon.com/images/M/MV5BNDVkYjU0MzctMWRmZi00NTkxLTgwZWEtOWVhYjZlYjllYmU4XkEyXkFqcGdeQXVyNTA4NzY1MzY@._V1_UX67_CR0,0,67,98_AL_.jpg\" width=\"67\"/>]"
      ]
     },
     "execution_count": 18,
     "metadata": {},
     "output_type": "execute_result"
    }
   ],
   "source": [
    "dom.select('img')[:3]"
   ]
  },
  {
   "cell_type": "code",
   "execution_count": 19,
   "metadata": {},
   "outputs": [
    {
     "data": {
      "text/plain": [
       "[<img alt=\"Jennifer Aniston\" class=\"loadlate hidden\" height=\"44\" loadlate=\"https://m.media-amazon.com/images/M/MV5BNjk1MjIxNjUxNF5BMl5BanBnXkFtZTcwODk2NzM4Mg@@._V1_UX32_CR0,0,32,44_AL_.jpg\" src=\"https://m.media-amazon.com/images/G/01/imdb/images/nopicture/32x44/name-2138558783._CB470041625_.png\" title=\"Jennifer Aniston\" width=\"32\"/>,\n",
       " <img src=\"https://m.media-amazon.com/images/G/01/imdb/images/favorite_theater/spinner-3099941772._CB470042407_.gif\"/>,\n",
       " <img alt=\"Courteney Cox\" class=\"loadlate hidden\" height=\"44\" loadlate=\"https://m.media-amazon.com/images/M/MV5BMTA4OTczNDExNDNeQTJeQWpwZ15BbWU3MDUyNTIzMTM@._V1_UX32_CR0,0,32,44_AL_.jpg\" src=\"https://m.media-amazon.com/images/G/01/imdb/images/nopicture/32x44/name-2138558783._CB470041625_.png\" title=\"Courteney Cox\" width=\"32\"/>]"
      ]
     },
     "execution_count": 19,
     "metadata": {},
     "output_type": "execute_result"
    }
   ],
   "source": [
    "dom.select('td img')[:3]"
   ]
  },
  {
   "cell_type": "code",
   "execution_count": 20,
   "metadata": {},
   "outputs": [
    {
     "data": {
      "text/plain": [
       "1626"
      ]
     },
     "execution_count": 20,
     "metadata": {},
     "output_type": "execute_result"
    }
   ],
   "source": [
    "len(dom.select('td img'))\n",
    "#dom.select('td.primary_photo img')[:3]"
   ]
  },
  {
   "cell_type": "code",
   "execution_count": 22,
   "metadata": {},
   "outputs": [],
   "source": [
    "rows = dom.select('td.primary_photo img')"
   ]
  },
  {
   "cell_type": "code",
   "execution_count": 23,
   "metadata": {},
   "outputs": [
    {
     "name": "stdout",
     "output_type": "stream",
     "text": [
      "<img alt=\"Jennifer Aniston\" class=\"loadlate hidden\" height=\"44\" loadlate=\"https://m.media-amazon.com/images/M/MV5BNjk1MjIxNjUxNF5BMl5BanBnXkFtZTcwODk2NzM4Mg@@._V1_UX32_CR0,0,32,44_AL_.jpg\" src=\"https://m.media-amazon.com/images/G/01/imdb/images/nopicture/32x44/name-2138558783._CB470041625_.png\" title=\"Jennifer Aniston\" width=\"32\"/>\n",
      "<img alt=\"Courteney Cox\" class=\"loadlate hidden\" height=\"44\" loadlate=\"https://m.media-amazon.com/images/M/MV5BMTA4OTczNDExNDNeQTJeQWpwZ15BbWU3MDUyNTIzMTM@._V1_UX32_CR0,0,32,44_AL_.jpg\" src=\"https://m.media-amazon.com/images/G/01/imdb/images/nopicture/32x44/name-2138558783._CB470041625_.png\" title=\"Courteney Cox\" width=\"32\"/>\n",
      "<img alt=\"Lisa Kudrow\" class=\"loadlate hidden\" height=\"44\" loadlate=\"https://m.media-amazon.com/images/M/MV5BMTU5OTA0ODcxNl5BMl5BanBnXkFtZTcwMjE3NjQxMw@@._V1_UY44_CR0,0,32,44_AL_.jpg\" src=\"https://m.media-amazon.com/images/G/01/imdb/images/nopicture/32x44/name-2138558783._CB470041625_.png\" title=\"Lisa Kudrow\" width=\"32\"/>\n"
     ]
    }
   ],
   "source": [
    "for row in rows[:3]:\n",
    "    print(row)"
   ]
  },
  {
   "cell_type": "code",
   "execution_count": 24,
   "metadata": {},
   "outputs": [],
   "source": [
    "links = dom.select('td.primary_photo a')"
   ]
  },
  {
   "cell_type": "code",
   "execution_count": 26,
   "metadata": {},
   "outputs": [
    {
     "data": {
      "text/plain": [
       "[<a href=\"/name/nm0000098/\"><img alt=\"Jennifer Aniston\" class=\"loadlate hidden\" height=\"44\" loadlate=\"https://m.media-amazon.com/images/M/MV5BNjk1MjIxNjUxNF5BMl5BanBnXkFtZTcwODk2NzM4Mg@@._V1_UX32_CR0,0,32,44_AL_.jpg\" src=\"https://m.media-amazon.com/images/G/01/imdb/images/nopicture/32x44/name-2138558783._CB470041625_.png\" title=\"Jennifer Aniston\" width=\"32\"/></a>,\n",
       " <a href=\"/name/nm0001073/\"><img alt=\"Courteney Cox\" class=\"loadlate hidden\" height=\"44\" loadlate=\"https://m.media-amazon.com/images/M/MV5BMTA4OTczNDExNDNeQTJeQWpwZ15BbWU3MDUyNTIzMTM@._V1_UX32_CR0,0,32,44_AL_.jpg\" src=\"https://m.media-amazon.com/images/G/01/imdb/images/nopicture/32x44/name-2138558783._CB470041625_.png\" title=\"Courteney Cox\" width=\"32\"/></a>,\n",
       " <a href=\"/name/nm0001435/\"><img alt=\"Lisa Kudrow\" class=\"loadlate hidden\" height=\"44\" loadlate=\"https://m.media-amazon.com/images/M/MV5BMTU5OTA0ODcxNl5BMl5BanBnXkFtZTcwMjE3NjQxMw@@._V1_UY44_CR0,0,32,44_AL_.jpg\" src=\"https://m.media-amazon.com/images/G/01/imdb/images/nopicture/32x44/name-2138558783._CB470041625_.png\" title=\"Lisa Kudrow\" width=\"32\"/></a>]"
      ]
     },
     "execution_count": 26,
     "metadata": {},
     "output_type": "execute_result"
    }
   ],
   "source": [
    "links[:3]"
   ]
  },
  {
   "cell_type": "code",
   "execution_count": 28,
   "metadata": {},
   "outputs": [
    {
     "data": {
      "text/plain": [
       "['https://www.imdb.com/name/nm0000098/',\n",
       " 'https://www.imdb.com/name/nm0001073/',\n",
       " 'https://www.imdb.com/name/nm0001435/']"
      ]
     },
     "execution_count": 28,
     "metadata": {},
     "output_type": "execute_result"
    }
   ],
   "source": [
    "['https://www.imdb.com' + link['href'] for link in links[:3]]"
   ]
  },
  {
   "cell_type": "code",
   "execution_count": 29,
   "metadata": {},
   "outputs": [],
   "source": [
    "url = 'https://www.imdb.com/name/nm0000098/'"
   ]
  },
  {
   "cell_type": "code",
   "execution_count": 30,
   "metadata": {},
   "outputs": [],
   "source": [
    "test_res = requests.get(url)"
   ]
  },
  {
   "cell_type": "code",
   "execution_count": 31,
   "metadata": {},
   "outputs": [
    {
     "data": {
      "text/plain": [
       "<Response [200]>"
      ]
     },
     "execution_count": 31,
     "metadata": {},
     "output_type": "execute_result"
    }
   ],
   "source": [
    "test_res"
   ]
  },
  {
   "cell_type": "code",
   "execution_count": 32,
   "metadata": {},
   "outputs": [
    {
     "data": {
      "text/plain": [
       "'\\n\\n\\n\\n<!DOCTYPE html>\\n<html\\n    xmlns:og=\"http://ogp.me/ns#\"\\n    xmlns:fb=\"http://www.facebook.com/2008/fbml\">\\n    <head>\\n         \\n        <meta charset=\"utf-8\">\\n        <meta http-equiv=\"X-UA-Compatible\" content=\"IE=edge\">\\n\\n    <meta name=\"apple-itunes-app\" content=\"app-id=342792525, app-argument=imdb:///name/nm0000098?src=mdot\">\\n\\n\\n\\n        <script type=\"text/javascript\">var IMDbTimer={starttime: new Date().getTime(),pt:\\'java\\'};</script>\\n\\n<script>\\n    if (typeof uet == \\'function\\') {\\n      uet(\"b'"
      ]
     },
     "execution_count": 32,
     "metadata": {},
     "output_type": "execute_result"
    }
   ],
   "source": [
    "test_res.text[:500]"
   ]
  },
  {
   "cell_type": "code",
   "execution_count": 33,
   "metadata": {},
   "outputs": [],
   "source": [
    "test_dom = BeautifulSoup(test_res.text)"
   ]
  },
  {
   "cell_type": "code",
   "execution_count": 35,
   "metadata": {},
   "outputs": [
    {
     "data": {
      "text/plain": [
       "[<h1 class=\"header\"> <span class=\"itemprop\">Jennifer Aniston</span>\n",
       " </h1>]"
      ]
     },
     "execution_count": 35,
     "metadata": {},
     "output_type": "execute_result"
    }
   ],
   "source": [
    "test_dom.select('H1')"
   ]
  },
  {
   "cell_type": "markdown",
   "metadata": {},
   "source": [
    "To retrieve text from an element, use `.text`"
   ]
  },
  {
   "cell_type": "code",
   "execution_count": 38,
   "metadata": {},
   "outputs": [
    {
     "data": {
      "text/plain": [
       "'Jennifer Aniston'"
      ]
     },
     "execution_count": 38,
     "metadata": {},
     "output_type": "execute_result"
    }
   ],
   "source": [
    "test_dom.select('H1')[0].text.strip()"
   ]
  },
  {
   "cell_type": "code",
   "execution_count": 40,
   "metadata": {},
   "outputs": [
    {
     "data": {
      "text/plain": [
       "'Show\\xa0'"
      ]
     },
     "execution_count": 40,
     "metadata": {},
     "output_type": "execute_result"
    }
   ],
   "source": [
    "test_dom.select('#show-actress')[0].text"
   ]
  },
  {
   "cell_type": "code",
   "execution_count": 43,
   "metadata": {},
   "outputs": [],
   "source": [
    "raw_credits = test_dom.select('#filmo-head-actress, filmo-head-actor')[0].text"
   ]
  },
  {
   "cell_type": "code",
   "execution_count": 44,
   "metadata": {},
   "outputs": [
    {
     "data": {
      "text/plain": [
       "'\\nHide\\xa0\\nShow\\xa0\\nActress (64 credits)\\n'"
      ]
     },
     "execution_count": 44,
     "metadata": {},
     "output_type": "execute_result"
    }
   ],
   "source": [
    "raw_credits"
   ]
  },
  {
   "cell_type": "code",
   "execution_count": 45,
   "metadata": {},
   "outputs": [],
   "source": [
    "import re"
   ]
  },
  {
   "cell_type": "code",
   "execution_count": 54,
   "metadata": {},
   "outputs": [],
   "source": [
    "m = re.search('\\((\\d{1,3}) credits\\)', raw_credits)"
   ]
  },
  {
   "cell_type": "code",
   "execution_count": 55,
   "metadata": {},
   "outputs": [
    {
     "data": {
      "text/plain": [
       "'(64 credits)'"
      ]
     },
     "execution_count": 55,
     "metadata": {},
     "output_type": "execute_result"
    }
   ],
   "source": [
    "m[0]"
   ]
  },
  {
   "cell_type": "code",
   "execution_count": 56,
   "metadata": {},
   "outputs": [
    {
     "data": {
      "text/plain": [
       "'64'"
      ]
     },
     "execution_count": 56,
     "metadata": {},
     "output_type": "execute_result"
    }
   ],
   "source": [
    "m[1]"
   ]
  },
  {
   "cell_type": "code",
   "execution_count": 59,
   "metadata": {},
   "outputs": [
    {
     "data": {
      "text/plain": [
       "<span class=\"itemprop\">Jennifer Aniston</span>"
      ]
     },
     "execution_count": 59,
     "metadata": {},
     "output_type": "execute_result"
    }
   ],
   "source": [
    "# selecting a direct child of an element by dot and child element name\n",
    "test_dom.select('H1')[0].span"
   ]
  },
  {
   "cell_type": "code",
   "execution_count": 60,
   "metadata": {},
   "outputs": [
    {
     "data": {
      "text/plain": [
       "[<span class=\"itemprop\">Jennifer Aniston</span>]"
      ]
     },
     "execution_count": 60,
     "metadata": {},
     "output_type": "execute_result"
    }
   ],
   "source": [
    "# search within all nested elements within parent element\n",
    "test_dom.select('H1')[0].select('span')\n"
   ]
  },
  {
   "cell_type": "code",
   "execution_count": 61,
   "metadata": {},
   "outputs": [],
   "source": [
    "cols = [\"Year\", \"State\", \"Title\", \"Employment\", \"Salary\"]\n"
   ]
  },
  {
   "cell_type": "code",
   "execution_count": 62,
   "metadata": {},
   "outputs": [],
   "source": [
    "data = [[2018, \"CA\", \"Web Dev\", 20170, 86160],\n",
    "        [2018, \"CA\", \"DB Admin\", 10970, 100890],\n",
    "        [2018, \"NY\", \"Web Dev\", 12030, 79880],\n",
    "        [2018, \"NY\", \"DB Admin\", 7100, 99000],\n",
    "        [2017, \"CA\", \"Web Dev\", 21150, 84270],\n",
    "        [2017, \"CA\", \"DB Admin\", 12030, 95630],\n",
    "        [2017, \"NY\", \"Web Dev\", 11900, 82360],\n",
    "        [2017, \"NY\", \"DB Admin\", 7170, 94330],\n",
    "        [2016, \"CA\", \"Web Dev\", 22650, 82930],\n",
    "        [2016, \"CA\", \"DB Admin\", 12370, 93960],\n",
    "        [2016, \"NY\", \"Web Dev\", 11410, 81140],\n",
    "        [2016, \"NY\", \"DB Admin\", 6650, 91720]]"
   ]
  },
  {
   "cell_type": "code",
   "execution_count": 64,
   "metadata": {},
   "outputs": [],
   "source": [
    "import pandas as pd\n",
    "import numpy as np\n",
    "df = pd.DataFrame(data, columns=cols)"
   ]
  },
  {
   "cell_type": "code",
   "execution_count": 65,
   "metadata": {},
   "outputs": [
    {
     "data": {
      "text/html": [
       "<div>\n",
       "<style scoped>\n",
       "    .dataframe tbody tr th:only-of-type {\n",
       "        vertical-align: middle;\n",
       "    }\n",
       "\n",
       "    .dataframe tbody tr th {\n",
       "        vertical-align: top;\n",
       "    }\n",
       "\n",
       "    .dataframe thead th {\n",
       "        text-align: right;\n",
       "    }\n",
       "</style>\n",
       "<table border=\"1\" class=\"dataframe\">\n",
       "  <thead>\n",
       "    <tr style=\"text-align: right;\">\n",
       "      <th></th>\n",
       "      <th>Year</th>\n",
       "      <th>State</th>\n",
       "      <th>Title</th>\n",
       "      <th>Employment</th>\n",
       "      <th>Salary</th>\n",
       "    </tr>\n",
       "  </thead>\n",
       "  <tbody>\n",
       "    <tr>\n",
       "      <td>0</td>\n",
       "      <td>2018</td>\n",
       "      <td>CA</td>\n",
       "      <td>Web Dev</td>\n",
       "      <td>20170</td>\n",
       "      <td>86160</td>\n",
       "    </tr>\n",
       "    <tr>\n",
       "      <td>1</td>\n",
       "      <td>2018</td>\n",
       "      <td>CA</td>\n",
       "      <td>DB Admin</td>\n",
       "      <td>10970</td>\n",
       "      <td>100890</td>\n",
       "    </tr>\n",
       "    <tr>\n",
       "      <td>2</td>\n",
       "      <td>2018</td>\n",
       "      <td>NY</td>\n",
       "      <td>Web Dev</td>\n",
       "      <td>12030</td>\n",
       "      <td>79880</td>\n",
       "    </tr>\n",
       "    <tr>\n",
       "      <td>3</td>\n",
       "      <td>2018</td>\n",
       "      <td>NY</td>\n",
       "      <td>DB Admin</td>\n",
       "      <td>7100</td>\n",
       "      <td>99000</td>\n",
       "    </tr>\n",
       "    <tr>\n",
       "      <td>4</td>\n",
       "      <td>2017</td>\n",
       "      <td>CA</td>\n",
       "      <td>Web Dev</td>\n",
       "      <td>21150</td>\n",
       "      <td>84270</td>\n",
       "    </tr>\n",
       "    <tr>\n",
       "      <td>5</td>\n",
       "      <td>2017</td>\n",
       "      <td>CA</td>\n",
       "      <td>DB Admin</td>\n",
       "      <td>12030</td>\n",
       "      <td>95630</td>\n",
       "    </tr>\n",
       "    <tr>\n",
       "      <td>6</td>\n",
       "      <td>2017</td>\n",
       "      <td>NY</td>\n",
       "      <td>Web Dev</td>\n",
       "      <td>11900</td>\n",
       "      <td>82360</td>\n",
       "    </tr>\n",
       "    <tr>\n",
       "      <td>7</td>\n",
       "      <td>2017</td>\n",
       "      <td>NY</td>\n",
       "      <td>DB Admin</td>\n",
       "      <td>7170</td>\n",
       "      <td>94330</td>\n",
       "    </tr>\n",
       "    <tr>\n",
       "      <td>8</td>\n",
       "      <td>2016</td>\n",
       "      <td>CA</td>\n",
       "      <td>Web Dev</td>\n",
       "      <td>22650</td>\n",
       "      <td>82930</td>\n",
       "    </tr>\n",
       "    <tr>\n",
       "      <td>9</td>\n",
       "      <td>2016</td>\n",
       "      <td>CA</td>\n",
       "      <td>DB Admin</td>\n",
       "      <td>12370</td>\n",
       "      <td>93960</td>\n",
       "    </tr>\n",
       "    <tr>\n",
       "      <td>10</td>\n",
       "      <td>2016</td>\n",
       "      <td>NY</td>\n",
       "      <td>Web Dev</td>\n",
       "      <td>11410</td>\n",
       "      <td>81140</td>\n",
       "    </tr>\n",
       "    <tr>\n",
       "      <td>11</td>\n",
       "      <td>2016</td>\n",
       "      <td>NY</td>\n",
       "      <td>DB Admin</td>\n",
       "      <td>6650</td>\n",
       "      <td>91720</td>\n",
       "    </tr>\n",
       "  </tbody>\n",
       "</table>\n",
       "</div>"
      ],
      "text/plain": [
       "    Year State     Title  Employment  Salary\n",
       "0   2018    CA   Web Dev       20170   86160\n",
       "1   2018    CA  DB Admin       10970  100890\n",
       "2   2018    NY   Web Dev       12030   79880\n",
       "3   2018    NY  DB Admin        7100   99000\n",
       "4   2017    CA   Web Dev       21150   84270\n",
       "5   2017    CA  DB Admin       12030   95630\n",
       "6   2017    NY   Web Dev       11900   82360\n",
       "7   2017    NY  DB Admin        7170   94330\n",
       "8   2016    CA   Web Dev       22650   82930\n",
       "9   2016    CA  DB Admin       12370   93960\n",
       "10  2016    NY   Web Dev       11410   81140\n",
       "11  2016    NY  DB Admin        6650   91720"
      ]
     },
     "execution_count": 65,
     "metadata": {},
     "output_type": "execute_result"
    }
   ],
   "source": [
    "df"
   ]
  },
  {
   "cell_type": "code",
   "execution_count": 66,
   "metadata": {},
   "outputs": [],
   "source": [
    "tmp = df.set_index('Year')"
   ]
  },
  {
   "cell_type": "code",
   "execution_count": 67,
   "metadata": {},
   "outputs": [
    {
     "data": {
      "text/html": [
       "<div>\n",
       "<style scoped>\n",
       "    .dataframe tbody tr th:only-of-type {\n",
       "        vertical-align: middle;\n",
       "    }\n",
       "\n",
       "    .dataframe tbody tr th {\n",
       "        vertical-align: top;\n",
       "    }\n",
       "\n",
       "    .dataframe thead th {\n",
       "        text-align: right;\n",
       "    }\n",
       "</style>\n",
       "<table border=\"1\" class=\"dataframe\">\n",
       "  <thead>\n",
       "    <tr style=\"text-align: right;\">\n",
       "      <th></th>\n",
       "      <th>State</th>\n",
       "      <th>Title</th>\n",
       "      <th>Employment</th>\n",
       "      <th>Salary</th>\n",
       "    </tr>\n",
       "    <tr>\n",
       "      <th>Year</th>\n",
       "      <th></th>\n",
       "      <th></th>\n",
       "      <th></th>\n",
       "      <th></th>\n",
       "    </tr>\n",
       "  </thead>\n",
       "  <tbody>\n",
       "    <tr>\n",
       "      <td>2018</td>\n",
       "      <td>CA</td>\n",
       "      <td>Web Dev</td>\n",
       "      <td>20170</td>\n",
       "      <td>86160</td>\n",
       "    </tr>\n",
       "    <tr>\n",
       "      <td>2018</td>\n",
       "      <td>CA</td>\n",
       "      <td>DB Admin</td>\n",
       "      <td>10970</td>\n",
       "      <td>100890</td>\n",
       "    </tr>\n",
       "    <tr>\n",
       "      <td>2018</td>\n",
       "      <td>NY</td>\n",
       "      <td>Web Dev</td>\n",
       "      <td>12030</td>\n",
       "      <td>79880</td>\n",
       "    </tr>\n",
       "    <tr>\n",
       "      <td>2018</td>\n",
       "      <td>NY</td>\n",
       "      <td>DB Admin</td>\n",
       "      <td>7100</td>\n",
       "      <td>99000</td>\n",
       "    </tr>\n",
       "    <tr>\n",
       "      <td>2017</td>\n",
       "      <td>CA</td>\n",
       "      <td>Web Dev</td>\n",
       "      <td>21150</td>\n",
       "      <td>84270</td>\n",
       "    </tr>\n",
       "    <tr>\n",
       "      <td>2017</td>\n",
       "      <td>CA</td>\n",
       "      <td>DB Admin</td>\n",
       "      <td>12030</td>\n",
       "      <td>95630</td>\n",
       "    </tr>\n",
       "    <tr>\n",
       "      <td>2017</td>\n",
       "      <td>NY</td>\n",
       "      <td>Web Dev</td>\n",
       "      <td>11900</td>\n",
       "      <td>82360</td>\n",
       "    </tr>\n",
       "    <tr>\n",
       "      <td>2017</td>\n",
       "      <td>NY</td>\n",
       "      <td>DB Admin</td>\n",
       "      <td>7170</td>\n",
       "      <td>94330</td>\n",
       "    </tr>\n",
       "    <tr>\n",
       "      <td>2016</td>\n",
       "      <td>CA</td>\n",
       "      <td>Web Dev</td>\n",
       "      <td>22650</td>\n",
       "      <td>82930</td>\n",
       "    </tr>\n",
       "    <tr>\n",
       "      <td>2016</td>\n",
       "      <td>CA</td>\n",
       "      <td>DB Admin</td>\n",
       "      <td>12370</td>\n",
       "      <td>93960</td>\n",
       "    </tr>\n",
       "    <tr>\n",
       "      <td>2016</td>\n",
       "      <td>NY</td>\n",
       "      <td>Web Dev</td>\n",
       "      <td>11410</td>\n",
       "      <td>81140</td>\n",
       "    </tr>\n",
       "    <tr>\n",
       "      <td>2016</td>\n",
       "      <td>NY</td>\n",
       "      <td>DB Admin</td>\n",
       "      <td>6650</td>\n",
       "      <td>91720</td>\n",
       "    </tr>\n",
       "  </tbody>\n",
       "</table>\n",
       "</div>"
      ],
      "text/plain": [
       "     State     Title  Employment  Salary\n",
       "Year                                    \n",
       "2018    CA   Web Dev       20170   86160\n",
       "2018    CA  DB Admin       10970  100890\n",
       "2018    NY   Web Dev       12030   79880\n",
       "2018    NY  DB Admin        7100   99000\n",
       "2017    CA   Web Dev       21150   84270\n",
       "2017    CA  DB Admin       12030   95630\n",
       "2017    NY   Web Dev       11900   82360\n",
       "2017    NY  DB Admin        7170   94330\n",
       "2016    CA   Web Dev       22650   82930\n",
       "2016    CA  DB Admin       12370   93960\n",
       "2016    NY   Web Dev       11410   81140\n",
       "2016    NY  DB Admin        6650   91720"
      ]
     },
     "execution_count": 67,
     "metadata": {},
     "output_type": "execute_result"
    }
   ],
   "source": [
    "tmp"
   ]
  },
  {
   "cell_type": "code",
   "execution_count": 69,
   "metadata": {},
   "outputs": [
    {
     "data": {
      "text/html": [
       "<div>\n",
       "<style scoped>\n",
       "    .dataframe tbody tr th:only-of-type {\n",
       "        vertical-align: middle;\n",
       "    }\n",
       "\n",
       "    .dataframe tbody tr th {\n",
       "        vertical-align: top;\n",
       "    }\n",
       "\n",
       "    .dataframe thead th {\n",
       "        text-align: right;\n",
       "    }\n",
       "</style>\n",
       "<table border=\"1\" class=\"dataframe\">\n",
       "  <thead>\n",
       "    <tr style=\"text-align: right;\">\n",
       "      <th></th>\n",
       "      <th>State</th>\n",
       "      <th>Title</th>\n",
       "      <th>Employment</th>\n",
       "      <th>Salary</th>\n",
       "    </tr>\n",
       "    <tr>\n",
       "      <th>Year</th>\n",
       "      <th></th>\n",
       "      <th></th>\n",
       "      <th></th>\n",
       "      <th></th>\n",
       "    </tr>\n",
       "  </thead>\n",
       "  <tbody>\n",
       "    <tr>\n",
       "      <td>2016</td>\n",
       "      <td>CA</td>\n",
       "      <td>Web Dev</td>\n",
       "      <td>22650</td>\n",
       "      <td>82930</td>\n",
       "    </tr>\n",
       "    <tr>\n",
       "      <td>2016</td>\n",
       "      <td>CA</td>\n",
       "      <td>DB Admin</td>\n",
       "      <td>12370</td>\n",
       "      <td>93960</td>\n",
       "    </tr>\n",
       "    <tr>\n",
       "      <td>2016</td>\n",
       "      <td>NY</td>\n",
       "      <td>Web Dev</td>\n",
       "      <td>11410</td>\n",
       "      <td>81140</td>\n",
       "    </tr>\n",
       "    <tr>\n",
       "      <td>2016</td>\n",
       "      <td>NY</td>\n",
       "      <td>DB Admin</td>\n",
       "      <td>6650</td>\n",
       "      <td>91720</td>\n",
       "    </tr>\n",
       "  </tbody>\n",
       "</table>\n",
       "</div>"
      ],
      "text/plain": [
       "     State     Title  Employment  Salary\n",
       "Year                                    \n",
       "2016    CA   Web Dev       22650   82930\n",
       "2016    CA  DB Admin       12370   93960\n",
       "2016    NY   Web Dev       11410   81140\n",
       "2016    NY  DB Admin        6650   91720"
      ]
     },
     "execution_count": 69,
     "metadata": {},
     "output_type": "execute_result"
    }
   ],
   "source": [
    "tmp.loc[2016]"
   ]
  },
  {
   "cell_type": "code",
   "execution_count": 70,
   "metadata": {},
   "outputs": [],
   "source": [
    "df = df.set_index(['Year', 'State'])"
   ]
  },
  {
   "cell_type": "code",
   "execution_count": 71,
   "metadata": {},
   "outputs": [
    {
     "data": {
      "text/html": [
       "<div>\n",
       "<style scoped>\n",
       "    .dataframe tbody tr th:only-of-type {\n",
       "        vertical-align: middle;\n",
       "    }\n",
       "\n",
       "    .dataframe tbody tr th {\n",
       "        vertical-align: top;\n",
       "    }\n",
       "\n",
       "    .dataframe thead th {\n",
       "        text-align: right;\n",
       "    }\n",
       "</style>\n",
       "<table border=\"1\" class=\"dataframe\">\n",
       "  <thead>\n",
       "    <tr style=\"text-align: right;\">\n",
       "      <th></th>\n",
       "      <th></th>\n",
       "      <th>Title</th>\n",
       "      <th>Employment</th>\n",
       "      <th>Salary</th>\n",
       "    </tr>\n",
       "    <tr>\n",
       "      <th>Year</th>\n",
       "      <th>State</th>\n",
       "      <th></th>\n",
       "      <th></th>\n",
       "      <th></th>\n",
       "    </tr>\n",
       "  </thead>\n",
       "  <tbody>\n",
       "    <tr>\n",
       "      <td rowspan=\"4\" valign=\"top\">2018</td>\n",
       "      <td>CA</td>\n",
       "      <td>Web Dev</td>\n",
       "      <td>20170</td>\n",
       "      <td>86160</td>\n",
       "    </tr>\n",
       "    <tr>\n",
       "      <td>CA</td>\n",
       "      <td>DB Admin</td>\n",
       "      <td>10970</td>\n",
       "      <td>100890</td>\n",
       "    </tr>\n",
       "    <tr>\n",
       "      <td>NY</td>\n",
       "      <td>Web Dev</td>\n",
       "      <td>12030</td>\n",
       "      <td>79880</td>\n",
       "    </tr>\n",
       "    <tr>\n",
       "      <td>NY</td>\n",
       "      <td>DB Admin</td>\n",
       "      <td>7100</td>\n",
       "      <td>99000</td>\n",
       "    </tr>\n",
       "    <tr>\n",
       "      <td rowspan=\"4\" valign=\"top\">2017</td>\n",
       "      <td>CA</td>\n",
       "      <td>Web Dev</td>\n",
       "      <td>21150</td>\n",
       "      <td>84270</td>\n",
       "    </tr>\n",
       "    <tr>\n",
       "      <td>CA</td>\n",
       "      <td>DB Admin</td>\n",
       "      <td>12030</td>\n",
       "      <td>95630</td>\n",
       "    </tr>\n",
       "    <tr>\n",
       "      <td>NY</td>\n",
       "      <td>Web Dev</td>\n",
       "      <td>11900</td>\n",
       "      <td>82360</td>\n",
       "    </tr>\n",
       "    <tr>\n",
       "      <td>NY</td>\n",
       "      <td>DB Admin</td>\n",
       "      <td>7170</td>\n",
       "      <td>94330</td>\n",
       "    </tr>\n",
       "    <tr>\n",
       "      <td rowspan=\"4\" valign=\"top\">2016</td>\n",
       "      <td>CA</td>\n",
       "      <td>Web Dev</td>\n",
       "      <td>22650</td>\n",
       "      <td>82930</td>\n",
       "    </tr>\n",
       "    <tr>\n",
       "      <td>CA</td>\n",
       "      <td>DB Admin</td>\n",
       "      <td>12370</td>\n",
       "      <td>93960</td>\n",
       "    </tr>\n",
       "    <tr>\n",
       "      <td>NY</td>\n",
       "      <td>Web Dev</td>\n",
       "      <td>11410</td>\n",
       "      <td>81140</td>\n",
       "    </tr>\n",
       "    <tr>\n",
       "      <td>NY</td>\n",
       "      <td>DB Admin</td>\n",
       "      <td>6650</td>\n",
       "      <td>91720</td>\n",
       "    </tr>\n",
       "  </tbody>\n",
       "</table>\n",
       "</div>"
      ],
      "text/plain": [
       "               Title  Employment  Salary\n",
       "Year State                              \n",
       "2018 CA      Web Dev       20170   86160\n",
       "     CA     DB Admin       10970  100890\n",
       "     NY      Web Dev       12030   79880\n",
       "     NY     DB Admin        7100   99000\n",
       "2017 CA      Web Dev       21150   84270\n",
       "     CA     DB Admin       12030   95630\n",
       "     NY      Web Dev       11900   82360\n",
       "     NY     DB Admin        7170   94330\n",
       "2016 CA      Web Dev       22650   82930\n",
       "     CA     DB Admin       12370   93960\n",
       "     NY      Web Dev       11410   81140\n",
       "     NY     DB Admin        6650   91720"
      ]
     },
     "execution_count": 71,
     "metadata": {},
     "output_type": "execute_result"
    }
   ],
   "source": [
    "df"
   ]
  },
  {
   "cell_type": "code",
   "execution_count": 73,
   "metadata": {},
   "outputs": [
    {
     "name": "stderr",
     "output_type": "stream",
     "text": [
      "/usr/local/lib/python3.7/site-packages/ipykernel_launcher.py:1: PerformanceWarning: indexing past lexsort depth may impact performance.\n",
      "  \"\"\"Entry point for launching an IPython kernel.\n"
     ]
    },
    {
     "data": {
      "text/html": [
       "<div>\n",
       "<style scoped>\n",
       "    .dataframe tbody tr th:only-of-type {\n",
       "        vertical-align: middle;\n",
       "    }\n",
       "\n",
       "    .dataframe tbody tr th {\n",
       "        vertical-align: top;\n",
       "    }\n",
       "\n",
       "    .dataframe thead th {\n",
       "        text-align: right;\n",
       "    }\n",
       "</style>\n",
       "<table border=\"1\" class=\"dataframe\">\n",
       "  <thead>\n",
       "    <tr style=\"text-align: right;\">\n",
       "      <th></th>\n",
       "      <th></th>\n",
       "      <th>Title</th>\n",
       "      <th>Employment</th>\n",
       "      <th>Salary</th>\n",
       "    </tr>\n",
       "    <tr>\n",
       "      <th>Year</th>\n",
       "      <th>State</th>\n",
       "      <th></th>\n",
       "      <th></th>\n",
       "      <th></th>\n",
       "    </tr>\n",
       "  </thead>\n",
       "  <tbody>\n",
       "    <tr>\n",
       "      <td rowspan=\"2\" valign=\"top\">2016</td>\n",
       "      <td>CA</td>\n",
       "      <td>Web Dev</td>\n",
       "      <td>22650</td>\n",
       "      <td>82930</td>\n",
       "    </tr>\n",
       "    <tr>\n",
       "      <td>CA</td>\n",
       "      <td>DB Admin</td>\n",
       "      <td>12370</td>\n",
       "      <td>93960</td>\n",
       "    </tr>\n",
       "  </tbody>\n",
       "</table>\n",
       "</div>"
      ],
      "text/plain": [
       "               Title  Employment  Salary\n",
       "Year State                              \n",
       "2016 CA      Web Dev       22650   82930\n",
       "     CA     DB Admin       12370   93960"
      ]
     },
     "execution_count": 73,
     "metadata": {},
     "output_type": "execute_result"
    }
   ],
   "source": [
    "df.loc[(2016, 'CA')]"
   ]
  },
  {
   "cell_type": "code",
   "execution_count": 74,
   "metadata": {},
   "outputs": [
    {
     "data": {
      "text/plain": [
       "FrozenList(['Year', 'State'])"
      ]
     },
     "execution_count": 74,
     "metadata": {},
     "output_type": "execute_result"
    }
   ],
   "source": [
    "df.index.names"
   ]
  },
  {
   "cell_type": "code",
   "execution_count": 75,
   "metadata": {},
   "outputs": [
    {
     "data": {
      "text/html": [
       "<div>\n",
       "<style scoped>\n",
       "    .dataframe tbody tr th:only-of-type {\n",
       "        vertical-align: middle;\n",
       "    }\n",
       "\n",
       "    .dataframe tbody tr th {\n",
       "        vertical-align: top;\n",
       "    }\n",
       "\n",
       "    .dataframe thead th {\n",
       "        text-align: right;\n",
       "    }\n",
       "</style>\n",
       "<table border=\"1\" class=\"dataframe\">\n",
       "  <thead>\n",
       "    <tr style=\"text-align: right;\">\n",
       "      <th></th>\n",
       "      <th>Employment</th>\n",
       "      <th>Salary</th>\n",
       "    </tr>\n",
       "    <tr>\n",
       "      <th>Year</th>\n",
       "      <th></th>\n",
       "      <th></th>\n",
       "    </tr>\n",
       "  </thead>\n",
       "  <tbody>\n",
       "    <tr>\n",
       "      <td>2018</td>\n",
       "      <td>12567.5</td>\n",
       "      <td>91482.5</td>\n",
       "    </tr>\n",
       "    <tr>\n",
       "      <td>2017</td>\n",
       "      <td>13062.5</td>\n",
       "      <td>89147.5</td>\n",
       "    </tr>\n",
       "    <tr>\n",
       "      <td>2016</td>\n",
       "      <td>13270.0</td>\n",
       "      <td>87437.5</td>\n",
       "    </tr>\n",
       "  </tbody>\n",
       "</table>\n",
       "</div>"
      ],
      "text/plain": [
       "      Employment   Salary\n",
       "Year                     \n",
       "2018     12567.5  91482.5\n",
       "2017     13062.5  89147.5\n",
       "2016     13270.0  87437.5"
      ]
     },
     "execution_count": 75,
     "metadata": {},
     "output_type": "execute_result"
    }
   ],
   "source": [
    "df.mean(level='Year')"
   ]
  },
  {
   "cell_type": "code",
   "execution_count": 76,
   "metadata": {},
   "outputs": [
    {
     "data": {
      "text/html": [
       "<div>\n",
       "<style scoped>\n",
       "    .dataframe tbody tr th:only-of-type {\n",
       "        vertical-align: middle;\n",
       "    }\n",
       "\n",
       "    .dataframe tbody tr th {\n",
       "        vertical-align: top;\n",
       "    }\n",
       "\n",
       "    .dataframe thead th {\n",
       "        text-align: right;\n",
       "    }\n",
       "</style>\n",
       "<table border=\"1\" class=\"dataframe\">\n",
       "  <thead>\n",
       "    <tr style=\"text-align: right;\">\n",
       "      <th></th>\n",
       "      <th>Title</th>\n",
       "      <th>Employment</th>\n",
       "      <th>Salary</th>\n",
       "    </tr>\n",
       "    <tr>\n",
       "      <th>State</th>\n",
       "      <th></th>\n",
       "      <th></th>\n",
       "      <th></th>\n",
       "    </tr>\n",
       "  </thead>\n",
       "  <tbody>\n",
       "    <tr>\n",
       "      <td>CA</td>\n",
       "      <td>6</td>\n",
       "      <td>6</td>\n",
       "      <td>6</td>\n",
       "    </tr>\n",
       "    <tr>\n",
       "      <td>NY</td>\n",
       "      <td>6</td>\n",
       "      <td>6</td>\n",
       "      <td>6</td>\n",
       "    </tr>\n",
       "  </tbody>\n",
       "</table>\n",
       "</div>"
      ],
      "text/plain": [
       "       Title  Employment  Salary\n",
       "State                           \n",
       "CA         6           6       6\n",
       "NY         6           6       6"
      ]
     },
     "execution_count": 76,
     "metadata": {},
     "output_type": "execute_result"
    }
   ],
   "source": [
    "df.count(level='State')"
   ]
  },
  {
   "cell_type": "code",
   "execution_count": 78,
   "metadata": {},
   "outputs": [],
   "source": [
    "df = pd.DataFrame(data, columns=cols)\n",
    "grouped = df['Salary'].groupby(df['Year'])\n",
    "\n"
   ]
  },
  {
   "cell_type": "code",
   "execution_count": 79,
   "metadata": {},
   "outputs": [
    {
     "data": {
      "text/plain": [
       "<pandas.core.groupby.generic.SeriesGroupBy object at 0x11fb20ed0>"
      ]
     },
     "execution_count": 79,
     "metadata": {},
     "output_type": "execute_result"
    }
   ],
   "source": [
    "grouped"
   ]
  },
  {
   "cell_type": "code",
   "execution_count": 80,
   "metadata": {},
   "outputs": [
    {
     "data": {
      "text/plain": [
       "Year\n",
       "2016    87437.5\n",
       "2017    89147.5\n",
       "2018    91482.5\n",
       "Name: Salary, dtype: float64"
      ]
     },
     "execution_count": 80,
     "metadata": {},
     "output_type": "execute_result"
    }
   ],
   "source": [
    "grouped.mean()"
   ]
  },
  {
   "cell_type": "code",
   "execution_count": 81,
   "metadata": {},
   "outputs": [
    {
     "data": {
      "text/plain": [
       "Year\n",
       "2016    87437.5\n",
       "2017    89147.5\n",
       "2018    91482.5\n",
       "Name: Salary, dtype: float64"
      ]
     },
     "execution_count": 81,
     "metadata": {},
     "output_type": "execute_result"
    }
   ],
   "source": [
    "df['Salary'].groupby(df['Year']).mean()"
   ]
  },
  {
   "cell_type": "code",
   "execution_count": 82,
   "metadata": {},
   "outputs": [
    {
     "data": {
      "text/html": [
       "<div>\n",
       "<style scoped>\n",
       "    .dataframe tbody tr th:only-of-type {\n",
       "        vertical-align: middle;\n",
       "    }\n",
       "\n",
       "    .dataframe tbody tr th {\n",
       "        vertical-align: top;\n",
       "    }\n",
       "\n",
       "    .dataframe thead th {\n",
       "        text-align: right;\n",
       "    }\n",
       "</style>\n",
       "<table border=\"1\" class=\"dataframe\">\n",
       "  <thead>\n",
       "    <tr style=\"text-align: right;\">\n",
       "      <th></th>\n",
       "      <th>Employment</th>\n",
       "      <th>Salary</th>\n",
       "    </tr>\n",
       "    <tr>\n",
       "      <th>Year</th>\n",
       "      <th></th>\n",
       "      <th></th>\n",
       "    </tr>\n",
       "  </thead>\n",
       "  <tbody>\n",
       "    <tr>\n",
       "      <td>2016</td>\n",
       "      <td>13270.0</td>\n",
       "      <td>87437.5</td>\n",
       "    </tr>\n",
       "    <tr>\n",
       "      <td>2017</td>\n",
       "      <td>13062.5</td>\n",
       "      <td>89147.5</td>\n",
       "    </tr>\n",
       "    <tr>\n",
       "      <td>2018</td>\n",
       "      <td>12567.5</td>\n",
       "      <td>91482.5</td>\n",
       "    </tr>\n",
       "  </tbody>\n",
       "</table>\n",
       "</div>"
      ],
      "text/plain": [
       "      Employment   Salary\n",
       "Year                     \n",
       "2016     13270.0  87437.5\n",
       "2017     13062.5  89147.5\n",
       "2018     12567.5  91482.5"
      ]
     },
     "execution_count": 82,
     "metadata": {},
     "output_type": "execute_result"
    }
   ],
   "source": [
    "df.groupby(df['Year']).mean()"
   ]
  },
  {
   "cell_type": "code",
   "execution_count": null,
   "metadata": {},
   "outputs": [],
   "source": []
  }
 ],
 "metadata": {
  "kernelspec": {
   "display_name": "Python 3",
   "language": "python",
   "name": "python3"
  },
  "language_info": {
   "codemirror_mode": {
    "name": "ipython",
    "version": 3
   },
   "file_extension": ".py",
   "mimetype": "text/x-python",
   "name": "python",
   "nbconvert_exporter": "python",
   "pygments_lexer": "ipython3",
   "version": "3.7.4"
  }
 },
 "nbformat": 4,
 "nbformat_minor": 4
}
